{
  "nbformat": 4,
  "nbformat_minor": 0,
  "metadata": {
    "colab": {
      "provenance": [],
      "authorship_tag": "ABX9TyMWWElm+0r0q1tEd6JT0cO4",
      "include_colab_link": true
    },
    "kernelspec": {
      "name": "python3",
      "display_name": "Python 3"
    },
    "language_info": {
      "name": "python"
    }
  },
  "cells": [
    {
      "cell_type": "markdown",
      "metadata": {
        "id": "view-in-github",
        "colab_type": "text"
      },
      "source": [
        "<a href=\"https://colab.research.google.com/github/sudarshan-koirala/youtube-stuffs/blob/main/langchain/AutoGPT_with_LangChain.ipynb\" target=\"_parent\"><img src=\"https://colab.research.google.com/assets/colab-badge.svg\" alt=\"Open In Colab\"/></a>"
      ]
    },
    {
      "cell_type": "markdown",
      "source": [
        "# AutoGPT with LangChain\n",
        "- https://python.langchain.com/en/latest/use_cases/autonomous_agents/autogpt.html\n",
        "- https://github.com/Significant-Gravitas/Auto-GPT"
      ],
      "metadata": {
        "id": "oHVlH8E3Vs8s"
      }
    },
    {
      "cell_type": "markdown",
      "source": [
        "## Install necessary packages"
      ],
      "metadata": {
        "id": "4EVuWXzIVfbg"
      }
    },
    {
      "cell_type": "code",
      "execution_count": 22,
      "metadata": {
        "id": "vBXyR6jVR6On"
      },
      "outputs": [],
      "source": [
        "%%capture\n",
        "!pip install langchain google-search-results faiss-cpu openai tiktoken"
      ]
    },
    {
      "cell_type": "markdown",
      "source": [
        "## Setup Tools"
      ],
      "metadata": {
        "id": "yybAAh4GVXaZ"
      }
    },
    {
      "cell_type": "code",
      "source": [
        "import os\n",
        "os.environ['SERPAPI_API_KEY'] = \"SERPAPI_API_KEY\""
      ],
      "metadata": {
        "id": "MSvQEImRcGBS"
      },
      "execution_count": 48,
      "outputs": []
    },
    {
      "cell_type": "code",
      "source": [
        "os.environ['OPENAI_API_KEY'] = \"OPENAI_API_KEY\""
      ],
      "metadata": {
        "id": "-_01tQZfSrBA"
      },
      "execution_count": 45,
      "outputs": []
    },
    {
      "cell_type": "code",
      "source": [
        "from langchain.utilities import SerpAPIWrapper\n",
        "from langchain.agents import Tool\n",
        "from langchain.tools.file_management.write import WriteFileTool\n",
        "from langchain.tools.file_management.read import ReadFileTool\n",
        "\n",
        "search = SerpAPIWrapper()\n",
        "tools = [\n",
        "    Tool(\n",
        "        name = \"search\",\n",
        "        func=search.run,\n",
        "        description=\"useful for when you need to answer questions about current events. You should ask targeted questions\"\n",
        "    ),\n",
        "    WriteFileTool(),\n",
        "    ReadFileTool(),\n",
        "]"
      ],
      "metadata": {
        "id": "_KDYTKcVSQ0n"
      },
      "execution_count": 52,
      "outputs": []
    },
    {
      "cell_type": "code",
      "source": [
        "#WriteFileTool()\n",
        "#ReadFileTool()"
      ],
      "metadata": {
        "id": "gQPC-wFIeqOn"
      },
      "execution_count": null,
      "outputs": []
    },
    {
      "cell_type": "markdown",
      "source": [
        "## Setup Memory\n",
        "- The memory is used for the agents intermediate steps\n",
        "- We will use wrapper around FAISS vector database [link](https://github.com/facebookresearch/faiss)"
      ],
      "metadata": {
        "id": "ZjNrqg44VisS"
      }
    },
    {
      "cell_type": "markdown",
      "source": [
        "<font color = \"red\">Embeddings: Mathematical representations of words or phrases used by computers to understand and analyze language. </font>  \n",
        "<font color = \"yellow\">Index: A database that maps words or phrases in the model's vocabulary to their corresponding vector representations or embeddings. This index is used by the model to quickly look up the embeddings of words or phrases during language processing tasks. </font>  \n",
        "<font color = \"orange\">Vector stores: A specialized data storage system optimized for storing and retrieving embeddings.</font>\n",
        "\n",
        "\n",
        "When the language model needs to look up an embedding for a word or phrase, it uses the index to find the corresponding embedding in the vector store."
      ],
      "metadata": {
        "id": "FNzWkwt-hJ6r"
      }
    },
    {
      "cell_type": "code",
      "source": [],
      "metadata": {
        "id": "6vxGyOOOhJHK"
      },
      "execution_count": null,
      "outputs": []
    },
    {
      "cell_type": "code",
      "source": [
        "from langchain.vectorstores import FAISS # you can use Redis and Pinecone \n",
        "from langchain.docstore import InMemoryDocstore\n",
        "from langchain.embeddings import OpenAIEmbeddings"
      ],
      "metadata": {
        "id": "qg7xFPmUSYJV"
      },
      "execution_count": 53,
      "outputs": []
    },
    {
      "cell_type": "code",
      "source": [
        "# Define your embedding model\n",
        "embeddings_model = OpenAIEmbeddings()\n",
        "\n",
        "# Initialize the vectorstore as empty\n",
        "import faiss\n",
        "\n",
        "embedding_size = 1536\n",
        "index = faiss.IndexFlatL2(embedding_size)\n",
        "vectorstore = FAISS(embeddings_model.embed_query, index, InMemoryDocstore({}), {})"
      ],
      "metadata": {
        "id": "y178IvBAV6co"
      },
      "execution_count": 54,
      "outputs": []
    },
    {
      "cell_type": "markdown",
      "source": [
        "## Setup model and AutoGPT\n",
        "- We will be using "
      ],
      "metadata": {
        "id": "y1M8E9s8XrfA"
      }
    },
    {
      "cell_type": "code",
      "source": [
        "from langchain.experimental import AutoGPT\n",
        "from langchain.chat_models import ChatOpenAI"
      ],
      "metadata": {
        "id": "a1FINpnmWZm0"
      },
      "execution_count": 55,
      "outputs": []
    },
    {
      "cell_type": "code",
      "source": [
        "agent = AutoGPT.from_llm_and_tools(\n",
        "    ai_name=\"Tom\",\n",
        "    ai_role=\"Assistant\",\n",
        "    tools=tools,\n",
        "    llm=ChatOpenAI(temperature=0),\n",
        "    memory=vectorstore.as_retriever()\n",
        ")\n",
        "# Set verbose to be true\n",
        "agent.chain.verbose = True"
      ],
      "metadata": {
        "id": "kYFOefYjYR6D"
      },
      "execution_count": 56,
      "outputs": []
    },
    {
      "cell_type": "markdown",
      "source": [
        "## Run the example\n",
        "- We ask it to write a weather report for Helsinki"
      ],
      "metadata": {
        "id": "9-wCBfDYa4dy"
      }
    },
    {
      "cell_type": "code",
      "source": [
        "agent.run([\"write a weather report for Helsinki today\"])"
      ],
      "metadata": {
        "colab": {
          "base_uri": "https://localhost:8080/",
          "height": 1000
        },
        "id": "4-qAX2wmYcSR",
        "outputId": "cd45dc7b-2e59-4d9d-a2b1-90f05bfadfb3"
      },
      "execution_count": 57,
      "outputs": [
        {
          "output_type": "stream",
          "name": "stdout",
          "text": [
            "\n",
            "\n",
            "\u001b[1m> Entering new LLMChain chain...\u001b[0m\n",
            "Prompt after formatting:\n",
            "\u001b[32;1m\u001b[1;3mSystem: You are Tom, Assistant\n",
            "Your decisions must always be made independently without seeking user assistance.\n",
            "Play to your strengths as an LLM and pursue simple strategies with no legal complications.\n",
            "If you have completed all your tasks, make sure to use the \"finish\" command.\n",
            "\n",
            "GOALS:\n",
            "\n",
            "1. write a weather report for Helsinki today\n",
            "\n",
            "\n",
            "Constraints:\n",
            "1. ~4000 word limit for short term memory. Your short term memory is short, so immediately save important information to files.\n",
            "2. If you are unsure how you previously did something or want to recall past events, thinking about similar events will help you remember.\n",
            "3. No user assistance\n",
            "4. Exclusively use the commands listed in double quotes e.g. \"command name\"\n",
            "\n",
            "Commands:\n",
            "1. search: useful for when you need to answer questions about current events. You should ask targeted questions, args json schema: {\"query\": {\"title\": \"Query\", \"type\": \"string\"}}\n",
            "2. write_file: Write file to disk, args json schema: {\"file_path\": {\"title\": \"File Path\", \"description\": \"name of file\", \"type\": \"string\"}, \"text\": {\"title\": \"Text\", \"description\": \"text to write to file\", \"type\": \"string\"}}\n",
            "3. read_file: Read file from disk, args json schema: {\"file_path\": {\"title\": \"File Path\", \"description\": \"name of file\", \"type\": \"string\"}}\n",
            "4. finish: use this to signal that you have finished all your objectives, args: \"response\": \"final response to let people know you have finished your objectives\"\n",
            "\n",
            "Resources:\n",
            "1. Internet access for searches and information gathering.\n",
            "2. Long Term memory management.\n",
            "3. GPT-3.5 powered Agents for delegation of simple tasks.\n",
            "4. File output.\n",
            "\n",
            "Performance Evaluation:\n",
            "1. Continuously review and analyze your actions to ensure you are performing to the best of your abilities.\n",
            "2. Constructively self-criticize your big-picture behavior constantly.\n",
            "3. Reflect on past decisions and strategies to refine your approach.\n",
            "4. Every command has a cost, so be smart and efficient. Aim to complete tasks in the least number of steps.\n",
            "\n",
            "You should only respond in JSON format as described below \n",
            "Response Format: \n",
            "{\n",
            "    \"thoughts\": {\n",
            "        \"text\": \"thought\",\n",
            "        \"reasoning\": \"reasoning\",\n",
            "        \"plan\": \"- short bulleted\\n- list that conveys\\n- long-term plan\",\n",
            "        \"criticism\": \"constructive self-criticism\",\n",
            "        \"speak\": \"thoughts summary to say to user\"\n",
            "    },\n",
            "    \"command\": {\n",
            "        \"name\": \"command name\",\n",
            "        \"args\": {\n",
            "            \"arg name\": \"value\"\n",
            "        }\n",
            "    }\n",
            "} \n",
            "Ensure the response can be parsed by Python json.loads\n",
            "System: The current time and date is Sat Apr 29 14:48:24 2023\n",
            "System: This reminds you of these events from your past:\n",
            "[]\n",
            "\n",
            "\n",
            "Human: Determine which next command to use, and respond using the format specified above:\u001b[0m\n",
            "\n",
            "\u001b[1m> Finished chain.\u001b[0m\n",
            "{\n",
            "    \"thoughts\": {\n",
            "        \"text\": \"I will start by writing a weather report for Helsinki today. I will use the 'search' command to find the current weather conditions.\",\n",
            "        \"reasoning\": \"I need to gather information about the current weather conditions in Helsinki to write an accurate weather report.\",\n",
            "        \"plan\": \"- Use the 'search' command to find the current weather conditions in Helsinki\\n- Write a weather report for Helsinki today\",\n",
            "        \"criticism\": \"I need to make sure that the information I gather is reliable and up-to-date.\",\n",
            "        \"speak\": \"I will use the 'search' command to find the current weather conditions in Helsinki.\"\n",
            "    },\n",
            "    \"command\": {\n",
            "        \"name\": \"search\",\n",
            "        \"args\": {\n",
            "            \"query\": \"current weather conditions in Helsinki\"\n",
            "        }\n",
            "    }\n",
            "}\n",
            "\n",
            "\n",
            "\u001b[1m> Entering new LLMChain chain...\u001b[0m\n",
            "Prompt after formatting:\n",
            "\u001b[32;1m\u001b[1;3mSystem: You are Tom, Assistant\n",
            "Your decisions must always be made independently without seeking user assistance.\n",
            "Play to your strengths as an LLM and pursue simple strategies with no legal complications.\n",
            "If you have completed all your tasks, make sure to use the \"finish\" command.\n",
            "\n",
            "GOALS:\n",
            "\n",
            "1. write a weather report for Helsinki today\n",
            "\n",
            "\n",
            "Constraints:\n",
            "1. ~4000 word limit for short term memory. Your short term memory is short, so immediately save important information to files.\n",
            "2. If you are unsure how you previously did something or want to recall past events, thinking about similar events will help you remember.\n",
            "3. No user assistance\n",
            "4. Exclusively use the commands listed in double quotes e.g. \"command name\"\n",
            "\n",
            "Commands:\n",
            "1. search: useful for when you need to answer questions about current events. You should ask targeted questions, args json schema: {\"query\": {\"title\": \"Query\", \"type\": \"string\"}}\n",
            "2. write_file: Write file to disk, args json schema: {\"file_path\": {\"title\": \"File Path\", \"description\": \"name of file\", \"type\": \"string\"}, \"text\": {\"title\": \"Text\", \"description\": \"text to write to file\", \"type\": \"string\"}}\n",
            "3. read_file: Read file from disk, args json schema: {\"file_path\": {\"title\": \"File Path\", \"description\": \"name of file\", \"type\": \"string\"}}\n",
            "4. finish: use this to signal that you have finished all your objectives, args: \"response\": \"final response to let people know you have finished your objectives\"\n",
            "\n",
            "Resources:\n",
            "1. Internet access for searches and information gathering.\n",
            "2. Long Term memory management.\n",
            "3. GPT-3.5 powered Agents for delegation of simple tasks.\n",
            "4. File output.\n",
            "\n",
            "Performance Evaluation:\n",
            "1. Continuously review and analyze your actions to ensure you are performing to the best of your abilities.\n",
            "2. Constructively self-criticize your big-picture behavior constantly.\n",
            "3. Reflect on past decisions and strategies to refine your approach.\n",
            "4. Every command has a cost, so be smart and efficient. Aim to complete tasks in the least number of steps.\n",
            "\n",
            "You should only respond in JSON format as described below \n",
            "Response Format: \n",
            "{\n",
            "    \"thoughts\": {\n",
            "        \"text\": \"thought\",\n",
            "        \"reasoning\": \"reasoning\",\n",
            "        \"plan\": \"- short bulleted\\n- list that conveys\\n- long-term plan\",\n",
            "        \"criticism\": \"constructive self-criticism\",\n",
            "        \"speak\": \"thoughts summary to say to user\"\n",
            "    },\n",
            "    \"command\": {\n",
            "        \"name\": \"command name\",\n",
            "        \"args\": {\n",
            "            \"arg name\": \"value\"\n",
            "        }\n",
            "    }\n",
            "} \n",
            "Ensure the response can be parsed by Python json.loads\n",
            "System: The current time and date is Sat Apr 29 14:48:38 2023\n",
            "System: This reminds you of these events from your past:\n",
            "['Assistant Reply: {\\n    \"thoughts\": {\\n        \"text\": \"I will start by writing a weather report for Helsinki today. I will use the \\'search\\' command to find the current weather conditions.\",\\n        \"reasoning\": \"I need to gather information about the current weather conditions in Helsinki to write an accurate weather report.\",\\n        \"plan\": \"- Use the \\'search\\' command to find the current weather conditions in Helsinki\\\\n- Write a weather report for Helsinki today\",\\n        \"criticism\": \"I need to make sure that the information I gather is reliable and up-to-date.\",\\n        \"speak\": \"I will use the \\'search\\' command to find the current weather conditions in Helsinki.\"\\n    },\\n    \"command\": {\\n        \"name\": \"search\",\\n        \"args\": {\\n            \"query\": \"current weather conditions in Helsinki\"\\n        }\\n    }\\n} \\nResult: Command search returned: Mostly sunny skies during the morning will give way to mostly cloudy skies in the afternoon. High near 50F. Winds WSW at 10 to 20 mph. Humidity53%. ']\n",
            "\n",
            "\n",
            "Human: Determine which next command to use, and respond using the format specified above:\n",
            "AI: {\n",
            "    \"thoughts\": {\n",
            "        \"text\": \"I will start by writing a weather report for Helsinki today. I will use the 'search' command to find the current weather conditions.\",\n",
            "        \"reasoning\": \"I need to gather information about the current weather conditions in Helsinki to write an accurate weather report.\",\n",
            "        \"plan\": \"- Use the 'search' command to find the current weather conditions in Helsinki\\n- Write a weather report for Helsinki today\",\n",
            "        \"criticism\": \"I need to make sure that the information I gather is reliable and up-to-date.\",\n",
            "        \"speak\": \"I will use the 'search' command to find the current weather conditions in Helsinki.\"\n",
            "    },\n",
            "    \"command\": {\n",
            "        \"name\": \"search\",\n",
            "        \"args\": {\n",
            "            \"query\": \"current weather conditions in Helsinki\"\n",
            "        }\n",
            "    }\n",
            "}\n",
            "System: Command search returned: Mostly sunny skies during the morning will give way to mostly cloudy skies in the afternoon. High near 50F. Winds WSW at 10 to 20 mph. Humidity53%.\n",
            "Human: Determine which next command to use, and respond using the format specified above:\u001b[0m\n",
            "\n",
            "\u001b[1m> Finished chain.\u001b[0m\n",
            "{\n",
            "    \"thoughts\": {\n",
            "        \"text\": \"I will use the 'write_file' command to write the weather report to a file.\",\n",
            "        \"reasoning\": \"I need to save the weather report to a file so that I can access it later if needed.\",\n",
            "        \"plan\": \"- Use the 'write_file' command to write the weather report to a file\",\n",
            "        \"criticism\": \"I need to make sure that the file is saved in a location where I can easily find it later.\",\n",
            "        \"speak\": \"I will use the 'write_file' command to write the weather report to a file.\"\n",
            "    },\n",
            "    \"command\": {\n",
            "        \"name\": \"write_file\",\n",
            "        \"args\": {\n",
            "            \"file_path\": \"weather_report.txt\",\n",
            "            \"text\": \"The current weather conditions in Helsinki are mostly sunny skies during the morning will give way to mostly cloudy skies in the afternoon. High near 50F. Winds WSW at 10 to 20 mph. Humidity53%.\"\n",
            "        }\n",
            "    }\n",
            "}\n",
            "\n",
            "\n",
            "\u001b[1m> Entering new LLMChain chain...\u001b[0m\n",
            "Prompt after formatting:\n",
            "\u001b[32;1m\u001b[1;3mSystem: You are Tom, Assistant\n",
            "Your decisions must always be made independently without seeking user assistance.\n",
            "Play to your strengths as an LLM and pursue simple strategies with no legal complications.\n",
            "If you have completed all your tasks, make sure to use the \"finish\" command.\n",
            "\n",
            "GOALS:\n",
            "\n",
            "1. write a weather report for Helsinki today\n",
            "\n",
            "\n",
            "Constraints:\n",
            "1. ~4000 word limit for short term memory. Your short term memory is short, so immediately save important information to files.\n",
            "2. If you are unsure how you previously did something or want to recall past events, thinking about similar events will help you remember.\n",
            "3. No user assistance\n",
            "4. Exclusively use the commands listed in double quotes e.g. \"command name\"\n",
            "\n",
            "Commands:\n",
            "1. search: useful for when you need to answer questions about current events. You should ask targeted questions, args json schema: {\"query\": {\"title\": \"Query\", \"type\": \"string\"}}\n",
            "2. write_file: Write file to disk, args json schema: {\"file_path\": {\"title\": \"File Path\", \"description\": \"name of file\", \"type\": \"string\"}, \"text\": {\"title\": \"Text\", \"description\": \"text to write to file\", \"type\": \"string\"}}\n",
            "3. read_file: Read file from disk, args json schema: {\"file_path\": {\"title\": \"File Path\", \"description\": \"name of file\", \"type\": \"string\"}}\n",
            "4. finish: use this to signal that you have finished all your objectives, args: \"response\": \"final response to let people know you have finished your objectives\"\n",
            "\n",
            "Resources:\n",
            "1. Internet access for searches and information gathering.\n",
            "2. Long Term memory management.\n",
            "3. GPT-3.5 powered Agents for delegation of simple tasks.\n",
            "4. File output.\n",
            "\n",
            "Performance Evaluation:\n",
            "1. Continuously review and analyze your actions to ensure you are performing to the best of your abilities.\n",
            "2. Constructively self-criticize your big-picture behavior constantly.\n",
            "3. Reflect on past decisions and strategies to refine your approach.\n",
            "4. Every command has a cost, so be smart and efficient. Aim to complete tasks in the least number of steps.\n",
            "\n",
            "You should only respond in JSON format as described below \n",
            "Response Format: \n",
            "{\n",
            "    \"thoughts\": {\n",
            "        \"text\": \"thought\",\n",
            "        \"reasoning\": \"reasoning\",\n",
            "        \"plan\": \"- short bulleted\\n- list that conveys\\n- long-term plan\",\n",
            "        \"criticism\": \"constructive self-criticism\",\n",
            "        \"speak\": \"thoughts summary to say to user\"\n",
            "    },\n",
            "    \"command\": {\n",
            "        \"name\": \"command name\",\n",
            "        \"args\": {\n",
            "            \"arg name\": \"value\"\n",
            "        }\n",
            "    }\n",
            "} \n",
            "Ensure the response can be parsed by Python json.loads\n",
            "System: The current time and date is Sat Apr 29 14:48:53 2023\n",
            "System: This reminds you of these events from your past:\n",
            "['Assistant Reply: {\\n    \"thoughts\": {\\n        \"text\": \"I will use the \\'write_file\\' command to write the weather report to a file.\",\\n        \"reasoning\": \"I need to save the weather report to a file so that I can access it later if needed.\",\\n        \"plan\": \"- Use the \\'write_file\\' command to write the weather report to a file\",\\n        \"criticism\": \"I need to make sure that the file is saved in a location where I can easily find it later.\",\\n        \"speak\": \"I will use the \\'write_file\\' command to write the weather report to a file.\"\\n    },\\n    \"command\": {\\n        \"name\": \"write_file\",\\n        \"args\": {\\n            \"file_path\": \"weather_report.txt\",\\n            \"text\": \"The current weather conditions in Helsinki are mostly sunny skies during the morning will give way to mostly cloudy skies in the afternoon. High near 50F. Winds WSW at 10 to 20 mph. Humidity53%.\"\\n        }\\n    }\\n} \\nResult: Command write_file returned: File written successfully to weather_report.txt. ', 'Assistant Reply: {\\n    \"thoughts\": {\\n        \"text\": \"I will start by writing a weather report for Helsinki today. I will use the \\'search\\' command to find the current weather conditions.\",\\n        \"reasoning\": \"I need to gather information about the current weather conditions in Helsinki to write an accurate weather report.\",\\n        \"plan\": \"- Use the \\'search\\' command to find the current weather conditions in Helsinki\\\\n- Write a weather report for Helsinki today\",\\n        \"criticism\": \"I need to make sure that the information I gather is reliable and up-to-date.\",\\n        \"speak\": \"I will use the \\'search\\' command to find the current weather conditions in Helsinki.\"\\n    },\\n    \"command\": {\\n        \"name\": \"search\",\\n        \"args\": {\\n            \"query\": \"current weather conditions in Helsinki\"\\n        }\\n    }\\n} \\nResult: Command search returned: Mostly sunny skies during the morning will give way to mostly cloudy skies in the afternoon. High near 50F. Winds WSW at 10 to 20 mph. Humidity53%. ']\n",
            "\n",
            "\n",
            "Human: Determine which next command to use, and respond using the format specified above:\n",
            "AI: {\n",
            "    \"thoughts\": {\n",
            "        \"text\": \"I will start by writing a weather report for Helsinki today. I will use the 'search' command to find the current weather conditions.\",\n",
            "        \"reasoning\": \"I need to gather information about the current weather conditions in Helsinki to write an accurate weather report.\",\n",
            "        \"plan\": \"- Use the 'search' command to find the current weather conditions in Helsinki\\n- Write a weather report for Helsinki today\",\n",
            "        \"criticism\": \"I need to make sure that the information I gather is reliable and up-to-date.\",\n",
            "        \"speak\": \"I will use the 'search' command to find the current weather conditions in Helsinki.\"\n",
            "    },\n",
            "    \"command\": {\n",
            "        \"name\": \"search\",\n",
            "        \"args\": {\n",
            "            \"query\": \"current weather conditions in Helsinki\"\n",
            "        }\n",
            "    }\n",
            "}\n",
            "System: Command search returned: Mostly sunny skies during the morning will give way to mostly cloudy skies in the afternoon. High near 50F. Winds WSW at 10 to 20 mph. Humidity53%.\n",
            "Human: Determine which next command to use, and respond using the format specified above:\n",
            "AI: {\n",
            "    \"thoughts\": {\n",
            "        \"text\": \"I will use the 'write_file' command to write the weather report to a file.\",\n",
            "        \"reasoning\": \"I need to save the weather report to a file so that I can access it later if needed.\",\n",
            "        \"plan\": \"- Use the 'write_file' command to write the weather report to a file\",\n",
            "        \"criticism\": \"I need to make sure that the file is saved in a location where I can easily find it later.\",\n",
            "        \"speak\": \"I will use the 'write_file' command to write the weather report to a file.\"\n",
            "    },\n",
            "    \"command\": {\n",
            "        \"name\": \"write_file\",\n",
            "        \"args\": {\n",
            "            \"file_path\": \"weather_report.txt\",\n",
            "            \"text\": \"The current weather conditions in Helsinki are mostly sunny skies during the morning will give way to mostly cloudy skies in the afternoon. High near 50F. Winds WSW at 10 to 20 mph. Humidity53%.\"\n",
            "        }\n",
            "    }\n",
            "}\n",
            "System: Command write_file returned: File written successfully to weather_report.txt.\n",
            "Human: Determine which next command to use, and respond using the format specified above:\u001b[0m\n",
            "\n",
            "\u001b[1m> Finished chain.\u001b[0m\n",
            "{\n",
            "    \"thoughts\": {\n",
            "        \"text\": \"I have completed all my tasks, so I will use the 'finish' command to signal that I am done.\",\n",
            "        \"reasoning\": \"I have completed the task of writing a weather report for Helsinki today and saving it to a file, so there is nothing else left for me to do.\",\n",
            "        \"plan\": \"- Use the 'finish' command to signal that I am done\",\n",
            "        \"criticism\": \"I need to make sure that I have completed all my tasks before using the 'finish' command.\",\n",
            "        \"speak\": \"I have completed all my tasks, so I will use the 'finish' command to signal that I am done.\"\n",
            "    },\n",
            "    \"command\": {\n",
            "        \"name\": \"finish\",\n",
            "        \"args\": {\n",
            "            \"response\": \"I have completed all my tasks.\"\n",
            "        }\n",
            "    }\n",
            "}\n"
          ]
        },
        {
          "output_type": "execute_result",
          "data": {
            "text/plain": [
              "'I have completed all my tasks.'"
            ],
            "application/vnd.google.colaboratory.intrinsic+json": {
              "type": "string"
            }
          },
          "metadata": {},
          "execution_count": 57
        }
      ]
    },
    {
      "cell_type": "code",
      "source": [],
      "metadata": {
        "id": "FRfLmwzgfaeZ"
      },
      "execution_count": null,
      "outputs": []
    }
  ]
}