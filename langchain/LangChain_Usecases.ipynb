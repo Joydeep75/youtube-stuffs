{
  "nbformat": 4,
  "nbformat_minor": 0,
  "metadata": {
    "colab": {
      "provenance": [],
      "include_colab_link": true
    },
    "kernelspec": {
      "name": "python3",
      "display_name": "Python 3"
    },
    "language_info": {
      "name": "python"
    },
    "widgets": {
      "application/vnd.jupyter.widget-state+json": {
        "9981c58355f744f899b017a422908836": {
          "model_module": "@jupyter-widgets/controls",
          "model_name": "HBoxModel",
          "model_module_version": "1.5.0",
          "state": {
            "_dom_classes": [],
            "_model_module": "@jupyter-widgets/controls",
            "_model_module_version": "1.5.0",
            "_model_name": "HBoxModel",
            "_view_count": null,
            "_view_module": "@jupyter-widgets/controls",
            "_view_module_version": "1.5.0",
            "_view_name": "HBoxView",
            "box_style": "",
            "children": [
              "IPY_MODEL_dc645f4584da4c82b563c1ee810463f4",
              "IPY_MODEL_7255b3b22af549a1ab294eee5d211bd2",
              "IPY_MODEL_e8304e0070e1492e9aacac77cf62cca0"
            ],
            "layout": "IPY_MODEL_fce6080ff20e464a82553fc8810f9a75"
          }
        },
        "dc645f4584da4c82b563c1ee810463f4": {
          "model_module": "@jupyter-widgets/controls",
          "model_name": "HTMLModel",
          "model_module_version": "1.5.0",
          "state": {
            "_dom_classes": [],
            "_model_module": "@jupyter-widgets/controls",
            "_model_module_version": "1.5.0",
            "_model_name": "HTMLModel",
            "_view_count": null,
            "_view_module": "@jupyter-widgets/controls",
            "_view_module_version": "1.5.0",
            "_view_name": "HTMLView",
            "description": "",
            "description_tooltip": null,
            "layout": "IPY_MODEL_154408ee77874b229d2d5401c9ef5686",
            "placeholder": "​",
            "style": "IPY_MODEL_f93d1d074f2a4ad889809a9c08a62aed",
            "value": "Downloading readme: 100%"
          }
        },
        "7255b3b22af549a1ab294eee5d211bd2": {
          "model_module": "@jupyter-widgets/controls",
          "model_name": "FloatProgressModel",
          "model_module_version": "1.5.0",
          "state": {
            "_dom_classes": [],
            "_model_module": "@jupyter-widgets/controls",
            "_model_module_version": "1.5.0",
            "_model_name": "FloatProgressModel",
            "_view_count": null,
            "_view_module": "@jupyter-widgets/controls",
            "_view_module_version": "1.5.0",
            "_view_name": "ProgressView",
            "bar_style": "success",
            "description": "",
            "description_tooltip": null,
            "layout": "IPY_MODEL_c6cf0c4d4cb240d1ab99000575c21700",
            "max": 21,
            "min": 0,
            "orientation": "horizontal",
            "style": "IPY_MODEL_627efb3a822742f0a8a2b405641133e6",
            "value": 21
          }
        },
        "e8304e0070e1492e9aacac77cf62cca0": {
          "model_module": "@jupyter-widgets/controls",
          "model_name": "HTMLModel",
          "model_module_version": "1.5.0",
          "state": {
            "_dom_classes": [],
            "_model_module": "@jupyter-widgets/controls",
            "_model_module_version": "1.5.0",
            "_model_name": "HTMLModel",
            "_view_count": null,
            "_view_module": "@jupyter-widgets/controls",
            "_view_module_version": "1.5.0",
            "_view_name": "HTMLView",
            "description": "",
            "description_tooltip": null,
            "layout": "IPY_MODEL_acbd9f22b4be48b29f334d023d98a1e6",
            "placeholder": "​",
            "style": "IPY_MODEL_7116c01ba20e455d9c863088ea4bf69e",
            "value": " 21.0/21.0 [00:00&lt;00:00, 742B/s]"
          }
        },
        "fce6080ff20e464a82553fc8810f9a75": {
          "model_module": "@jupyter-widgets/base",
          "model_name": "LayoutModel",
          "model_module_version": "1.2.0",
          "state": {
            "_model_module": "@jupyter-widgets/base",
            "_model_module_version": "1.2.0",
            "_model_name": "LayoutModel",
            "_view_count": null,
            "_view_module": "@jupyter-widgets/base",
            "_view_module_version": "1.2.0",
            "_view_name": "LayoutView",
            "align_content": null,
            "align_items": null,
            "align_self": null,
            "border": null,
            "bottom": null,
            "display": null,
            "flex": null,
            "flex_flow": null,
            "grid_area": null,
            "grid_auto_columns": null,
            "grid_auto_flow": null,
            "grid_auto_rows": null,
            "grid_column": null,
            "grid_gap": null,
            "grid_row": null,
            "grid_template_areas": null,
            "grid_template_columns": null,
            "grid_template_rows": null,
            "height": null,
            "justify_content": null,
            "justify_items": null,
            "left": null,
            "margin": null,
            "max_height": null,
            "max_width": null,
            "min_height": null,
            "min_width": null,
            "object_fit": null,
            "object_position": null,
            "order": null,
            "overflow": null,
            "overflow_x": null,
            "overflow_y": null,
            "padding": null,
            "right": null,
            "top": null,
            "visibility": null,
            "width": null
          }
        },
        "154408ee77874b229d2d5401c9ef5686": {
          "model_module": "@jupyter-widgets/base",
          "model_name": "LayoutModel",
          "model_module_version": "1.2.0",
          "state": {
            "_model_module": "@jupyter-widgets/base",
            "_model_module_version": "1.2.0",
            "_model_name": "LayoutModel",
            "_view_count": null,
            "_view_module": "@jupyter-widgets/base",
            "_view_module_version": "1.2.0",
            "_view_name": "LayoutView",
            "align_content": null,
            "align_items": null,
            "align_self": null,
            "border": null,
            "bottom": null,
            "display": null,
            "flex": null,
            "flex_flow": null,
            "grid_area": null,
            "grid_auto_columns": null,
            "grid_auto_flow": null,
            "grid_auto_rows": null,
            "grid_column": null,
            "grid_gap": null,
            "grid_row": null,
            "grid_template_areas": null,
            "grid_template_columns": null,
            "grid_template_rows": null,
            "height": null,
            "justify_content": null,
            "justify_items": null,
            "left": null,
            "margin": null,
            "max_height": null,
            "max_width": null,
            "min_height": null,
            "min_width": null,
            "object_fit": null,
            "object_position": null,
            "order": null,
            "overflow": null,
            "overflow_x": null,
            "overflow_y": null,
            "padding": null,
            "right": null,
            "top": null,
            "visibility": null,
            "width": null
          }
        },
        "f93d1d074f2a4ad889809a9c08a62aed": {
          "model_module": "@jupyter-widgets/controls",
          "model_name": "DescriptionStyleModel",
          "model_module_version": "1.5.0",
          "state": {
            "_model_module": "@jupyter-widgets/controls",
            "_model_module_version": "1.5.0",
            "_model_name": "DescriptionStyleModel",
            "_view_count": null,
            "_view_module": "@jupyter-widgets/base",
            "_view_module_version": "1.2.0",
            "_view_name": "StyleView",
            "description_width": ""
          }
        },
        "c6cf0c4d4cb240d1ab99000575c21700": {
          "model_module": "@jupyter-widgets/base",
          "model_name": "LayoutModel",
          "model_module_version": "1.2.0",
          "state": {
            "_model_module": "@jupyter-widgets/base",
            "_model_module_version": "1.2.0",
            "_model_name": "LayoutModel",
            "_view_count": null,
            "_view_module": "@jupyter-widgets/base",
            "_view_module_version": "1.2.0",
            "_view_name": "LayoutView",
            "align_content": null,
            "align_items": null,
            "align_self": null,
            "border": null,
            "bottom": null,
            "display": null,
            "flex": null,
            "flex_flow": null,
            "grid_area": null,
            "grid_auto_columns": null,
            "grid_auto_flow": null,
            "grid_auto_rows": null,
            "grid_column": null,
            "grid_gap": null,
            "grid_row": null,
            "grid_template_areas": null,
            "grid_template_columns": null,
            "grid_template_rows": null,
            "height": null,
            "justify_content": null,
            "justify_items": null,
            "left": null,
            "margin": null,
            "max_height": null,
            "max_width": null,
            "min_height": null,
            "min_width": null,
            "object_fit": null,
            "object_position": null,
            "order": null,
            "overflow": null,
            "overflow_x": null,
            "overflow_y": null,
            "padding": null,
            "right": null,
            "top": null,
            "visibility": null,
            "width": null
          }
        },
        "627efb3a822742f0a8a2b405641133e6": {
          "model_module": "@jupyter-widgets/controls",
          "model_name": "ProgressStyleModel",
          "model_module_version": "1.5.0",
          "state": {
            "_model_module": "@jupyter-widgets/controls",
            "_model_module_version": "1.5.0",
            "_model_name": "ProgressStyleModel",
            "_view_count": null,
            "_view_module": "@jupyter-widgets/base",
            "_view_module_version": "1.2.0",
            "_view_name": "StyleView",
            "bar_color": null,
            "description_width": ""
          }
        },
        "acbd9f22b4be48b29f334d023d98a1e6": {
          "model_module": "@jupyter-widgets/base",
          "model_name": "LayoutModel",
          "model_module_version": "1.2.0",
          "state": {
            "_model_module": "@jupyter-widgets/base",
            "_model_module_version": "1.2.0",
            "_model_name": "LayoutModel",
            "_view_count": null,
            "_view_module": "@jupyter-widgets/base",
            "_view_module_version": "1.2.0",
            "_view_name": "LayoutView",
            "align_content": null,
            "align_items": null,
            "align_self": null,
            "border": null,
            "bottom": null,
            "display": null,
            "flex": null,
            "flex_flow": null,
            "grid_area": null,
            "grid_auto_columns": null,
            "grid_auto_flow": null,
            "grid_auto_rows": null,
            "grid_column": null,
            "grid_gap": null,
            "grid_row": null,
            "grid_template_areas": null,
            "grid_template_columns": null,
            "grid_template_rows": null,
            "height": null,
            "justify_content": null,
            "justify_items": null,
            "left": null,
            "margin": null,
            "max_height": null,
            "max_width": null,
            "min_height": null,
            "min_width": null,
            "object_fit": null,
            "object_position": null,
            "order": null,
            "overflow": null,
            "overflow_x": null,
            "overflow_y": null,
            "padding": null,
            "right": null,
            "top": null,
            "visibility": null,
            "width": null
          }
        },
        "7116c01ba20e455d9c863088ea4bf69e": {
          "model_module": "@jupyter-widgets/controls",
          "model_name": "DescriptionStyleModel",
          "model_module_version": "1.5.0",
          "state": {
            "_model_module": "@jupyter-widgets/controls",
            "_model_module_version": "1.5.0",
            "_model_name": "DescriptionStyleModel",
            "_view_count": null,
            "_view_module": "@jupyter-widgets/base",
            "_view_module_version": "1.2.0",
            "_view_name": "StyleView",
            "description_width": ""
          }
        },
        "728c76247571491095b62614f0bddbf9": {
          "model_module": "@jupyter-widgets/controls",
          "model_name": "HBoxModel",
          "model_module_version": "1.5.0",
          "state": {
            "_dom_classes": [],
            "_model_module": "@jupyter-widgets/controls",
            "_model_module_version": "1.5.0",
            "_model_name": "HBoxModel",
            "_view_count": null,
            "_view_module": "@jupyter-widgets/controls",
            "_view_module_version": "1.5.0",
            "_view_name": "HBoxView",
            "box_style": "",
            "children": [
              "IPY_MODEL_85ed9eda0f254466b51bf5157b6f7d13",
              "IPY_MODEL_6a458d782fc341bc89a5ca3b214e97e8",
              "IPY_MODEL_bb9d8ed04b4247f2b449996d8c7d7994"
            ],
            "layout": "IPY_MODEL_6944df29e3fa41eda76a8ceff2f00af9"
          }
        },
        "85ed9eda0f254466b51bf5157b6f7d13": {
          "model_module": "@jupyter-widgets/controls",
          "model_name": "HTMLModel",
          "model_module_version": "1.5.0",
          "state": {
            "_dom_classes": [],
            "_model_module": "@jupyter-widgets/controls",
            "_model_module_version": "1.5.0",
            "_model_name": "HTMLModel",
            "_view_count": null,
            "_view_module": "@jupyter-widgets/controls",
            "_view_module_version": "1.5.0",
            "_view_name": "HTMLView",
            "description": "",
            "description_tooltip": null,
            "layout": "IPY_MODEL_2c4cf7e71dac4eeea0c635742335e5f2",
            "placeholder": "​",
            "style": "IPY_MODEL_38647bdd5bc4423995784a4ed4125edb",
            "value": "Downloading data files: 100%"
          }
        },
        "6a458d782fc341bc89a5ca3b214e97e8": {
          "model_module": "@jupyter-widgets/controls",
          "model_name": "FloatProgressModel",
          "model_module_version": "1.5.0",
          "state": {
            "_dom_classes": [],
            "_model_module": "@jupyter-widgets/controls",
            "_model_module_version": "1.5.0",
            "_model_name": "FloatProgressModel",
            "_view_count": null,
            "_view_module": "@jupyter-widgets/controls",
            "_view_module_version": "1.5.0",
            "_view_name": "ProgressView",
            "bar_style": "success",
            "description": "",
            "description_tooltip": null,
            "layout": "IPY_MODEL_2e1a32ed5ff6453db6e59c93a222d369",
            "max": 1,
            "min": 0,
            "orientation": "horizontal",
            "style": "IPY_MODEL_193b50074f9145b9b822271073830ac8",
            "value": 1
          }
        },
        "bb9d8ed04b4247f2b449996d8c7d7994": {
          "model_module": "@jupyter-widgets/controls",
          "model_name": "HTMLModel",
          "model_module_version": "1.5.0",
          "state": {
            "_dom_classes": [],
            "_model_module": "@jupyter-widgets/controls",
            "_model_module_version": "1.5.0",
            "_model_name": "HTMLModel",
            "_view_count": null,
            "_view_module": "@jupyter-widgets/controls",
            "_view_module_version": "1.5.0",
            "_view_name": "HTMLView",
            "description": "",
            "description_tooltip": null,
            "layout": "IPY_MODEL_026298650d1d4a69982e28979e73fde2",
            "placeholder": "​",
            "style": "IPY_MODEL_b47892f817d94ed5a5e565ccb7309cb1",
            "value": " 1/1 [00:00&lt;00:00,  3.35it/s]"
          }
        },
        "6944df29e3fa41eda76a8ceff2f00af9": {
          "model_module": "@jupyter-widgets/base",
          "model_name": "LayoutModel",
          "model_module_version": "1.2.0",
          "state": {
            "_model_module": "@jupyter-widgets/base",
            "_model_module_version": "1.2.0",
            "_model_name": "LayoutModel",
            "_view_count": null,
            "_view_module": "@jupyter-widgets/base",
            "_view_module_version": "1.2.0",
            "_view_name": "LayoutView",
            "align_content": null,
            "align_items": null,
            "align_self": null,
            "border": null,
            "bottom": null,
            "display": null,
            "flex": null,
            "flex_flow": null,
            "grid_area": null,
            "grid_auto_columns": null,
            "grid_auto_flow": null,
            "grid_auto_rows": null,
            "grid_column": null,
            "grid_gap": null,
            "grid_row": null,
            "grid_template_areas": null,
            "grid_template_columns": null,
            "grid_template_rows": null,
            "height": null,
            "justify_content": null,
            "justify_items": null,
            "left": null,
            "margin": null,
            "max_height": null,
            "max_width": null,
            "min_height": null,
            "min_width": null,
            "object_fit": null,
            "object_position": null,
            "order": null,
            "overflow": null,
            "overflow_x": null,
            "overflow_y": null,
            "padding": null,
            "right": null,
            "top": null,
            "visibility": null,
            "width": null
          }
        },
        "2c4cf7e71dac4eeea0c635742335e5f2": {
          "model_module": "@jupyter-widgets/base",
          "model_name": "LayoutModel",
          "model_module_version": "1.2.0",
          "state": {
            "_model_module": "@jupyter-widgets/base",
            "_model_module_version": "1.2.0",
            "_model_name": "LayoutModel",
            "_view_count": null,
            "_view_module": "@jupyter-widgets/base",
            "_view_module_version": "1.2.0",
            "_view_name": "LayoutView",
            "align_content": null,
            "align_items": null,
            "align_self": null,
            "border": null,
            "bottom": null,
            "display": null,
            "flex": null,
            "flex_flow": null,
            "grid_area": null,
            "grid_auto_columns": null,
            "grid_auto_flow": null,
            "grid_auto_rows": null,
            "grid_column": null,
            "grid_gap": null,
            "grid_row": null,
            "grid_template_areas": null,
            "grid_template_columns": null,
            "grid_template_rows": null,
            "height": null,
            "justify_content": null,
            "justify_items": null,
            "left": null,
            "margin": null,
            "max_height": null,
            "max_width": null,
            "min_height": null,
            "min_width": null,
            "object_fit": null,
            "object_position": null,
            "order": null,
            "overflow": null,
            "overflow_x": null,
            "overflow_y": null,
            "padding": null,
            "right": null,
            "top": null,
            "visibility": null,
            "width": null
          }
        },
        "38647bdd5bc4423995784a4ed4125edb": {
          "model_module": "@jupyter-widgets/controls",
          "model_name": "DescriptionStyleModel",
          "model_module_version": "1.5.0",
          "state": {
            "_model_module": "@jupyter-widgets/controls",
            "_model_module_version": "1.5.0",
            "_model_name": "DescriptionStyleModel",
            "_view_count": null,
            "_view_module": "@jupyter-widgets/base",
            "_view_module_version": "1.2.0",
            "_view_name": "StyleView",
            "description_width": ""
          }
        },
        "2e1a32ed5ff6453db6e59c93a222d369": {
          "model_module": "@jupyter-widgets/base",
          "model_name": "LayoutModel",
          "model_module_version": "1.2.0",
          "state": {
            "_model_module": "@jupyter-widgets/base",
            "_model_module_version": "1.2.0",
            "_model_name": "LayoutModel",
            "_view_count": null,
            "_view_module": "@jupyter-widgets/base",
            "_view_module_version": "1.2.0",
            "_view_name": "LayoutView",
            "align_content": null,
            "align_items": null,
            "align_self": null,
            "border": null,
            "bottom": null,
            "display": null,
            "flex": null,
            "flex_flow": null,
            "grid_area": null,
            "grid_auto_columns": null,
            "grid_auto_flow": null,
            "grid_auto_rows": null,
            "grid_column": null,
            "grid_gap": null,
            "grid_row": null,
            "grid_template_areas": null,
            "grid_template_columns": null,
            "grid_template_rows": null,
            "height": null,
            "justify_content": null,
            "justify_items": null,
            "left": null,
            "margin": null,
            "max_height": null,
            "max_width": null,
            "min_height": null,
            "min_width": null,
            "object_fit": null,
            "object_position": null,
            "order": null,
            "overflow": null,
            "overflow_x": null,
            "overflow_y": null,
            "padding": null,
            "right": null,
            "top": null,
            "visibility": null,
            "width": null
          }
        },
        "193b50074f9145b9b822271073830ac8": {
          "model_module": "@jupyter-widgets/controls",
          "model_name": "ProgressStyleModel",
          "model_module_version": "1.5.0",
          "state": {
            "_model_module": "@jupyter-widgets/controls",
            "_model_module_version": "1.5.0",
            "_model_name": "ProgressStyleModel",
            "_view_count": null,
            "_view_module": "@jupyter-widgets/base",
            "_view_module_version": "1.2.0",
            "_view_name": "StyleView",
            "bar_color": null,
            "description_width": ""
          }
        },
        "026298650d1d4a69982e28979e73fde2": {
          "model_module": "@jupyter-widgets/base",
          "model_name": "LayoutModel",
          "model_module_version": "1.2.0",
          "state": {
            "_model_module": "@jupyter-widgets/base",
            "_model_module_version": "1.2.0",
            "_model_name": "LayoutModel",
            "_view_count": null,
            "_view_module": "@jupyter-widgets/base",
            "_view_module_version": "1.2.0",
            "_view_name": "LayoutView",
            "align_content": null,
            "align_items": null,
            "align_self": null,
            "border": null,
            "bottom": null,
            "display": null,
            "flex": null,
            "flex_flow": null,
            "grid_area": null,
            "grid_auto_columns": null,
            "grid_auto_flow": null,
            "grid_auto_rows": null,
            "grid_column": null,
            "grid_gap": null,
            "grid_row": null,
            "grid_template_areas": null,
            "grid_template_columns": null,
            "grid_template_rows": null,
            "height": null,
            "justify_content": null,
            "justify_items": null,
            "left": null,
            "margin": null,
            "max_height": null,
            "max_width": null,
            "min_height": null,
            "min_width": null,
            "object_fit": null,
            "object_position": null,
            "order": null,
            "overflow": null,
            "overflow_x": null,
            "overflow_y": null,
            "padding": null,
            "right": null,
            "top": null,
            "visibility": null,
            "width": null
          }
        },
        "b47892f817d94ed5a5e565ccb7309cb1": {
          "model_module": "@jupyter-widgets/controls",
          "model_name": "DescriptionStyleModel",
          "model_module_version": "1.5.0",
          "state": {
            "_model_module": "@jupyter-widgets/controls",
            "_model_module_version": "1.5.0",
            "_model_name": "DescriptionStyleModel",
            "_view_count": null,
            "_view_module": "@jupyter-widgets/base",
            "_view_module_version": "1.2.0",
            "_view_name": "StyleView",
            "description_width": ""
          }
        },
        "40b582086d4b49328f85e3f49c7ce9f0": {
          "model_module": "@jupyter-widgets/controls",
          "model_name": "HBoxModel",
          "model_module_version": "1.5.0",
          "state": {
            "_dom_classes": [],
            "_model_module": "@jupyter-widgets/controls",
            "_model_module_version": "1.5.0",
            "_model_name": "HBoxModel",
            "_view_count": null,
            "_view_module": "@jupyter-widgets/controls",
            "_view_module_version": "1.5.0",
            "_view_name": "HBoxView",
            "box_style": "",
            "children": [
              "IPY_MODEL_92fc967f80004f139fce729c3566a934",
              "IPY_MODEL_1d093ce0fbc447aca2b7cfdc67667ce2",
              "IPY_MODEL_002b2f02c04d4eb1ad0e8dca5303ac27"
            ],
            "layout": "IPY_MODEL_5e188f49577341059491ac513ace68c8"
          }
        },
        "92fc967f80004f139fce729c3566a934": {
          "model_module": "@jupyter-widgets/controls",
          "model_name": "HTMLModel",
          "model_module_version": "1.5.0",
          "state": {
            "_dom_classes": [],
            "_model_module": "@jupyter-widgets/controls",
            "_model_module_version": "1.5.0",
            "_model_name": "HTMLModel",
            "_view_count": null,
            "_view_module": "@jupyter-widgets/controls",
            "_view_module_version": "1.5.0",
            "_view_name": "HTMLView",
            "description": "",
            "description_tooltip": null,
            "layout": "IPY_MODEL_16a289937dd14ebca1467b075dffe15c",
            "placeholder": "​",
            "style": "IPY_MODEL_25af0c255be84658858473cbfb5d5973",
            "value": "Downloading data: 100%"
          }
        },
        "1d093ce0fbc447aca2b7cfdc67667ce2": {
          "model_module": "@jupyter-widgets/controls",
          "model_name": "FloatProgressModel",
          "model_module_version": "1.5.0",
          "state": {
            "_dom_classes": [],
            "_model_module": "@jupyter-widgets/controls",
            "_model_module_version": "1.5.0",
            "_model_name": "FloatProgressModel",
            "_view_count": null,
            "_view_module": "@jupyter-widgets/controls",
            "_view_module_version": "1.5.0",
            "_view_name": "ProgressView",
            "bar_style": "success",
            "description": "",
            "description_tooltip": null,
            "layout": "IPY_MODEL_3af8493ea70c4a00aed6fb831a991988",
            "max": 1442,
            "min": 0,
            "orientation": "horizontal",
            "style": "IPY_MODEL_a5954df994eb4558a2a966efc4b097e6",
            "value": 1442
          }
        },
        "002b2f02c04d4eb1ad0e8dca5303ac27": {
          "model_module": "@jupyter-widgets/controls",
          "model_name": "HTMLModel",
          "model_module_version": "1.5.0",
          "state": {
            "_dom_classes": [],
            "_model_module": "@jupyter-widgets/controls",
            "_model_module_version": "1.5.0",
            "_model_name": "HTMLModel",
            "_view_count": null,
            "_view_module": "@jupyter-widgets/controls",
            "_view_module_version": "1.5.0",
            "_view_name": "HTMLView",
            "description": "",
            "description_tooltip": null,
            "layout": "IPY_MODEL_dfc0edc4e9744980928b7d77b0a87f6a",
            "placeholder": "​",
            "style": "IPY_MODEL_42115e44dd554e0f952e681c7308ed43",
            "value": " 1.44k/1.44k [00:00&lt;00:00, 60.6kB/s]"
          }
        },
        "5e188f49577341059491ac513ace68c8": {
          "model_module": "@jupyter-widgets/base",
          "model_name": "LayoutModel",
          "model_module_version": "1.2.0",
          "state": {
            "_model_module": "@jupyter-widgets/base",
            "_model_module_version": "1.2.0",
            "_model_name": "LayoutModel",
            "_view_count": null,
            "_view_module": "@jupyter-widgets/base",
            "_view_module_version": "1.2.0",
            "_view_name": "LayoutView",
            "align_content": null,
            "align_items": null,
            "align_self": null,
            "border": null,
            "bottom": null,
            "display": null,
            "flex": null,
            "flex_flow": null,
            "grid_area": null,
            "grid_auto_columns": null,
            "grid_auto_flow": null,
            "grid_auto_rows": null,
            "grid_column": null,
            "grid_gap": null,
            "grid_row": null,
            "grid_template_areas": null,
            "grid_template_columns": null,
            "grid_template_rows": null,
            "height": null,
            "justify_content": null,
            "justify_items": null,
            "left": null,
            "margin": null,
            "max_height": null,
            "max_width": null,
            "min_height": null,
            "min_width": null,
            "object_fit": null,
            "object_position": null,
            "order": null,
            "overflow": null,
            "overflow_x": null,
            "overflow_y": null,
            "padding": null,
            "right": null,
            "top": null,
            "visibility": null,
            "width": null
          }
        },
        "16a289937dd14ebca1467b075dffe15c": {
          "model_module": "@jupyter-widgets/base",
          "model_name": "LayoutModel",
          "model_module_version": "1.2.0",
          "state": {
            "_model_module": "@jupyter-widgets/base",
            "_model_module_version": "1.2.0",
            "_model_name": "LayoutModel",
            "_view_count": null,
            "_view_module": "@jupyter-widgets/base",
            "_view_module_version": "1.2.0",
            "_view_name": "LayoutView",
            "align_content": null,
            "align_items": null,
            "align_self": null,
            "border": null,
            "bottom": null,
            "display": null,
            "flex": null,
            "flex_flow": null,
            "grid_area": null,
            "grid_auto_columns": null,
            "grid_auto_flow": null,
            "grid_auto_rows": null,
            "grid_column": null,
            "grid_gap": null,
            "grid_row": null,
            "grid_template_areas": null,
            "grid_template_columns": null,
            "grid_template_rows": null,
            "height": null,
            "justify_content": null,
            "justify_items": null,
            "left": null,
            "margin": null,
            "max_height": null,
            "max_width": null,
            "min_height": null,
            "min_width": null,
            "object_fit": null,
            "object_position": null,
            "order": null,
            "overflow": null,
            "overflow_x": null,
            "overflow_y": null,
            "padding": null,
            "right": null,
            "top": null,
            "visibility": null,
            "width": null
          }
        },
        "25af0c255be84658858473cbfb5d5973": {
          "model_module": "@jupyter-widgets/controls",
          "model_name": "DescriptionStyleModel",
          "model_module_version": "1.5.0",
          "state": {
            "_model_module": "@jupyter-widgets/controls",
            "_model_module_version": "1.5.0",
            "_model_name": "DescriptionStyleModel",
            "_view_count": null,
            "_view_module": "@jupyter-widgets/base",
            "_view_module_version": "1.2.0",
            "_view_name": "StyleView",
            "description_width": ""
          }
        },
        "3af8493ea70c4a00aed6fb831a991988": {
          "model_module": "@jupyter-widgets/base",
          "model_name": "LayoutModel",
          "model_module_version": "1.2.0",
          "state": {
            "_model_module": "@jupyter-widgets/base",
            "_model_module_version": "1.2.0",
            "_model_name": "LayoutModel",
            "_view_count": null,
            "_view_module": "@jupyter-widgets/base",
            "_view_module_version": "1.2.0",
            "_view_name": "LayoutView",
            "align_content": null,
            "align_items": null,
            "align_self": null,
            "border": null,
            "bottom": null,
            "display": null,
            "flex": null,
            "flex_flow": null,
            "grid_area": null,
            "grid_auto_columns": null,
            "grid_auto_flow": null,
            "grid_auto_rows": null,
            "grid_column": null,
            "grid_gap": null,
            "grid_row": null,
            "grid_template_areas": null,
            "grid_template_columns": null,
            "grid_template_rows": null,
            "height": null,
            "justify_content": null,
            "justify_items": null,
            "left": null,
            "margin": null,
            "max_height": null,
            "max_width": null,
            "min_height": null,
            "min_width": null,
            "object_fit": null,
            "object_position": null,
            "order": null,
            "overflow": null,
            "overflow_x": null,
            "overflow_y": null,
            "padding": null,
            "right": null,
            "top": null,
            "visibility": null,
            "width": null
          }
        },
        "a5954df994eb4558a2a966efc4b097e6": {
          "model_module": "@jupyter-widgets/controls",
          "model_name": "ProgressStyleModel",
          "model_module_version": "1.5.0",
          "state": {
            "_model_module": "@jupyter-widgets/controls",
            "_model_module_version": "1.5.0",
            "_model_name": "ProgressStyleModel",
            "_view_count": null,
            "_view_module": "@jupyter-widgets/base",
            "_view_module_version": "1.2.0",
            "_view_name": "StyleView",
            "bar_color": null,
            "description_width": ""
          }
        },
        "dfc0edc4e9744980928b7d77b0a87f6a": {
          "model_module": "@jupyter-widgets/base",
          "model_name": "LayoutModel",
          "model_module_version": "1.2.0",
          "state": {
            "_model_module": "@jupyter-widgets/base",
            "_model_module_version": "1.2.0",
            "_model_name": "LayoutModel",
            "_view_count": null,
            "_view_module": "@jupyter-widgets/base",
            "_view_module_version": "1.2.0",
            "_view_name": "LayoutView",
            "align_content": null,
            "align_items": null,
            "align_self": null,
            "border": null,
            "bottom": null,
            "display": null,
            "flex": null,
            "flex_flow": null,
            "grid_area": null,
            "grid_auto_columns": null,
            "grid_auto_flow": null,
            "grid_auto_rows": null,
            "grid_column": null,
            "grid_gap": null,
            "grid_row": null,
            "grid_template_areas": null,
            "grid_template_columns": null,
            "grid_template_rows": null,
            "height": null,
            "justify_content": null,
            "justify_items": null,
            "left": null,
            "margin": null,
            "max_height": null,
            "max_width": null,
            "min_height": null,
            "min_width": null,
            "object_fit": null,
            "object_position": null,
            "order": null,
            "overflow": null,
            "overflow_x": null,
            "overflow_y": null,
            "padding": null,
            "right": null,
            "top": null,
            "visibility": null,
            "width": null
          }
        },
        "42115e44dd554e0f952e681c7308ed43": {
          "model_module": "@jupyter-widgets/controls",
          "model_name": "DescriptionStyleModel",
          "model_module_version": "1.5.0",
          "state": {
            "_model_module": "@jupyter-widgets/controls",
            "_model_module_version": "1.5.0",
            "_model_name": "DescriptionStyleModel",
            "_view_count": null,
            "_view_module": "@jupyter-widgets/base",
            "_view_module_version": "1.2.0",
            "_view_name": "StyleView",
            "description_width": ""
          }
        },
        "ceeb873634e64e258cac67fb0e5f50b9": {
          "model_module": "@jupyter-widgets/controls",
          "model_name": "HBoxModel",
          "model_module_version": "1.5.0",
          "state": {
            "_dom_classes": [],
            "_model_module": "@jupyter-widgets/controls",
            "_model_module_version": "1.5.0",
            "_model_name": "HBoxModel",
            "_view_count": null,
            "_view_module": "@jupyter-widgets/controls",
            "_view_module_version": "1.5.0",
            "_view_name": "HBoxView",
            "box_style": "",
            "children": [
              "IPY_MODEL_fd73f43f101f429ba65e6358562194d2",
              "IPY_MODEL_0ed26fce406d487499a83370c26b27d1",
              "IPY_MODEL_a70e545c187043718093b921af4932c4"
            ],
            "layout": "IPY_MODEL_902df362a35e48d2b4f26f3adca3cbe7"
          }
        },
        "fd73f43f101f429ba65e6358562194d2": {
          "model_module": "@jupyter-widgets/controls",
          "model_name": "HTMLModel",
          "model_module_version": "1.5.0",
          "state": {
            "_dom_classes": [],
            "_model_module": "@jupyter-widgets/controls",
            "_model_module_version": "1.5.0",
            "_model_name": "HTMLModel",
            "_view_count": null,
            "_view_module": "@jupyter-widgets/controls",
            "_view_module_version": "1.5.0",
            "_view_name": "HTMLView",
            "description": "",
            "description_tooltip": null,
            "layout": "IPY_MODEL_12e924afd0d649d492328c07088d214e",
            "placeholder": "​",
            "style": "IPY_MODEL_e7b798d76a9247dbad72b99140ccf998",
            "value": "Extracting data files: 100%"
          }
        },
        "0ed26fce406d487499a83370c26b27d1": {
          "model_module": "@jupyter-widgets/controls",
          "model_name": "FloatProgressModel",
          "model_module_version": "1.5.0",
          "state": {
            "_dom_classes": [],
            "_model_module": "@jupyter-widgets/controls",
            "_model_module_version": "1.5.0",
            "_model_name": "FloatProgressModel",
            "_view_count": null,
            "_view_module": "@jupyter-widgets/controls",
            "_view_module_version": "1.5.0",
            "_view_name": "ProgressView",
            "bar_style": "success",
            "description": "",
            "description_tooltip": null,
            "layout": "IPY_MODEL_b02c1c317dcd45df989cd343cccbd3ed",
            "max": 1,
            "min": 0,
            "orientation": "horizontal",
            "style": "IPY_MODEL_746ceb446b1d4ba09a2a9f89616df4b4",
            "value": 1
          }
        },
        "a70e545c187043718093b921af4932c4": {
          "model_module": "@jupyter-widgets/controls",
          "model_name": "HTMLModel",
          "model_module_version": "1.5.0",
          "state": {
            "_dom_classes": [],
            "_model_module": "@jupyter-widgets/controls",
            "_model_module_version": "1.5.0",
            "_model_name": "HTMLModel",
            "_view_count": null,
            "_view_module": "@jupyter-widgets/controls",
            "_view_module_version": "1.5.0",
            "_view_name": "HTMLView",
            "description": "",
            "description_tooltip": null,
            "layout": "IPY_MODEL_87098561b00e4777bbdd17b616d0c8ee",
            "placeholder": "​",
            "style": "IPY_MODEL_45ec202ade6c4e3ab96450718d5e4a21",
            "value": " 1/1 [00:00&lt;00:00, 33.67it/s]"
          }
        },
        "902df362a35e48d2b4f26f3adca3cbe7": {
          "model_module": "@jupyter-widgets/base",
          "model_name": "LayoutModel",
          "model_module_version": "1.2.0",
          "state": {
            "_model_module": "@jupyter-widgets/base",
            "_model_module_version": "1.2.0",
            "_model_name": "LayoutModel",
            "_view_count": null,
            "_view_module": "@jupyter-widgets/base",
            "_view_module_version": "1.2.0",
            "_view_name": "LayoutView",
            "align_content": null,
            "align_items": null,
            "align_self": null,
            "border": null,
            "bottom": null,
            "display": null,
            "flex": null,
            "flex_flow": null,
            "grid_area": null,
            "grid_auto_columns": null,
            "grid_auto_flow": null,
            "grid_auto_rows": null,
            "grid_column": null,
            "grid_gap": null,
            "grid_row": null,
            "grid_template_areas": null,
            "grid_template_columns": null,
            "grid_template_rows": null,
            "height": null,
            "justify_content": null,
            "justify_items": null,
            "left": null,
            "margin": null,
            "max_height": null,
            "max_width": null,
            "min_height": null,
            "min_width": null,
            "object_fit": null,
            "object_position": null,
            "order": null,
            "overflow": null,
            "overflow_x": null,
            "overflow_y": null,
            "padding": null,
            "right": null,
            "top": null,
            "visibility": null,
            "width": null
          }
        },
        "12e924afd0d649d492328c07088d214e": {
          "model_module": "@jupyter-widgets/base",
          "model_name": "LayoutModel",
          "model_module_version": "1.2.0",
          "state": {
            "_model_module": "@jupyter-widgets/base",
            "_model_module_version": "1.2.0",
            "_model_name": "LayoutModel",
            "_view_count": null,
            "_view_module": "@jupyter-widgets/base",
            "_view_module_version": "1.2.0",
            "_view_name": "LayoutView",
            "align_content": null,
            "align_items": null,
            "align_self": null,
            "border": null,
            "bottom": null,
            "display": null,
            "flex": null,
            "flex_flow": null,
            "grid_area": null,
            "grid_auto_columns": null,
            "grid_auto_flow": null,
            "grid_auto_rows": null,
            "grid_column": null,
            "grid_gap": null,
            "grid_row": null,
            "grid_template_areas": null,
            "grid_template_columns": null,
            "grid_template_rows": null,
            "height": null,
            "justify_content": null,
            "justify_items": null,
            "left": null,
            "margin": null,
            "max_height": null,
            "max_width": null,
            "min_height": null,
            "min_width": null,
            "object_fit": null,
            "object_position": null,
            "order": null,
            "overflow": null,
            "overflow_x": null,
            "overflow_y": null,
            "padding": null,
            "right": null,
            "top": null,
            "visibility": null,
            "width": null
          }
        },
        "e7b798d76a9247dbad72b99140ccf998": {
          "model_module": "@jupyter-widgets/controls",
          "model_name": "DescriptionStyleModel",
          "model_module_version": "1.5.0",
          "state": {
            "_model_module": "@jupyter-widgets/controls",
            "_model_module_version": "1.5.0",
            "_model_name": "DescriptionStyleModel",
            "_view_count": null,
            "_view_module": "@jupyter-widgets/base",
            "_view_module_version": "1.2.0",
            "_view_name": "StyleView",
            "description_width": ""
          }
        },
        "b02c1c317dcd45df989cd343cccbd3ed": {
          "model_module": "@jupyter-widgets/base",
          "model_name": "LayoutModel",
          "model_module_version": "1.2.0",
          "state": {
            "_model_module": "@jupyter-widgets/base",
            "_model_module_version": "1.2.0",
            "_model_name": "LayoutModel",
            "_view_count": null,
            "_view_module": "@jupyter-widgets/base",
            "_view_module_version": "1.2.0",
            "_view_name": "LayoutView",
            "align_content": null,
            "align_items": null,
            "align_self": null,
            "border": null,
            "bottom": null,
            "display": null,
            "flex": null,
            "flex_flow": null,
            "grid_area": null,
            "grid_auto_columns": null,
            "grid_auto_flow": null,
            "grid_auto_rows": null,
            "grid_column": null,
            "grid_gap": null,
            "grid_row": null,
            "grid_template_areas": null,
            "grid_template_columns": null,
            "grid_template_rows": null,
            "height": null,
            "justify_content": null,
            "justify_items": null,
            "left": null,
            "margin": null,
            "max_height": null,
            "max_width": null,
            "min_height": null,
            "min_width": null,
            "object_fit": null,
            "object_position": null,
            "order": null,
            "overflow": null,
            "overflow_x": null,
            "overflow_y": null,
            "padding": null,
            "right": null,
            "top": null,
            "visibility": null,
            "width": null
          }
        },
        "746ceb446b1d4ba09a2a9f89616df4b4": {
          "model_module": "@jupyter-widgets/controls",
          "model_name": "ProgressStyleModel",
          "model_module_version": "1.5.0",
          "state": {
            "_model_module": "@jupyter-widgets/controls",
            "_model_module_version": "1.5.0",
            "_model_name": "ProgressStyleModel",
            "_view_count": null,
            "_view_module": "@jupyter-widgets/base",
            "_view_module_version": "1.2.0",
            "_view_name": "StyleView",
            "bar_color": null,
            "description_width": ""
          }
        },
        "87098561b00e4777bbdd17b616d0c8ee": {
          "model_module": "@jupyter-widgets/base",
          "model_name": "LayoutModel",
          "model_module_version": "1.2.0",
          "state": {
            "_model_module": "@jupyter-widgets/base",
            "_model_module_version": "1.2.0",
            "_model_name": "LayoutModel",
            "_view_count": null,
            "_view_module": "@jupyter-widgets/base",
            "_view_module_version": "1.2.0",
            "_view_name": "LayoutView",
            "align_content": null,
            "align_items": null,
            "align_self": null,
            "border": null,
            "bottom": null,
            "display": null,
            "flex": null,
            "flex_flow": null,
            "grid_area": null,
            "grid_auto_columns": null,
            "grid_auto_flow": null,
            "grid_auto_rows": null,
            "grid_column": null,
            "grid_gap": null,
            "grid_row": null,
            "grid_template_areas": null,
            "grid_template_columns": null,
            "grid_template_rows": null,
            "height": null,
            "justify_content": null,
            "justify_items": null,
            "left": null,
            "margin": null,
            "max_height": null,
            "max_width": null,
            "min_height": null,
            "min_width": null,
            "object_fit": null,
            "object_position": null,
            "order": null,
            "overflow": null,
            "overflow_x": null,
            "overflow_y": null,
            "padding": null,
            "right": null,
            "top": null,
            "visibility": null,
            "width": null
          }
        },
        "45ec202ade6c4e3ab96450718d5e4a21": {
          "model_module": "@jupyter-widgets/controls",
          "model_name": "DescriptionStyleModel",
          "model_module_version": "1.5.0",
          "state": {
            "_model_module": "@jupyter-widgets/controls",
            "_model_module_version": "1.5.0",
            "_model_name": "DescriptionStyleModel",
            "_view_count": null,
            "_view_module": "@jupyter-widgets/base",
            "_view_module_version": "1.2.0",
            "_view_name": "StyleView",
            "description_width": ""
          }
        },
        "ec1f2e44c7dd46858199588cad23f79c": {
          "model_module": "@jupyter-widgets/controls",
          "model_name": "HBoxModel",
          "model_module_version": "1.5.0",
          "state": {
            "_dom_classes": [],
            "_model_module": "@jupyter-widgets/controls",
            "_model_module_version": "1.5.0",
            "_model_name": "HBoxModel",
            "_view_count": null,
            "_view_module": "@jupyter-widgets/controls",
            "_view_module_version": "1.5.0",
            "_view_name": "HBoxView",
            "box_style": "",
            "children": [
              "IPY_MODEL_adc18d8f040b46cea24d4a29d7a53171",
              "IPY_MODEL_740a990ddb614e218c4be2b561168057",
              "IPY_MODEL_b26eeaeb83fd492dbf027c6ca4a3ddb0"
            ],
            "layout": "IPY_MODEL_a680eec5ec0a49fdbad593edbfc94487"
          }
        },
        "adc18d8f040b46cea24d4a29d7a53171": {
          "model_module": "@jupyter-widgets/controls",
          "model_name": "HTMLModel",
          "model_module_version": "1.5.0",
          "state": {
            "_dom_classes": [],
            "_model_module": "@jupyter-widgets/controls",
            "_model_module_version": "1.5.0",
            "_model_name": "HTMLModel",
            "_view_count": null,
            "_view_module": "@jupyter-widgets/controls",
            "_view_module_version": "1.5.0",
            "_view_name": "HTMLView",
            "description": "",
            "description_tooltip": null,
            "layout": "IPY_MODEL_40f30eacccbd412badbccbaab11287a7",
            "placeholder": "​",
            "style": "IPY_MODEL_1eea7644514248beb32fe02889ebe8f0",
            "value": "Generating train split: "
          }
        },
        "740a990ddb614e218c4be2b561168057": {
          "model_module": "@jupyter-widgets/controls",
          "model_name": "FloatProgressModel",
          "model_module_version": "1.5.0",
          "state": {
            "_dom_classes": [],
            "_model_module": "@jupyter-widgets/controls",
            "_model_module_version": "1.5.0",
            "_model_name": "FloatProgressModel",
            "_view_count": null,
            "_view_module": "@jupyter-widgets/controls",
            "_view_module_version": "1.5.0",
            "_view_name": "ProgressView",
            "bar_style": "info",
            "description": "",
            "description_tooltip": null,
            "layout": "IPY_MODEL_8ddaebbc23f848eb9c5ef093c6337e1a",
            "max": 1,
            "min": 0,
            "orientation": "horizontal",
            "style": "IPY_MODEL_45ed5c953b8344f5be8ed188e7182982",
            "value": 1
          }
        },
        "b26eeaeb83fd492dbf027c6ca4a3ddb0": {
          "model_module": "@jupyter-widgets/controls",
          "model_name": "HTMLModel",
          "model_module_version": "1.5.0",
          "state": {
            "_dom_classes": [],
            "_model_module": "@jupyter-widgets/controls",
            "_model_module_version": "1.5.0",
            "_model_name": "HTMLModel",
            "_view_count": null,
            "_view_module": "@jupyter-widgets/controls",
            "_view_module_version": "1.5.0",
            "_view_name": "HTMLView",
            "description": "",
            "description_tooltip": null,
            "layout": "IPY_MODEL_bf2668e819554f51a721326327ee51d6",
            "placeholder": "​",
            "style": "IPY_MODEL_6d7e4fac79594b45b5086304655aab02",
            "value": " 0/0 [00:00&lt;?, ? examples/s]"
          }
        },
        "a680eec5ec0a49fdbad593edbfc94487": {
          "model_module": "@jupyter-widgets/base",
          "model_name": "LayoutModel",
          "model_module_version": "1.2.0",
          "state": {
            "_model_module": "@jupyter-widgets/base",
            "_model_module_version": "1.2.0",
            "_model_name": "LayoutModel",
            "_view_count": null,
            "_view_module": "@jupyter-widgets/base",
            "_view_module_version": "1.2.0",
            "_view_name": "LayoutView",
            "align_content": null,
            "align_items": null,
            "align_self": null,
            "border": null,
            "bottom": null,
            "display": null,
            "flex": null,
            "flex_flow": null,
            "grid_area": null,
            "grid_auto_columns": null,
            "grid_auto_flow": null,
            "grid_auto_rows": null,
            "grid_column": null,
            "grid_gap": null,
            "grid_row": null,
            "grid_template_areas": null,
            "grid_template_columns": null,
            "grid_template_rows": null,
            "height": null,
            "justify_content": null,
            "justify_items": null,
            "left": null,
            "margin": null,
            "max_height": null,
            "max_width": null,
            "min_height": null,
            "min_width": null,
            "object_fit": null,
            "object_position": null,
            "order": null,
            "overflow": null,
            "overflow_x": null,
            "overflow_y": null,
            "padding": null,
            "right": null,
            "top": null,
            "visibility": "hidden",
            "width": null
          }
        },
        "40f30eacccbd412badbccbaab11287a7": {
          "model_module": "@jupyter-widgets/base",
          "model_name": "LayoutModel",
          "model_module_version": "1.2.0",
          "state": {
            "_model_module": "@jupyter-widgets/base",
            "_model_module_version": "1.2.0",
            "_model_name": "LayoutModel",
            "_view_count": null,
            "_view_module": "@jupyter-widgets/base",
            "_view_module_version": "1.2.0",
            "_view_name": "LayoutView",
            "align_content": null,
            "align_items": null,
            "align_self": null,
            "border": null,
            "bottom": null,
            "display": null,
            "flex": null,
            "flex_flow": null,
            "grid_area": null,
            "grid_auto_columns": null,
            "grid_auto_flow": null,
            "grid_auto_rows": null,
            "grid_column": null,
            "grid_gap": null,
            "grid_row": null,
            "grid_template_areas": null,
            "grid_template_columns": null,
            "grid_template_rows": null,
            "height": null,
            "justify_content": null,
            "justify_items": null,
            "left": null,
            "margin": null,
            "max_height": null,
            "max_width": null,
            "min_height": null,
            "min_width": null,
            "object_fit": null,
            "object_position": null,
            "order": null,
            "overflow": null,
            "overflow_x": null,
            "overflow_y": null,
            "padding": null,
            "right": null,
            "top": null,
            "visibility": null,
            "width": null
          }
        },
        "1eea7644514248beb32fe02889ebe8f0": {
          "model_module": "@jupyter-widgets/controls",
          "model_name": "DescriptionStyleModel",
          "model_module_version": "1.5.0",
          "state": {
            "_model_module": "@jupyter-widgets/controls",
            "_model_module_version": "1.5.0",
            "_model_name": "DescriptionStyleModel",
            "_view_count": null,
            "_view_module": "@jupyter-widgets/base",
            "_view_module_version": "1.2.0",
            "_view_name": "StyleView",
            "description_width": ""
          }
        },
        "8ddaebbc23f848eb9c5ef093c6337e1a": {
          "model_module": "@jupyter-widgets/base",
          "model_name": "LayoutModel",
          "model_module_version": "1.2.0",
          "state": {
            "_model_module": "@jupyter-widgets/base",
            "_model_module_version": "1.2.0",
            "_model_name": "LayoutModel",
            "_view_count": null,
            "_view_module": "@jupyter-widgets/base",
            "_view_module_version": "1.2.0",
            "_view_name": "LayoutView",
            "align_content": null,
            "align_items": null,
            "align_self": null,
            "border": null,
            "bottom": null,
            "display": null,
            "flex": null,
            "flex_flow": null,
            "grid_area": null,
            "grid_auto_columns": null,
            "grid_auto_flow": null,
            "grid_auto_rows": null,
            "grid_column": null,
            "grid_gap": null,
            "grid_row": null,
            "grid_template_areas": null,
            "grid_template_columns": null,
            "grid_template_rows": null,
            "height": null,
            "justify_content": null,
            "justify_items": null,
            "left": null,
            "margin": null,
            "max_height": null,
            "max_width": null,
            "min_height": null,
            "min_width": null,
            "object_fit": null,
            "object_position": null,
            "order": null,
            "overflow": null,
            "overflow_x": null,
            "overflow_y": null,
            "padding": null,
            "right": null,
            "top": null,
            "visibility": null,
            "width": "20px"
          }
        },
        "45ed5c953b8344f5be8ed188e7182982": {
          "model_module": "@jupyter-widgets/controls",
          "model_name": "ProgressStyleModel",
          "model_module_version": "1.5.0",
          "state": {
            "_model_module": "@jupyter-widgets/controls",
            "_model_module_version": "1.5.0",
            "_model_name": "ProgressStyleModel",
            "_view_count": null,
            "_view_module": "@jupyter-widgets/base",
            "_view_module_version": "1.2.0",
            "_view_name": "StyleView",
            "bar_color": null,
            "description_width": ""
          }
        },
        "bf2668e819554f51a721326327ee51d6": {
          "model_module": "@jupyter-widgets/base",
          "model_name": "LayoutModel",
          "model_module_version": "1.2.0",
          "state": {
            "_model_module": "@jupyter-widgets/base",
            "_model_module_version": "1.2.0",
            "_model_name": "LayoutModel",
            "_view_count": null,
            "_view_module": "@jupyter-widgets/base",
            "_view_module_version": "1.2.0",
            "_view_name": "LayoutView",
            "align_content": null,
            "align_items": null,
            "align_self": null,
            "border": null,
            "bottom": null,
            "display": null,
            "flex": null,
            "flex_flow": null,
            "grid_area": null,
            "grid_auto_columns": null,
            "grid_auto_flow": null,
            "grid_auto_rows": null,
            "grid_column": null,
            "grid_gap": null,
            "grid_row": null,
            "grid_template_areas": null,
            "grid_template_columns": null,
            "grid_template_rows": null,
            "height": null,
            "justify_content": null,
            "justify_items": null,
            "left": null,
            "margin": null,
            "max_height": null,
            "max_width": null,
            "min_height": null,
            "min_width": null,
            "object_fit": null,
            "object_position": null,
            "order": null,
            "overflow": null,
            "overflow_x": null,
            "overflow_y": null,
            "padding": null,
            "right": null,
            "top": null,
            "visibility": null,
            "width": null
          }
        },
        "6d7e4fac79594b45b5086304655aab02": {
          "model_module": "@jupyter-widgets/controls",
          "model_name": "DescriptionStyleModel",
          "model_module_version": "1.5.0",
          "state": {
            "_model_module": "@jupyter-widgets/controls",
            "_model_module_version": "1.5.0",
            "_model_name": "DescriptionStyleModel",
            "_view_count": null,
            "_view_module": "@jupyter-widgets/base",
            "_view_module_version": "1.2.0",
            "_view_name": "StyleView",
            "description_width": ""
          }
        },
        "b587f6e5eb254e44bba2ccaf288798b8": {
          "model_module": "@jupyter-widgets/controls",
          "model_name": "HBoxModel",
          "model_module_version": "1.5.0",
          "state": {
            "_dom_classes": [],
            "_model_module": "@jupyter-widgets/controls",
            "_model_module_version": "1.5.0",
            "_model_name": "HBoxModel",
            "_view_count": null,
            "_view_module": "@jupyter-widgets/controls",
            "_view_module_version": "1.5.0",
            "_view_name": "HBoxView",
            "box_style": "",
            "children": [
              "IPY_MODEL_bb36817a4dce4e63b7e3916a251be443",
              "IPY_MODEL_0ca848b1e1984ad19ae0e6ace1628277",
              "IPY_MODEL_18ec3afe6cc249f9a99dda3eb9800554"
            ],
            "layout": "IPY_MODEL_e9ef539fb2b34bd3b47e87f077e21391"
          }
        },
        "bb36817a4dce4e63b7e3916a251be443": {
          "model_module": "@jupyter-widgets/controls",
          "model_name": "HTMLModel",
          "model_module_version": "1.5.0",
          "state": {
            "_dom_classes": [],
            "_model_module": "@jupyter-widgets/controls",
            "_model_module_version": "1.5.0",
            "_model_name": "HTMLModel",
            "_view_count": null,
            "_view_module": "@jupyter-widgets/controls",
            "_view_module_version": "1.5.0",
            "_view_name": "HTMLView",
            "description": "",
            "description_tooltip": null,
            "layout": "IPY_MODEL_ea04e8dc7d3840efa115556742bbbe01",
            "placeholder": "​",
            "style": "IPY_MODEL_3bdb0a94028d42c6b1af826d9d95ab4b",
            "value": "100%"
          }
        },
        "0ca848b1e1984ad19ae0e6ace1628277": {
          "model_module": "@jupyter-widgets/controls",
          "model_name": "FloatProgressModel",
          "model_module_version": "1.5.0",
          "state": {
            "_dom_classes": [],
            "_model_module": "@jupyter-widgets/controls",
            "_model_module_version": "1.5.0",
            "_model_name": "FloatProgressModel",
            "_view_count": null,
            "_view_module": "@jupyter-widgets/controls",
            "_view_module_version": "1.5.0",
            "_view_name": "ProgressView",
            "bar_style": "success",
            "description": "",
            "description_tooltip": null,
            "layout": "IPY_MODEL_18d11bd7eb514329b0b645ced99dd147",
            "max": 1,
            "min": 0,
            "orientation": "horizontal",
            "style": "IPY_MODEL_c4a9b31c74bb4eeebe0bf4152adb179d",
            "value": 1
          }
        },
        "18ec3afe6cc249f9a99dda3eb9800554": {
          "model_module": "@jupyter-widgets/controls",
          "model_name": "HTMLModel",
          "model_module_version": "1.5.0",
          "state": {
            "_dom_classes": [],
            "_model_module": "@jupyter-widgets/controls",
            "_model_module_version": "1.5.0",
            "_model_name": "HTMLModel",
            "_view_count": null,
            "_view_module": "@jupyter-widgets/controls",
            "_view_module_version": "1.5.0",
            "_view_name": "HTMLView",
            "description": "",
            "description_tooltip": null,
            "layout": "IPY_MODEL_ecfa694657074a32bf69f74d22bd6c3c",
            "placeholder": "​",
            "style": "IPY_MODEL_f23b8d06243a4f96ba69c8cd8ea182e0",
            "value": " 1/1 [00:00&lt;00:00, 21.12it/s]"
          }
        },
        "e9ef539fb2b34bd3b47e87f077e21391": {
          "model_module": "@jupyter-widgets/base",
          "model_name": "LayoutModel",
          "model_module_version": "1.2.0",
          "state": {
            "_model_module": "@jupyter-widgets/base",
            "_model_module_version": "1.2.0",
            "_model_name": "LayoutModel",
            "_view_count": null,
            "_view_module": "@jupyter-widgets/base",
            "_view_module_version": "1.2.0",
            "_view_name": "LayoutView",
            "align_content": null,
            "align_items": null,
            "align_self": null,
            "border": null,
            "bottom": null,
            "display": null,
            "flex": null,
            "flex_flow": null,
            "grid_area": null,
            "grid_auto_columns": null,
            "grid_auto_flow": null,
            "grid_auto_rows": null,
            "grid_column": null,
            "grid_gap": null,
            "grid_row": null,
            "grid_template_areas": null,
            "grid_template_columns": null,
            "grid_template_rows": null,
            "height": null,
            "justify_content": null,
            "justify_items": null,
            "left": null,
            "margin": null,
            "max_height": null,
            "max_width": null,
            "min_height": null,
            "min_width": null,
            "object_fit": null,
            "object_position": null,
            "order": null,
            "overflow": null,
            "overflow_x": null,
            "overflow_y": null,
            "padding": null,
            "right": null,
            "top": null,
            "visibility": null,
            "width": null
          }
        },
        "ea04e8dc7d3840efa115556742bbbe01": {
          "model_module": "@jupyter-widgets/base",
          "model_name": "LayoutModel",
          "model_module_version": "1.2.0",
          "state": {
            "_model_module": "@jupyter-widgets/base",
            "_model_module_version": "1.2.0",
            "_model_name": "LayoutModel",
            "_view_count": null,
            "_view_module": "@jupyter-widgets/base",
            "_view_module_version": "1.2.0",
            "_view_name": "LayoutView",
            "align_content": null,
            "align_items": null,
            "align_self": null,
            "border": null,
            "bottom": null,
            "display": null,
            "flex": null,
            "flex_flow": null,
            "grid_area": null,
            "grid_auto_columns": null,
            "grid_auto_flow": null,
            "grid_auto_rows": null,
            "grid_column": null,
            "grid_gap": null,
            "grid_row": null,
            "grid_template_areas": null,
            "grid_template_columns": null,
            "grid_template_rows": null,
            "height": null,
            "justify_content": null,
            "justify_items": null,
            "left": null,
            "margin": null,
            "max_height": null,
            "max_width": null,
            "min_height": null,
            "min_width": null,
            "object_fit": null,
            "object_position": null,
            "order": null,
            "overflow": null,
            "overflow_x": null,
            "overflow_y": null,
            "padding": null,
            "right": null,
            "top": null,
            "visibility": null,
            "width": null
          }
        },
        "3bdb0a94028d42c6b1af826d9d95ab4b": {
          "model_module": "@jupyter-widgets/controls",
          "model_name": "DescriptionStyleModel",
          "model_module_version": "1.5.0",
          "state": {
            "_model_module": "@jupyter-widgets/controls",
            "_model_module_version": "1.5.0",
            "_model_name": "DescriptionStyleModel",
            "_view_count": null,
            "_view_module": "@jupyter-widgets/base",
            "_view_module_version": "1.2.0",
            "_view_name": "StyleView",
            "description_width": ""
          }
        },
        "18d11bd7eb514329b0b645ced99dd147": {
          "model_module": "@jupyter-widgets/base",
          "model_name": "LayoutModel",
          "model_module_version": "1.2.0",
          "state": {
            "_model_module": "@jupyter-widgets/base",
            "_model_module_version": "1.2.0",
            "_model_name": "LayoutModel",
            "_view_count": null,
            "_view_module": "@jupyter-widgets/base",
            "_view_module_version": "1.2.0",
            "_view_name": "LayoutView",
            "align_content": null,
            "align_items": null,
            "align_self": null,
            "border": null,
            "bottom": null,
            "display": null,
            "flex": null,
            "flex_flow": null,
            "grid_area": null,
            "grid_auto_columns": null,
            "grid_auto_flow": null,
            "grid_auto_rows": null,
            "grid_column": null,
            "grid_gap": null,
            "grid_row": null,
            "grid_template_areas": null,
            "grid_template_columns": null,
            "grid_template_rows": null,
            "height": null,
            "justify_content": null,
            "justify_items": null,
            "left": null,
            "margin": null,
            "max_height": null,
            "max_width": null,
            "min_height": null,
            "min_width": null,
            "object_fit": null,
            "object_position": null,
            "order": null,
            "overflow": null,
            "overflow_x": null,
            "overflow_y": null,
            "padding": null,
            "right": null,
            "top": null,
            "visibility": null,
            "width": null
          }
        },
        "c4a9b31c74bb4eeebe0bf4152adb179d": {
          "model_module": "@jupyter-widgets/controls",
          "model_name": "ProgressStyleModel",
          "model_module_version": "1.5.0",
          "state": {
            "_model_module": "@jupyter-widgets/controls",
            "_model_module_version": "1.5.0",
            "_model_name": "ProgressStyleModel",
            "_view_count": null,
            "_view_module": "@jupyter-widgets/base",
            "_view_module_version": "1.2.0",
            "_view_name": "StyleView",
            "bar_color": null,
            "description_width": ""
          }
        },
        "ecfa694657074a32bf69f74d22bd6c3c": {
          "model_module": "@jupyter-widgets/base",
          "model_name": "LayoutModel",
          "model_module_version": "1.2.0",
          "state": {
            "_model_module": "@jupyter-widgets/base",
            "_model_module_version": "1.2.0",
            "_model_name": "LayoutModel",
            "_view_count": null,
            "_view_module": "@jupyter-widgets/base",
            "_view_module_version": "1.2.0",
            "_view_name": "LayoutView",
            "align_content": null,
            "align_items": null,
            "align_self": null,
            "border": null,
            "bottom": null,
            "display": null,
            "flex": null,
            "flex_flow": null,
            "grid_area": null,
            "grid_auto_columns": null,
            "grid_auto_flow": null,
            "grid_auto_rows": null,
            "grid_column": null,
            "grid_gap": null,
            "grid_row": null,
            "grid_template_areas": null,
            "grid_template_columns": null,
            "grid_template_rows": null,
            "height": null,
            "justify_content": null,
            "justify_items": null,
            "left": null,
            "margin": null,
            "max_height": null,
            "max_width": null,
            "min_height": null,
            "min_width": null,
            "object_fit": null,
            "object_position": null,
            "order": null,
            "overflow": null,
            "overflow_x": null,
            "overflow_y": null,
            "padding": null,
            "right": null,
            "top": null,
            "visibility": null,
            "width": null
          }
        },
        "f23b8d06243a4f96ba69c8cd8ea182e0": {
          "model_module": "@jupyter-widgets/controls",
          "model_name": "DescriptionStyleModel",
          "model_module_version": "1.5.0",
          "state": {
            "_model_module": "@jupyter-widgets/controls",
            "_model_module_version": "1.5.0",
            "_model_name": "DescriptionStyleModel",
            "_view_count": null,
            "_view_module": "@jupyter-widgets/base",
            "_view_module_version": "1.2.0",
            "_view_name": "StyleView",
            "description_width": ""
          }
        }
      }
    }
  },
  "cells": [
    {
      "cell_type": "markdown",
      "metadata": {
        "id": "view-in-github",
        "colab_type": "text"
      },
      "source": [
        "<a href=\"https://colab.research.google.com/github/sudarshan-koirala/youtube-stuffs/blob/main/langchain/LangChain_Usecases.ipynb\" target=\"_parent\"><img src=\"https://colab.research.google.com/assets/colab-badge.svg\" alt=\"Open In Colab\"/></a>"
      ]
    },
    {
      "cell_type": "markdown",
      "source": [
        "# 🦜️🔗 LangChain Use Cases 🔑🔎\n",
        "In this notebook, we'll explore 9 different Use cases of LangChain. "
      ],
      "metadata": {
        "id": "yTdPFcqYlvTz"
      }
    },
    {
      "cell_type": "markdown",
      "source": [
        "> 🦜️🔗 LangChain is a framework for developing applications powered by language models\n"
      ],
      "metadata": {
        "id": "EHm1oFMc12zd"
      }
    },
    {
      "cell_type": "markdown",
      "source": [
        "> 🍿 I have already created a video covering [LangChain Components](https://youtu.be/r1HjwBSS80g)   \n",
        "> 📚 LangChain Use Cases official [documentation](https://docs.langchain.com/docs/category/use-cases)"
      ],
      "metadata": {
        "id": "9e5DxrLVfH1q"
      }
    },
    {
      "cell_type": "markdown",
      "source": [
        "✍️ NOTE from my side:\n",
        "- GPT4 is not being used, mostly, `gpt-3.5-turbo` and `text-davinci-003` are used which are the default models from LangChain based on the specific task we perform.\n",
        "- By no means I am an expert on this topic, I am learning myself and decided to provide this for the community, so most of you get benefit out of it.\n",
        "- For detailed information and documentation, refer to the official [LangChain documentation](https://python.langchain.com/en/latest/index.html)\n",
        "- For more information, you could watch the playlist of [LangChain](https://www.youtube.com/playlist?list=PLz-qytj7eIWVd1a5SsQ1dzOjVDHdgC1Ck) in my youtube channel."
      ],
      "metadata": {
        "id": "GaVlcXo3j0zN"
      }
    },
    {
      "cell_type": "markdown",
      "source": [
        "# 📑🔍 Table of Contents"
      ],
      "metadata": {
        "id": "3-PboxMorLQz"
      }
    },
    {
      "cell_type": "markdown",
      "source": [
        ">[🦜️🔗 LangChain Use Cases 🔑🔎](#scrollTo=yTdPFcqYlvTz)\n",
        "\n",
        ">[📑🔍 Table of Contents](#scrollTo=3-PboxMorLQz)\n",
        "\n",
        ">[⚙️ Setup](#scrollTo=6wL3laYImIY-)\n",
        "\n",
        ">[❓ Question Answering Over Docs](#scrollTo=-7Zn8o9ErrZz)\n",
        "\n",
        ">[💬 Chatbots](#scrollTo=07UooJcX2lDg)\n",
        "\n",
        ">[📚 Querying Tabular Data](#scrollTo=f-OahQD-DVSZ)\n",
        "\n",
        ">[🔌 Interacting with APIs](#scrollTo=ewHeLLxbp_O8)\n",
        "\n",
        ">[📝 Summarization](#scrollTo=7euBT1AOsKbf)\n",
        "\n",
        ">[📤 Extraction](#scrollTo=ISYs1VrbJtwr)\n",
        "\n",
        ">[🧐 Evaluation](#scrollTo=HLKhDE0aQ8QC)\n",
        "\n",
        ">[🤔💻 Code Understanding](#scrollTo=XiQDl7aUQ_Pu)\n",
        "\n",
        ">[🤖 Agents](#scrollTo=XKB1UL04RLP5)\n",
        "\n"
      ],
      "metadata": {
        "colab_type": "toc",
        "id": "_F6RfllarBhE"
      }
    },
    {
      "cell_type": "markdown",
      "source": [
        "# ⚙️ Setup"
      ],
      "metadata": {
        "id": "6wL3laYImIY-"
      }
    },
    {
      "cell_type": "code",
      "execution_count": null,
      "metadata": {
        "id": "_EkR21whlkn6"
      },
      "outputs": [],
      "source": [
        "%%capture\n",
        "!pip install langchain openai watermark"
      ]
    },
    {
      "cell_type": "code",
      "source": [
        "import os\n",
        "import openai\n",
        "import warnings\n",
        "\n",
        "warnings.filterwarnings(\"ignore\")"
      ],
      "metadata": {
        "id": "vUvulhuIYRIF"
      },
      "execution_count": null,
      "outputs": []
    },
    {
      "cell_type": "code",
      "source": [
        "%reload_ext watermark\n",
        "%watermark -a \"Sudarshan Koirala\" -vmp langchain,openai"
      ],
      "metadata": {
        "colab": {
          "base_uri": "https://localhost:8080/"
        },
        "id": "GiCdh2f7X7If",
        "outputId": "91984996-e5de-4851-b4c0-8f87e159b81f"
      },
      "execution_count": null,
      "outputs": [
        {
          "output_type": "stream",
          "name": "stdout",
          "text": [
            "Author: Sudarshan Koirala\n",
            "\n",
            "Python implementation: CPython\n",
            "Python version       : 3.10.11\n",
            "IPython version      : 7.34.0\n",
            "\n",
            "langchain: 0.0.165\n",
            "openai   : 0.27.6\n",
            "\n",
            "Compiler    : GCC 9.4.0\n",
            "OS          : Linux\n",
            "Release     : 5.10.147+\n",
            "Machine     : x86_64\n",
            "Processor   : x86_64\n",
            "CPU cores   : 2\n",
            "Architecture: 64bit\n",
            "\n"
          ]
        }
      ]
    },
    {
      "cell_type": "code",
      "source": [
        "# get your openai api key from https://platform.openai.com/account/api-keys 🔑\n",
        "from getpass import getpass\n",
        "\n",
        "OPENAI_API_KEY = getpass()\n",
        "os.environ[\"OPENAI_API_KEY\"] = OPENAI_API_KEY\n",
        "openai.api_key = os.getenv(\"OPENAI_API_KEY\")"
      ],
      "metadata": {
        "colab": {
          "base_uri": "https://localhost:8080/"
        },
        "id": "utbIcWyJg3lB",
        "outputId": "7b561a02-8ba8-44e5-85b8-6d08f8fb1819"
      },
      "execution_count": null,
      "outputs": [
        {
          "name": "stdout",
          "output_type": "stream",
          "text": [
            "··········\n"
          ]
        }
      ]
    },
    {
      "cell_type": "code",
      "source": [
        "from langchain.chat_models import ChatOpenAI\n",
        "from langchain.llms import OpenAI"
      ],
      "metadata": {
        "id": "w3C_E0-Wh0Bh"
      },
      "execution_count": null,
      "outputs": []
    },
    {
      "cell_type": "markdown",
      "source": [
        "\n",
        "- In my earlier videos in the [LangChain Series](https://www.youtube.com/playlist?list=PLz-qytj7eIWVd1a5SsQ1dzOjVDHdgC1Ck), I have demostrated how you can integrate the use case using [Streamlit](https://streamlit.io/) and [Gradio](https://www.gradio.app/). \n",
        "- In this case, I will just go through the use-case as it is in the notebook, you could integrate it into app like feeling referring to the earlier videos. 🙏"
      ],
      "metadata": {
        "id": "xalCXYnLreV7"
      }
    },
    {
      "cell_type": "markdown",
      "source": [
        "# 1. [ ❓ Question Answering Over Docs](https://docs.langchain.com/docs/use-cases/qa-docs) \n",
        "- [Chat With Any CSV](https://youtu.be/ZwxdQB9HjTU), [Chat with Multiple Documents](https://youtu.be/TeDgIDqQmzs), [Chat with Any Pdf](https://youtu.be/edQzdkrDRGM)"
      ],
      "metadata": {
        "id": "-7Zn8o9ErrZz"
      }
    },
    {
      "cell_type": "code",
      "source": [
        "# Normally simple things are over shadowed :)\n",
        "\n",
        "from langchain.llms import OpenAI"
      ],
      "metadata": {
        "id": "pnW5taM7qMJx"
      },
      "execution_count": null,
      "outputs": []
    },
    {
      "cell_type": "code",
      "source": [
        "llm = OpenAI()"
      ],
      "metadata": {
        "id": "Xc5mBCtI1CJT"
      },
      "execution_count": null,
      "outputs": []
    },
    {
      "cell_type": "code",
      "source": [
        "llm(\"who is from Nepal ?\")"
      ],
      "metadata": {
        "colab": {
          "base_uri": "https://localhost:8080/",
          "height": 36
        },
        "id": "Wgt29VUB1_f7",
        "outputId": "94f30afa-878c-41c0-89c4-f297c0b9d447"
      },
      "execution_count": null,
      "outputs": [
        {
          "output_type": "execute_result",
          "data": {
            "text/plain": [
              "'\\n\\nNepalis are people who are from Nepal.'"
            ],
            "application/vnd.google.colaboratory.intrinsic+json": {
              "type": "string"
            }
          },
          "metadata": {},
          "execution_count": 20
        }
      ]
    },
    {
      "cell_type": "code",
      "source": [
        "context = \"\"\"\n",
        "Sudarshan is from Nepal.\n",
        "Ashish is from India.\n",
        "Mikko is from Finland.\n",
        "Khoa is from Vietnam.\n",
        "\"\"\"\n",
        "\n",
        "question = \"Who is from Nepal ?\""
      ],
      "metadata": {
        "id": "d-GwMYdv1Q1W"
      },
      "execution_count": null,
      "outputs": []
    },
    {
      "cell_type": "code",
      "source": [
        "output = llm(context + question)\n",
        "print(output)"
      ],
      "metadata": {
        "colab": {
          "base_uri": "https://localhost:8080/"
        },
        "id": "ydC7-C9216fP",
        "outputId": "95ef3c21-814e-416a-ae5b-b8dff4d3f800"
      },
      "execution_count": null,
      "outputs": [
        {
          "output_type": "stream",
          "name": "stdout",
          "text": [
            "\n",
            "Sudarshan is from Nepal.\n"
          ]
        }
      ]
    },
    {
      "cell_type": "markdown",
      "source": [
        "# 2. [ 💬 Chatbots](https://docs.langchain.com/docs/use-cases/chatbots)\n",
        "ChatGPT is one of the chatbot so you know what it is already. They are oftern very powerful when combined with other sources of data.\n",
        "- [Chat With Any CSV](https://youtu.be/ZwxdQB9HjTU), [Chat with Multiple Documents](https://youtu.be/TeDgIDqQmzs), [Chat with Any Pdf](https://youtu.be/edQzdkrDRGM)\n",
        "- In this example, lets create a ChatGPT Clone"
      ],
      "metadata": {
        "id": "07UooJcX2lDg"
      }
    },
    {
      "cell_type": "code",
      "source": [
        "from langchain import OpenAI, ConversationChain, LLMChain, PromptTemplate\n",
        "from langchain.memory import ConversationBufferWindowMemory\n",
        "\n",
        "\n",
        "template = \"\"\"\n",
        "You are an assistant trained by OpenAI.\n",
        "Your goal is to provide help just with foods.\n",
        "Don't provide answer other than food related topics. \n",
        "Just output \"I don't know\" if other topics are asked.\n",
        "\n",
        "{history}\n",
        "Human: {human_input}\n",
        "Assistant:\"\"\"\n",
        "\n",
        "prompt = PromptTemplate(\n",
        "    input_variables=[\"history\", \"human_input\"], \n",
        "    template=template)\n",
        "\n",
        "\n",
        "chatgpt_chain = LLMChain(\n",
        "    llm=OpenAI(temperature=0),\n",
        "    prompt=prompt,\n",
        "    verbose=True,\n",
        "    memory=ConversationBufferWindowMemory(memory_key=\"history\"),\n",
        ")\n",
        "\n",
        "output = chatgpt_chain.predict(\n",
        "    human_input=\"What is Python?\"\n",
        ")\n",
        "print(output)"
      ],
      "metadata": {
        "colab": {
          "base_uri": "https://localhost:8080/",
          "height": 295
        },
        "id": "JcvSLnpO2W4N",
        "outputId": "2444cae0-c591-424d-d6a6-1e44cebc1747"
      },
      "execution_count": null,
      "outputs": [
        {
          "output_type": "display_data",
          "data": {
            "text/plain": [
              "<IPython.core.display.HTML object>"
            ],
            "text/html": [
              "\n",
              "  <style>\n",
              "    pre {\n",
              "        white-space: pre-wrap;\n",
              "    }\n",
              "  </style>\n",
              "  "
            ]
          },
          "metadata": {}
        },
        {
          "output_type": "stream",
          "name": "stdout",
          "text": [
            "\n",
            "\n",
            "\u001b[1m> Entering new LLMChain chain...\u001b[0m\n",
            "Prompt after formatting:\n",
            "\u001b[32;1m\u001b[1;3m\n",
            "Your are an assistant trained by OpenAI.\n",
            "Your goal is to provide help just with foods.\n",
            "Don't provide answer other than food related topics. \n",
            "Just output \"I don't know\" if other topics are asked.\n",
            "\n",
            "\n",
            "Human: What is Python?\n",
            "Assistant:\u001b[0m\n",
            "\n",
            "\u001b[1m> Finished chain.\u001b[0m\n",
            " I don't know.\n"
          ]
        }
      ]
    },
    {
      "cell_type": "code",
      "source": [
        "output = chatgpt_chain.predict(human_input=\"Which fruit is better, apple or orange ?\")\n",
        "print(output)"
      ],
      "metadata": {
        "id": "zV6MP9TX6A87",
        "colab": {
          "base_uri": "https://localhost:8080/",
          "height": 329
        },
        "outputId": "a9c02379-a428-441e-e957-add4b5cd150a"
      },
      "execution_count": null,
      "outputs": [
        {
          "output_type": "display_data",
          "data": {
            "text/plain": [
              "<IPython.core.display.HTML object>"
            ],
            "text/html": [
              "\n",
              "  <style>\n",
              "    pre {\n",
              "        white-space: pre-wrap;\n",
              "    }\n",
              "  </style>\n",
              "  "
            ]
          },
          "metadata": {}
        },
        {
          "output_type": "stream",
          "name": "stdout",
          "text": [
            "\n",
            "\n",
            "\u001b[1m> Entering new LLMChain chain...\u001b[0m\n",
            "Prompt after formatting:\n",
            "\u001b[32;1m\u001b[1;3m\n",
            "Your are an assistant trained by OpenAI.\n",
            "Your goal is to provide help just with foods.\n",
            "Don't provide answer other than food related topics. \n",
            "Just output \"I don't know\" if other topics are asked.\n",
            "\n",
            "Human: What is Python?\n",
            "AI:  I don't know.\n",
            "Human: Which fruit is better, apple or orange ?\n",
            "Assistant:\u001b[0m\n",
            "\n",
            "\u001b[1m> Finished chain.\u001b[0m\n",
            " Apples are a good source of fiber, vitamins, and antioxidants, while oranges are a good source of vitamin C, folate, and potassium.\n"
          ]
        }
      ]
    },
    {
      "cell_type": "code",
      "source": [
        "output = chatgpt_chain.predict(human_input=\"What about apple and samsung ?\")\n",
        "print(output)"
      ],
      "metadata": {
        "colab": {
          "base_uri": "https://localhost:8080/",
          "height": 364
        },
        "id": "yveRu0sG_MCy",
        "outputId": "ccc31a8e-4dc4-47c9-e5a7-667fc63179aa"
      },
      "execution_count": null,
      "outputs": [
        {
          "output_type": "display_data",
          "data": {
            "text/plain": [
              "<IPython.core.display.HTML object>"
            ],
            "text/html": [
              "\n",
              "  <style>\n",
              "    pre {\n",
              "        white-space: pre-wrap;\n",
              "    }\n",
              "  </style>\n",
              "  "
            ]
          },
          "metadata": {}
        },
        {
          "output_type": "stream",
          "name": "stdout",
          "text": [
            "\n",
            "\n",
            "\u001b[1m> Entering new LLMChain chain...\u001b[0m\n",
            "Prompt after formatting:\n",
            "\u001b[32;1m\u001b[1;3m\n",
            "Your are an assistant trained by OpenAI.\n",
            "Your goal is to provide help just with foods.\n",
            "Don't provide answer other than food related topics. \n",
            "Just output \"I don't know\" if other topics are asked.\n",
            "\n",
            "Human: What is Python?\n",
            "AI:  I don't know.\n",
            "Human: Which fruit is better, apple or orange ?\n",
            "AI:  Apples are a good source of fiber, vitamins, and antioxidants, while oranges are a good source of vitamin C, folate, and potassium.\n",
            "Human: What about apple and samsung ?\n",
            "Assistant:\u001b[0m\n",
            "\n",
            "\u001b[1m> Finished chain.\u001b[0m\n",
            " I don't know.\n"
          ]
        }
      ]
    },
    {
      "cell_type": "code",
      "source": [
        "output = chatgpt_chain.predict(human_input=\"What is the first question I asked you ?\")\n",
        "print(output)"
      ],
      "metadata": {
        "colab": {
          "base_uri": "https://localhost:8080/",
          "height": 399
        },
        "id": "BQ_by5VpAxk6",
        "outputId": "458102d7-1f0b-41b2-bfd7-1b3f9b02a832"
      },
      "execution_count": null,
      "outputs": [
        {
          "output_type": "display_data",
          "data": {
            "text/plain": [
              "<IPython.core.display.HTML object>"
            ],
            "text/html": [
              "\n",
              "  <style>\n",
              "    pre {\n",
              "        white-space: pre-wrap;\n",
              "    }\n",
              "  </style>\n",
              "  "
            ]
          },
          "metadata": {}
        },
        {
          "output_type": "stream",
          "name": "stdout",
          "text": [
            "\n",
            "\n",
            "\u001b[1m> Entering new LLMChain chain...\u001b[0m\n",
            "Prompt after formatting:\n",
            "\u001b[32;1m\u001b[1;3m\n",
            "Your are an assistant trained by OpenAI.\n",
            "Your goal is to provide help just with foods.\n",
            "Don't provide answer other than food related topics. \n",
            "Just output \"I don't know\" if other topics are asked.\n",
            "\n",
            "Human: What is Python?\n",
            "AI:  I don't know.\n",
            "Human: Which fruit is better, apple or orange ?\n",
            "AI:  Apples are a good source of fiber, vitamins, and antioxidants, while oranges are a good source of vitamin C, folate, and potassium.\n",
            "Human: What about apple and samsung ?\n",
            "AI:  I don't know.\n",
            "Human: What is the first question I asked you ?\n",
            "Assistant:\u001b[0m\n",
            "\n",
            "\u001b[1m> Finished chain.\u001b[0m\n",
            " What is Python?\n"
          ]
        }
      ]
    },
    {
      "cell_type": "markdown",
      "source": [
        "# 3. [ 📚 Querying Tabular Data](https://python.langchain.com/en/latest/use_cases/tabular.html)\n",
        "- Earlier video in this topic: [ChatCSV: Chat With Any CSV](https://youtu.be/ZwxdQB9HjTU)\n",
        "- I covered `CSV Agent` and `Pandas Agent` befor, lets go through the `SQL Agent`.\n",
        "- [SQL Chain example from langchain](https://python.langchain.com/en/latest/modules/chains/examples/sqlite.html)"
      ],
      "metadata": {
        "id": "f-OahQD-DVSZ"
      }
    },
    {
      "cell_type": "code",
      "source": [
        "from langchain import OpenAI, SQLDatabase, SQLDatabaseChain"
      ],
      "metadata": {
        "colab": {
          "base_uri": "https://localhost:8080/",
          "height": 17
        },
        "id": "73O0dQOkU1P2",
        "outputId": "e091acf2-bdf7-4a2e-bfd8-e3ff1fdca9e0"
      },
      "execution_count": null,
      "outputs": [
        {
          "output_type": "display_data",
          "data": {
            "text/plain": [
              "<IPython.core.display.HTML object>"
            ],
            "text/html": [
              "\n",
              "  <style>\n",
              "    pre {\n",
              "        white-space: pre-wrap;\n",
              "    }\n",
              "  </style>\n",
              "  "
            ]
          },
          "metadata": {}
        }
      ]
    },
    {
      "cell_type": "code",
      "source": [
        "sqlite_db_path = \"/content/Chinook.db\"\n",
        "db = SQLDatabase.from_uri(f\"sqlite:///{sqlite_db_path}\")\n",
        "llm = OpenAI(temperature=0)"
      ],
      "metadata": {
        "colab": {
          "base_uri": "https://localhost:8080/",
          "height": 17
        },
        "id": "ldWx4aB4XD8_",
        "outputId": "93f4a568-a9fb-493b-de2e-20e9673c9bd2"
      },
      "execution_count": null,
      "outputs": [
        {
          "output_type": "display_data",
          "data": {
            "text/plain": [
              "<IPython.core.display.HTML object>"
            ],
            "text/html": [
              "\n",
              "  <style>\n",
              "    pre {\n",
              "        white-space: pre-wrap;\n",
              "    }\n",
              "  </style>\n",
              "  "
            ]
          },
          "metadata": {}
        }
      ]
    },
    {
      "cell_type": "code",
      "source": [
        "db_chain = SQLDatabaseChain.from_llm(llm=llm, database=db, verbose=True)"
      ],
      "metadata": {
        "colab": {
          "base_uri": "https://localhost:8080/",
          "height": 17
        },
        "id": "0A41nUHzaA18",
        "outputId": "044d32de-99aa-47e3-ea6d-3cb4697272d2"
      },
      "execution_count": null,
      "outputs": [
        {
          "output_type": "display_data",
          "data": {
            "text/plain": [
              "<IPython.core.display.HTML object>"
            ],
            "text/html": [
              "\n",
              "  <style>\n",
              "    pre {\n",
              "        white-space: pre-wrap;\n",
              "    }\n",
              "  </style>\n",
              "  "
            ]
          },
          "metadata": {}
        }
      ]
    },
    {
      "cell_type": "code",
      "source": [
        "db_chain.run(\"How many employees are there?\")"
      ],
      "metadata": {
        "colab": {
          "base_uri": "https://localhost:8080/",
          "height": 174
        },
        "id": "dX8ei2TdaEWi",
        "outputId": "2010c8ec-30dc-4b99-ecbe-ad25ef68c43e"
      },
      "execution_count": null,
      "outputs": [
        {
          "output_type": "display_data",
          "data": {
            "text/plain": [
              "<IPython.core.display.HTML object>"
            ],
            "text/html": [
              "\n",
              "  <style>\n",
              "    pre {\n",
              "        white-space: pre-wrap;\n",
              "    }\n",
              "  </style>\n",
              "  "
            ]
          },
          "metadata": {}
        },
        {
          "output_type": "stream",
          "name": "stdout",
          "text": [
            "\n",
            "\n",
            "\u001b[1m> Entering new SQLDatabaseChain chain...\u001b[0m\n",
            "How many employees are there?\n",
            "SQLQuery:\u001b[32;1m\u001b[1;3m SELECT COUNT(*) FROM \"Employee\";\u001b[0m\n",
            "SQLResult: \u001b[33;1m\u001b[1;3m[(8,)]\u001b[0m\n",
            "Answer:\u001b[32;1m\u001b[1;3m There are 8 employees.\u001b[0m\n",
            "\u001b[1m> Finished chain.\u001b[0m\n"
          ]
        },
        {
          "output_type": "execute_result",
          "data": {
            "text/plain": [
              "' There are 8 employees.'"
            ],
            "application/vnd.google.colaboratory.intrinsic+json": {
              "type": "string"
            }
          },
          "metadata": {},
          "execution_count": 82
        }
      ]
    },
    {
      "cell_type": "markdown",
      "source": [
        "WOW! Natural Language to Natural Langauge. But quite a things went on there if you observe closely."
      ],
      "metadata": {
        "id": "uSzo3xFTbyla"
      }
    },
    {
      "cell_type": "markdown",
      "source": [
        "![image.png](data:image/png;base64,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)"
      ],
      "metadata": {
        "id": "n82LiLcvc7XE"
      }
    },
    {
      "cell_type": "markdown",
      "source": [
        "Returning the intermediate steps."
      ],
      "metadata": {
        "id": "J5GYwK06enWR"
      }
    },
    {
      "cell_type": "code",
      "source": [
        "db_chain = SQLDatabaseChain.from_llm(llm, db, return_intermediate_steps=True, verbose=True)\n",
        "result = db_chain(\"How many employees are there?\")\n",
        "result['intermediate_steps']"
      ],
      "metadata": {
        "colab": {
          "base_uri": "https://localhost:8080/",
          "height": 173
        },
        "id": "XGfqjrQqaHEg",
        "outputId": "089e7e86-82ae-4cc5-91db-9f727a7ec371"
      },
      "execution_count": null,
      "outputs": [
        {
          "output_type": "display_data",
          "data": {
            "text/plain": [
              "<IPython.core.display.HTML object>"
            ],
            "text/html": [
              "\n",
              "  <style>\n",
              "    pre {\n",
              "        white-space: pre-wrap;\n",
              "    }\n",
              "  </style>\n",
              "  "
            ]
          },
          "metadata": {}
        },
        {
          "output_type": "stream",
          "name": "stdout",
          "text": [
            "\n",
            "\n",
            "\u001b[1m> Entering new SQLDatabaseChain chain...\u001b[0m\n",
            "How many employees are there?\n",
            "SQLQuery:\u001b[32;1m\u001b[1;3m SELECT COUNT(*) FROM \"Employee\";\u001b[0m\n",
            "SQLResult: \u001b[33;1m\u001b[1;3m[(8,)]\u001b[0m\n",
            "Answer:\u001b[32;1m\u001b[1;3m There are 8 employees.\u001b[0m\n",
            "\u001b[1m> Finished chain.\u001b[0m\n"
          ]
        },
        {
          "output_type": "execute_result",
          "data": {
            "text/plain": [
              "[' SELECT COUNT(*) FROM \"Employee\";', '[(8,)]']"
            ]
          },
          "metadata": {},
          "execution_count": 84
        }
      ]
    },
    {
      "cell_type": "markdown",
      "source": [
        "# 4. [ 🔌 Interacting with APIs](https://docs.langchain.com/docs/use-cases/apis)\n",
        "- APIs are powerful because if you need to perform some action or talk to data from behind an API, we need LLM to interact with it.\n",
        "- Lets go through on example using [Open-Meteo](https://open-meteo.com/) which is a free weather api.\n",
        "- Open-Meteo is an open-source weather API with free access for non-commercial use. No API key is required."
      ],
      "metadata": {
        "id": "ewHeLLxbp_O8"
      }
    },
    {
      "cell_type": "code",
      "source": [
        "from langchain.chains import APIChain\n",
        "from langchain.prompts.prompt import PromptTemplate\n",
        "from langchain.llms import OpenAI\n",
        "\n",
        "llm = OpenAI(temperature=0)"
      ],
      "metadata": {
        "id": "Gn4LtIqJfVzz"
      },
      "execution_count": null,
      "outputs": []
    },
    {
      "cell_type": "code",
      "source": [
        "from langchain.chains.api import open_meteo_docs\n",
        "chain_new = APIChain.from_llm_and_api_docs(llm, open_meteo_docs.OPEN_METEO_DOCS, verbose=True)"
      ],
      "metadata": {
        "id": "lOdytpIArkoq"
      },
      "execution_count": null,
      "outputs": []
    },
    {
      "cell_type": "code",
      "source": [
        "chain_new.run('What is the weather like right now in Helsinki, Finlnad in degrees Celsius?')"
      ],
      "metadata": {
        "id": "hk0uaaI1rzVi",
        "colab": {
          "base_uri": "https://localhost:8080/",
          "height": 180
        },
        "outputId": "db0f8c53-e4f4-4763-f4b0-7439ac3aebe2"
      },
      "execution_count": null,
      "outputs": [
        {
          "output_type": "stream",
          "name": "stdout",
          "text": [
            "\n",
            "\n",
            "\u001b[1m> Entering new APIChain chain...\u001b[0m\n",
            "\u001b[32;1m\u001b[1;3mhttps://api.open-meteo.com/v1/forecast?latitude=60.17&longitude=24.94&hourly=temperature_2m&current_weather=true&temperature_unit=celsius\u001b[0m\n",
            "\u001b[33;1m\u001b[1;3m{\"latitude\":60.16998,\"longitude\":24.94519,\"generationtime_ms\":0.164031982421875,\"utc_offset_seconds\":0,\"timezone\":\"GMT\",\"timezone_abbreviation\":\"GMT\",\"elevation\":7.0,\"current_weather\":{\"temperature\":18.1,\"windspeed\":10.4,\"winddirection\":230.0,\"weathercode\":0,\"is_day\":1,\"time\":\"2023-05-12T17:00\"},\"hourly_units\":{\"time\":\"iso8601\",\"temperature_2m\":\"°C\"},\"hourly\":{\"time\":[\"2023-05-12T00:00\",\"2023-05-12T01:00\",\"2023-05-12T02:00\",\"2023-05-12T03:00\",\"2023-05-12T04:00\",\"2023-05-12T05:00\",\"2023-05-12T06:00\",\"2023-05-12T07:00\",\"2023-05-12T08:00\",\"2023-05-12T09:00\",\"2023-05-12T10:00\",\"2023-05-12T11:00\",\"2023-05-12T12:00\",\"2023-05-12T13:00\",\"2023-05-12T14:00\",\"2023-05-12T15:00\",\"2023-05-12T16:00\",\"2023-05-12T17:00\",\"2023-05-12T18:00\",\"2023-05-12T19:00\",\"2023-05-12T20:00\",\"2023-05-12T21:00\",\"2023-05-12T22:00\",\"2023-05-12T23:00\",\"2023-05-13T00:00\",\"2023-05-13T01:00\",\"2023-05-13T02:00\",\"2023-05-13T03:00\",\"2023-05-13T04:00\",\"2023-05-13T05:00\",\"2023-05-13T06:00\",\"2023-05-13T07:00\",\"2023-05-13T08:00\",\"2023-05-13T09:00\",\"2023-05-13T10:00\",\"2023-05-13T11:00\",\"2023-05-13T12:00\",\"2023-05-13T13:00\",\"2023-05-13T14:00\",\"2023-05-13T15:00\",\"2023-05-13T16:00\",\"2023-05-13T17:00\",\"2023-05-13T18:00\",\"2023-05-13T19:00\",\"2023-05-13T20:00\",\"2023-05-13T21:00\",\"2023-05-13T22:00\",\"2023-05-13T23:00\",\"2023-05-14T00:00\",\"2023-05-14T01:00\",\"2023-05-14T02:00\",\"2023-05-14T03:00\",\"2023-05-14T04:00\",\"2023-05-14T05:00\",\"2023-05-14T06:00\",\"2023-05-14T07:00\",\"2023-05-14T08:00\",\"2023-05-14T09:00\",\"2023-05-14T10:00\",\"2023-05-14T11:00\",\"2023-05-14T12:00\",\"2023-05-14T13:00\",\"2023-05-14T14:00\",\"2023-05-14T15:00\",\"2023-05-14T16:00\",\"2023-05-14T17:00\",\"2023-05-14T18:00\",\"2023-05-14T19:00\",\"2023-05-14T20:00\",\"2023-05-14T21:00\",\"2023-05-14T22:00\",\"2023-05-14T23:00\",\"2023-05-15T00:00\",\"2023-05-15T01:00\",\"2023-05-15T02:00\",\"2023-05-15T03:00\",\"2023-05-15T04:00\",\"2023-05-15T05:00\",\"2023-05-15T06:00\",\"2023-05-15T07:00\",\"2023-05-15T08:00\",\"2023-05-15T09:00\",\"2023-05-15T10:00\",\"2023-05-15T11:00\",\"2023-05-15T12:00\",\"2023-05-15T13:00\",\"2023-05-15T14:00\",\"2023-05-15T15:00\",\"2023-05-15T16:00\",\"2023-05-15T17:00\",\"2023-05-15T18:00\",\"2023-05-15T19:00\",\"2023-05-15T20:00\",\"2023-05-15T21:00\",\"2023-05-15T22:00\",\"2023-05-15T23:00\",\"2023-05-16T00:00\",\"2023-05-16T01:00\",\"2023-05-16T02:00\",\"2023-05-16T03:00\",\"2023-05-16T04:00\",\"2023-05-16T05:00\",\"2023-05-16T06:00\",\"2023-05-16T07:00\",\"2023-05-16T08:00\",\"2023-05-16T09:00\",\"2023-05-16T10:00\",\"2023-05-16T11:00\",\"2023-05-16T12:00\",\"2023-05-16T13:00\",\"2023-05-16T14:00\",\"2023-05-16T15:00\",\"2023-05-16T16:00\",\"2023-05-16T17:00\",\"2023-05-16T18:00\",\"2023-05-16T19:00\",\"2023-05-16T20:00\",\"2023-05-16T21:00\",\"2023-05-16T22:00\",\"2023-05-16T23:00\",\"2023-05-17T00:00\",\"2023-05-17T01:00\",\"2023-05-17T02:00\",\"2023-05-17T03:00\",\"2023-05-17T04:00\",\"2023-05-17T05:00\",\"2023-05-17T06:00\",\"2023-05-17T07:00\",\"2023-05-17T08:00\",\"2023-05-17T09:00\",\"2023-05-17T10:00\",\"2023-05-17T11:00\",\"2023-05-17T12:00\",\"2023-05-17T13:00\",\"2023-05-17T14:00\",\"2023-05-17T15:00\",\"2023-05-17T16:00\",\"2023-05-17T17:00\",\"2023-05-17T18:00\",\"2023-05-17T19:00\",\"2023-05-17T20:00\",\"2023-05-17T21:00\",\"2023-05-17T22:00\",\"2023-05-17T23:00\",\"2023-05-18T00:00\",\"2023-05-18T01:00\",\"2023-05-18T02:00\",\"2023-05-18T03:00\",\"2023-05-18T04:00\",\"2023-05-18T05:00\",\"2023-05-18T06:00\",\"2023-05-18T07:00\",\"2023-05-18T08:00\",\"2023-05-18T09:00\",\"2023-05-18T10:00\",\"2023-05-18T11:00\",\"2023-05-18T12:00\",\"2023-05-18T13:00\",\"2023-05-18T14:00\",\"2023-05-18T15:00\",\"2023-05-18T16:00\",\"2023-05-18T17:00\",\"2023-05-18T18:00\",\"2023-05-18T19:00\",\"2023-05-18T20:00\",\"2023-05-18T21:00\",\"2023-05-18T22:00\",\"2023-05-18T23:00\"],\"temperature_2m\":[12.2,11.7,10.9,9.9,11.4,12.7,13.7,15.4,16.7,17.6,18.4,18.9,19.2,19.4,19.5,19.3,18.6,18.1,19.1,18.2,16.7,15.7,15.0,13.9,12.6,11.6,11.0,10.9,12.3,14.4,16.0,15.2,16.0,16.6,17.0,17.5,17.6,17.7,17.5,16.9,16.7,16.7,17.3,17.2,17.2,16.4,15.5,14.7,14.0,13.4,13.1,13.2,13.1,14.1,14.8,16.4,18.6,20.5,20.1,18.8,18.5,18.2,18.3,17.4,16.7,15.5,15.2,13.4,12.9,11.9,11.6,10.9,10.4,10.2,7.6,7.8,8.5,9.7,11.0,12.0,12.4,12.8,13.4,14.2,14.5,14.4,14.2,14.5,14.3,12.9,11.8,11.1,10.5,9.9,9.9,10.1,10.4,10.4,10.3,10.4,10.8,11.3,12.1,12.6,13.2,13.7,13.7,13.4,13.0,12.7,12.4,12.0,11.8,11.7,11.5,11.2,10.9,10.5,10.3,10.2,10.1,10.0,9.9,10.0,10.2,10.4,10.7,10.7,10.6,10.7,11.3,12.2,13.0,12.8,13.0,12.9,12.6,12.1,11.2,10.3,9.2,7.9,7.1,6.4,5.6,5.0,4.5,4.5,5.6,7.2,9.2,10.3,11.3,12.2,12.2,11.8,11.3,11.2,11.1,10.8,10.2,9.6,8.8,8.4,8.1,7.8,7.6,7.5]}}\u001b[0m\n",
            "\n",
            "\u001b[1m> Finished chain.\u001b[0m\n"
          ]
        },
        {
          "output_type": "execute_result",
          "data": {
            "text/plain": [
              "' The current temperature in Helsinki, Finland is 18.1°C.'"
            ],
            "application/vnd.google.colaboratory.intrinsic+json": {
              "type": "string"
            }
          },
          "metadata": {},
          "execution_count": 8
        }
      ]
    },
    {
      "cell_type": "markdown",
      "source": [
        "# 5. [ 📝 Summarization](https://python.langchain.com/en/latest/use_cases/summarization.html)\n",
        "- Creating smaller summary from longer documents.\n",
        "- Refer to earlier video about [PDFSummarization](https://youtu.be/iMDBMTFT0ns)\n",
        "- There are different [chain types](https://python.langchain.com/en/latest/modules/chains/index_examples/summarize.html) \n",
        "- Many ways how you can [interact with PDF](https://python.langchain.com/en/latest/modules/indexes/document_loaders/examples/pdf.html).\n",
        "- Summarization can be done from couple of sentences to entire book."
      ],
      "metadata": {
        "id": "7euBT1AOsKbf"
      }
    },
    {
      "cell_type": "code",
      "source": [
        "%%capture \n",
        "!pip install tiktoken"
      ],
      "metadata": {
        "id": "0AlcLTwlD0_O"
      },
      "execution_count": null,
      "outputs": []
    },
    {
      "cell_type": "code",
      "source": [
        "# paragraph summarization\n",
        "from langchain import OpenAI\n",
        "llm = OpenAI(temperature=0)"
      ],
      "metadata": {
        "id": "u23b4SVmDBG_"
      },
      "execution_count": null,
      "outputs": []
    },
    {
      "cell_type": "code",
      "source": [
        "prompt = \"\"\"\n",
        "Please provide a summary of the following text.\n",
        "Provide answer in simple terms and max lenght of 30 words.\n",
        "\n",
        "TEXT:\n",
        "A common use case is wanting to summarize long documents. This naturally runs into \\\n",
        "the context window limitations. Unlike in question-answering, you can't just do some \\\n",
        "semantic search hacks to only select the chunks of text most relevant to the question \\\n",
        "(because, in this case, there is no particular question - you want to summarize everything). So what do you do then?\n",
        "\n",
        "The most common way around this is to split the documents into chunks and then do \\\n",
        "summarization in a recursive manner. By this we mean you first summarize each chunk \\\n",
        "by itself, then you group the summaries into chunks and summarize each chunk of summaries, and continue doing that until only one is left.\n",
        "\"\"\""
      ],
      "metadata": {
        "id": "Se0sqR58DT7h"
      },
      "execution_count": null,
      "outputs": []
    },
    {
      "cell_type": "code",
      "source": [
        "num_tokens = llm.get_num_tokens(prompt)\n",
        "print (f\"Our prompt has {num_tokens} tokens\")"
      ],
      "metadata": {
        "colab": {
          "base_uri": "https://localhost:8080/"
        },
        "id": "bhPzTdsuDtuy",
        "outputId": "2bdd3bea-1340-4e3a-a29e-4e131b991875"
      },
      "execution_count": null,
      "outputs": [
        {
          "output_type": "stream",
          "name": "stdout",
          "text": [
            "Our prompt has 170 tokens\n"
          ]
        }
      ]
    },
    {
      "cell_type": "code",
      "source": [
        "summary = llm(prompt)\n",
        "print(summary)"
      ],
      "metadata": {
        "colab": {
          "base_uri": "https://localhost:8080/"
        },
        "id": "hifbH-R_Dxde",
        "outputId": "a04360e2-a488-4ba1-cdf1-681120f3f6c8"
      },
      "execution_count": null,
      "outputs": [
        {
          "output_type": "stream",
          "name": "stdout",
          "text": [
            "\n",
            "Summarize long documents by splitting them into chunks and summarizing each chunk recursively.\n"
          ]
        }
      ]
    },
    {
      "cell_type": "code",
      "source": [
        "%%capture \n",
        "!pip install pypdf"
      ],
      "metadata": {
        "id": "_3v0a0-4-x6M"
      },
      "execution_count": null,
      "outputs": []
    },
    {
      "cell_type": "code",
      "source": [
        "from langchain.chains.summarize import load_summarize_chain\n",
        "from langchain.document_loaders import PyPDFLoader"
      ],
      "metadata": {
        "id": "Sjja8u9kGx8s"
      },
      "execution_count": null,
      "outputs": []
    },
    {
      "cell_type": "code",
      "source": [
        "# download the pdf \n",
        "!wget https://static.nomic.ai/gpt4all/2023_GPT4All-J_Technical_Report_2.pdf -O gpt4all-j.pdf"
      ],
      "metadata": {
        "id": "tdBXrBcZJf-n"
      },
      "execution_count": null,
      "outputs": []
    },
    {
      "cell_type": "code",
      "source": [
        "loader = PyPDFLoader('/content/gpt4all-j.pdf')\n",
        "doc=loader.load_and_split()"
      ],
      "metadata": {
        "id": "coFxL3R-HM1S"
      },
      "execution_count": null,
      "outputs": []
    },
    {
      "cell_type": "code",
      "source": [
        "chain = load_summarize_chain(llm, chain_type=\"map_reduce\")\n",
        "chain.run(doc)"
      ],
      "metadata": {
        "colab": {
          "base_uri": "https://localhost:8080/",
          "height": 70
        },
        "id": "Y-1H2DgEEBgw",
        "outputId": "748ee803-0e5f-4788-9597-b940db81705e"
      },
      "execution_count": null,
      "outputs": [
        {
          "output_type": "execute_result",
          "data": {
            "text/plain": [
              "' This paper presents GPT4All-J, a model trained on a large corpus of assistant interactions, including word problems, multi-turn dialogue, code, poems, songs, and stories. It is evaluated against other models on common sense reasoning tasks and outperforms them with a ground truth perplexity of 0.18 metric tons of carbon dioxide. The data, training code, and model weights are released under an Apache 2 license to accelerate open LLM research.'"
            ],
            "application/vnd.google.colaboratory.intrinsic+json": {
              "type": "string"
            }
          },
          "metadata": {},
          "execution_count": 33
        }
      ]
    },
    {
      "cell_type": "markdown",
      "source": [
        "# 6. [ 📤 Extraction](https://python.langchain.com/en/latest/use_cases/evaluation.html)\n",
        "- Extracting something.\n",
        "- Extraction is related to [output parsing](https://python.langchain.com/en/latest/modules/prompts/output_parsers.html) which are responsible for instructing LLMs to respond in a specific format.\n",
        "- For deep dive, LangChain recommends checking [kor](https://eyurtsev.github.io/kor/index.html) library which uses LangChain chain and OutputParser abstrations but allows deep dives on allowing extraction of more complicated schemas."
      ],
      "metadata": {
        "id": "ISYs1VrbJtwr"
      }
    },
    {
      "cell_type": "code",
      "source": [
        "# To help construct our Chat Messages\n",
        "from langchain.schema import HumanMessage\n",
        "from langchain.prompts import PromptTemplate, ChatPromptTemplate, HumanMessagePromptTemplate\n",
        "\n",
        "# We will be using a chat model, defaults to gpt-3.5-turbo\n",
        "from langchain.chat_models import ChatOpenAI\n",
        "\n",
        "# To parse outputs and get structured data back\n",
        "from langchain.output_parsers import StructuredOutputParser, ResponseSchema\n",
        "\n",
        "chat_model = ChatOpenAI(temperature=0)"
      ],
      "metadata": {
        "id": "u7Nbgjn-G4YZ"
      },
      "execution_count": null,
      "outputs": []
    },
    {
      "cell_type": "code",
      "source": [
        "instructions = \"\"\"\n",
        "Given a random sentence which contains animals name, extract animal names and assign an emoji to that and return just the animal name with emoji.\n",
        "\"\"\"\n",
        "\n",
        "animal_names = \"\"\"\n",
        "Dog, cat and rabbit are in the garden.\n",
        "\"\"\""
      ],
      "metadata": {
        "id": "JBwomLBtM9rW"
      },
      "execution_count": null,
      "outputs": []
    },
    {
      "cell_type": "code",
      "source": [
        "prompt = (instructions + animal_names)\n",
        "output = chat_model([HumanMessage(content=prompt)])\n",
        "print(output.content)"
      ],
      "metadata": {
        "colab": {
          "base_uri": "https://localhost:8080/"
        },
        "id": "f4VrUSFANwHZ",
        "outputId": "052a6f0e-94b5-4d3c-a523-bbc43b76e7f6"
      },
      "execution_count": null,
      "outputs": [
        {
          "output_type": "stream",
          "name": "stdout",
          "text": [
            "🐶 Dog, 🐱 cat and 🐰 rabbit.\n"
          ]
        }
      ]
    },
    {
      "cell_type": "markdown",
      "source": [
        "Let's go through one example from kor too.\n",
        "> Kor is a thin wrapper on top of LLMs that helps to extract structured data using LLMs."
      ],
      "metadata": {
        "id": "Qxn3mxc2PnCx"
      }
    },
    {
      "cell_type": "code",
      "source": [
        "%%capture\n",
        "!pip install kor"
      ],
      "metadata": {
        "id": "WSlrsSFjN1rA"
      },
      "execution_count": null,
      "outputs": []
    },
    {
      "cell_type": "code",
      "source": [
        "from kor.extraction import create_extraction_chain\n",
        "from kor.nodes import Object, Text, Number\n",
        "from langchain.chat_models import ChatOpenAI"
      ],
      "metadata": {
        "id": "L2BdO40XPv6a"
      },
      "execution_count": null,
      "outputs": []
    },
    {
      "cell_type": "code",
      "source": [
        "# schema\n",
        "schema = Object(\n",
        "    id=\"person\",\n",
        "    description=\"Personal information\",\n",
        "    examples=[\n",
        "        (\"Alice and Bob are friends\", [{\"first_name\": \"Alice\"}, {\"first_name\": \"Bob\"}])\n",
        "    ],\n",
        "    attributes=[\n",
        "        Text(\n",
        "            id=\"first_name\",\n",
        "            description=\"The first name of a person.\",\n",
        "        )\n",
        "    ],\n",
        "    many=True,\n",
        ")"
      ],
      "metadata": {
        "id": "enpTei7dP7Le"
      },
      "execution_count": null,
      "outputs": []
    },
    {
      "cell_type": "code",
      "source": [
        "# instantiate a langchain llm and create a chain\n",
        "llm = ChatOpenAI()\n",
        "chain = create_extraction_chain(llm, schema)"
      ],
      "metadata": {
        "id": "Kh9gGbsTQCSZ"
      },
      "execution_count": null,
      "outputs": []
    },
    {
      "cell_type": "code",
      "source": [
        "# extract\n",
        "chain.predict_and_parse(text=(\"My name is Bobby. My brother's name Joe. My another brother's name is Stephen\"))[\"data\"]"
      ],
      "metadata": {
        "colab": {
          "base_uri": "https://localhost:8080/"
        },
        "id": "NzOpCPBKQP3d",
        "outputId": "dee5489d-3783-4bad-8276-78516545a314"
      },
      "execution_count": null,
      "outputs": [
        {
          "output_type": "execute_result",
          "data": {
            "text/plain": [
              "{'person': [{'first_name': 'Bobby'},\n",
              "  {'first_name': 'Joe'},\n",
              "  {'first_name': 'Stephen'}]}"
            ]
          },
          "metadata": {},
          "execution_count": 51
        }
      ]
    },
    {
      "cell_type": "markdown",
      "source": [
        "# 7. [ 🧐 Evaluation](https://python.langchain.com/en/latest/use_cases/evaluation.html)\n",
        "- Evaluation after creating chains/agents internally as well as application building on top of Langchain is necessary.\n",
        "- Lack of data and lack of metrics are the key issues. \n",
        "- How LangChain is tackling this and will improve:\n",
        "    - For lack of data, there is a [LangChainDatasets](https://huggingface.co/LangChainDatasets) in Hugging Face.\n",
        "    - For lack of metrics, using no metrics, meaing just relying on the output and doing human observation. Next is using [tracing](https://python.langchain.com/en/latest/tracing.html), a UI-based visualizer of your chain and agent runs.\n",
        "    - As we went through the SQL querying in the Tabular Data part, lets use the [SQL Question Answering Benchmarking: Chinook](https://python.langchain.com/en/latest/tracing.html)"
      ],
      "metadata": {
        "id": "HLKhDE0aQ8QC"
      }
    },
    {
      "cell_type": "markdown",
      "source": [
        "**Loading the data**"
      ],
      "metadata": {
        "id": "Kp_YS0A5ukV3"
      }
    },
    {
      "cell_type": "code",
      "source": [
        "from langchain.evaluation.loading import load_dataset\n",
        "dataset = load_dataset(\"sql-qa-chinook\")"
      ],
      "metadata": {
        "colab": {
          "base_uri": "https://localhost:8080/",
          "height": 461
        },
        "id": "RHBPxLHnjCJf",
        "outputId": "0dc7b517-9bec-466e-a38f-17e1fff6e44f"
      },
      "execution_count": null,
      "outputs": [
        {
          "output_type": "error",
          "ename": "ModuleNotFoundError",
          "evalue": "ignored",
          "traceback": [
            "\u001b[0;31m---------------------------------------------------------------------------\u001b[0m",
            "\u001b[0;31mModuleNotFoundError\u001b[0m                       Traceback (most recent call last)",
            "\u001b[0;32m<ipython-input-6-90e2e157f024>\u001b[0m in \u001b[0;36m<cell line: 3>\u001b[0;34m()\u001b[0m\n\u001b[1;32m      1\u001b[0m \u001b[0;31m# loading the data\u001b[0m\u001b[0;34m\u001b[0m\u001b[0;34m\u001b[0m\u001b[0m\n\u001b[1;32m      2\u001b[0m \u001b[0;32mfrom\u001b[0m \u001b[0mlangchain\u001b[0m\u001b[0;34m.\u001b[0m\u001b[0mevaluation\u001b[0m\u001b[0;34m.\u001b[0m\u001b[0mloading\u001b[0m \u001b[0;32mimport\u001b[0m \u001b[0mload_dataset\u001b[0m\u001b[0;34m\u001b[0m\u001b[0;34m\u001b[0m\u001b[0m\n\u001b[0;32m----> 3\u001b[0;31m \u001b[0mdataset\u001b[0m \u001b[0;34m=\u001b[0m \u001b[0mload_dataset\u001b[0m\u001b[0;34m(\u001b[0m\u001b[0;34m\"sql-qa-chinook\"\u001b[0m\u001b[0;34m)\u001b[0m\u001b[0;34m\u001b[0m\u001b[0;34m\u001b[0m\u001b[0m\n\u001b[0m",
            "\u001b[0;32m/usr/local/lib/python3.10/dist-packages/langchain/evaluation/loading.py\u001b[0m in \u001b[0;36mload_dataset\u001b[0;34m(uri)\u001b[0m\n\u001b[1;32m      3\u001b[0m \u001b[0;34m\u001b[0m\u001b[0m\n\u001b[1;32m      4\u001b[0m \u001b[0;32mdef\u001b[0m \u001b[0mload_dataset\u001b[0m\u001b[0;34m(\u001b[0m\u001b[0muri\u001b[0m\u001b[0;34m:\u001b[0m \u001b[0mstr\u001b[0m\u001b[0;34m)\u001b[0m \u001b[0;34m->\u001b[0m \u001b[0mList\u001b[0m\u001b[0;34m[\u001b[0m\u001b[0mDict\u001b[0m\u001b[0;34m]\u001b[0m\u001b[0;34m:\u001b[0m\u001b[0;34m\u001b[0m\u001b[0;34m\u001b[0m\u001b[0m\n\u001b[0;32m----> 5\u001b[0;31m     \u001b[0;32mfrom\u001b[0m \u001b[0mdatasets\u001b[0m \u001b[0;32mimport\u001b[0m \u001b[0mload_dataset\u001b[0m\u001b[0;34m\u001b[0m\u001b[0;34m\u001b[0m\u001b[0m\n\u001b[0m\u001b[1;32m      6\u001b[0m \u001b[0;34m\u001b[0m\u001b[0m\n\u001b[1;32m      7\u001b[0m     \u001b[0mdataset\u001b[0m \u001b[0;34m=\u001b[0m \u001b[0mload_dataset\u001b[0m\u001b[0;34m(\u001b[0m\u001b[0;34mf\"LangChainDatasets/{uri}\"\u001b[0m\u001b[0;34m)\u001b[0m\u001b[0;34m\u001b[0m\u001b[0;34m\u001b[0m\u001b[0m\n",
            "\u001b[0;31mModuleNotFoundError\u001b[0m: No module named 'datasets'",
            "",
            "\u001b[0;31m---------------------------------------------------------------------------\u001b[0;32m\nNOTE: If your import is failing due to a missing package, you can\nmanually install dependencies using either !pip or !apt.\n\nTo view examples of installing some common dependencies, click the\n\"Open Examples\" button below.\n\u001b[0;31m---------------------------------------------------------------------------\u001b[0m\n"
          ],
          "errorDetails": {
            "actions": [
              {
                "action": "open_url",
                "actionText": "Open Examples",
                "url": "/notebooks/snippets/importing_libraries.ipynb"
              }
            ]
          }
        }
      ]
    },
    {
      "cell_type": "code",
      "source": [
        "%%capture\n",
        "!pip install datasets"
      ],
      "metadata": {
        "id": "claxuw-zteWz"
      },
      "execution_count": null,
      "outputs": []
    },
    {
      "cell_type": "code",
      "source": [
        "# loading the data\n",
        "from langchain.evaluation.loading import load_dataset\n",
        "dataset = load_dataset(\"sql-qa-chinook\")"
      ],
      "metadata": {
        "colab": {
          "base_uri": "https://localhost:8080/",
          "height": 232,
          "referenced_widgets": [
            "9981c58355f744f899b017a422908836",
            "dc645f4584da4c82b563c1ee810463f4",
            "7255b3b22af549a1ab294eee5d211bd2",
            "e8304e0070e1492e9aacac77cf62cca0",
            "fce6080ff20e464a82553fc8810f9a75",
            "154408ee77874b229d2d5401c9ef5686",
            "f93d1d074f2a4ad889809a9c08a62aed",
            "c6cf0c4d4cb240d1ab99000575c21700",
            "627efb3a822742f0a8a2b405641133e6",
            "acbd9f22b4be48b29f334d023d98a1e6",
            "7116c01ba20e455d9c863088ea4bf69e",
            "728c76247571491095b62614f0bddbf9",
            "85ed9eda0f254466b51bf5157b6f7d13",
            "6a458d782fc341bc89a5ca3b214e97e8",
            "bb9d8ed04b4247f2b449996d8c7d7994",
            "6944df29e3fa41eda76a8ceff2f00af9",
            "2c4cf7e71dac4eeea0c635742335e5f2",
            "38647bdd5bc4423995784a4ed4125edb",
            "2e1a32ed5ff6453db6e59c93a222d369",
            "193b50074f9145b9b822271073830ac8",
            "026298650d1d4a69982e28979e73fde2",
            "b47892f817d94ed5a5e565ccb7309cb1",
            "40b582086d4b49328f85e3f49c7ce9f0",
            "92fc967f80004f139fce729c3566a934",
            "1d093ce0fbc447aca2b7cfdc67667ce2",
            "002b2f02c04d4eb1ad0e8dca5303ac27",
            "5e188f49577341059491ac513ace68c8",
            "16a289937dd14ebca1467b075dffe15c",
            "25af0c255be84658858473cbfb5d5973",
            "3af8493ea70c4a00aed6fb831a991988",
            "a5954df994eb4558a2a966efc4b097e6",
            "dfc0edc4e9744980928b7d77b0a87f6a",
            "42115e44dd554e0f952e681c7308ed43",
            "ceeb873634e64e258cac67fb0e5f50b9",
            "fd73f43f101f429ba65e6358562194d2",
            "0ed26fce406d487499a83370c26b27d1",
            "a70e545c187043718093b921af4932c4",
            "902df362a35e48d2b4f26f3adca3cbe7",
            "12e924afd0d649d492328c07088d214e",
            "e7b798d76a9247dbad72b99140ccf998",
            "b02c1c317dcd45df989cd343cccbd3ed",
            "746ceb446b1d4ba09a2a9f89616df4b4",
            "87098561b00e4777bbdd17b616d0c8ee",
            "45ec202ade6c4e3ab96450718d5e4a21",
            "ec1f2e44c7dd46858199588cad23f79c",
            "adc18d8f040b46cea24d4a29d7a53171",
            "740a990ddb614e218c4be2b561168057",
            "b26eeaeb83fd492dbf027c6ca4a3ddb0",
            "a680eec5ec0a49fdbad593edbfc94487",
            "40f30eacccbd412badbccbaab11287a7",
            "1eea7644514248beb32fe02889ebe8f0",
            "8ddaebbc23f848eb9c5ef093c6337e1a",
            "45ed5c953b8344f5be8ed188e7182982",
            "bf2668e819554f51a721326327ee51d6",
            "6d7e4fac79594b45b5086304655aab02",
            "b587f6e5eb254e44bba2ccaf288798b8",
            "bb36817a4dce4e63b7e3916a251be443",
            "0ca848b1e1984ad19ae0e6ace1628277",
            "18ec3afe6cc249f9a99dda3eb9800554",
            "e9ef539fb2b34bd3b47e87f077e21391",
            "ea04e8dc7d3840efa115556742bbbe01",
            "3bdb0a94028d42c6b1af826d9d95ab4b",
            "18d11bd7eb514329b0b645ced99dd147",
            "c4a9b31c74bb4eeebe0bf4152adb179d",
            "ecfa694657074a32bf69f74d22bd6c3c",
            "f23b8d06243a4f96ba69c8cd8ea182e0"
          ]
        },
        "id": "8gjFl2jittoh",
        "outputId": "41811fa2-affd-4a35-fc50-02f4e2ba28a3"
      },
      "execution_count": null,
      "outputs": [
        {
          "output_type": "display_data",
          "data": {
            "text/plain": [
              "Downloading readme:   0%|          | 0.00/21.0 [00:00<?, ?B/s]"
            ],
            "application/vnd.jupyter.widget-view+json": {
              "version_major": 2,
              "version_minor": 0,
              "model_id": "9981c58355f744f899b017a422908836"
            }
          },
          "metadata": {}
        },
        {
          "output_type": "stream",
          "name": "stdout",
          "text": [
            "Downloading and preparing dataset json/LangChainDatasets--sql-qa-chinook to /root/.cache/huggingface/datasets/LangChainDatasets___json/LangChainDatasets--sql-qa-chinook-7528565d2d992b47/0.0.0/e347ab1c932092252e717ff3f949105a4dd28b27e842dd53157d2f72e276c2e4...\n"
          ]
        },
        {
          "output_type": "display_data",
          "data": {
            "text/plain": [
              "Downloading data files:   0%|          | 0/1 [00:00<?, ?it/s]"
            ],
            "application/vnd.jupyter.widget-view+json": {
              "version_major": 2,
              "version_minor": 0,
              "model_id": "728c76247571491095b62614f0bddbf9"
            }
          },
          "metadata": {}
        },
        {
          "output_type": "display_data",
          "data": {
            "text/plain": [
              "Downloading data:   0%|          | 0.00/1.44k [00:00<?, ?B/s]"
            ],
            "application/vnd.jupyter.widget-view+json": {
              "version_major": 2,
              "version_minor": 0,
              "model_id": "40b582086d4b49328f85e3f49c7ce9f0"
            }
          },
          "metadata": {}
        },
        {
          "output_type": "display_data",
          "data": {
            "text/plain": [
              "Extracting data files:   0%|          | 0/1 [00:00<?, ?it/s]"
            ],
            "application/vnd.jupyter.widget-view+json": {
              "version_major": 2,
              "version_minor": 0,
              "model_id": "ceeb873634e64e258cac67fb0e5f50b9"
            }
          },
          "metadata": {}
        },
        {
          "output_type": "display_data",
          "data": {
            "text/plain": [
              "Generating train split: 0 examples [00:00, ? examples/s]"
            ],
            "application/vnd.jupyter.widget-view+json": {
              "version_major": 2,
              "version_minor": 0,
              "model_id": "ec1f2e44c7dd46858199588cad23f79c"
            }
          },
          "metadata": {}
        },
        {
          "output_type": "stream",
          "name": "stdout",
          "text": [
            "Dataset json downloaded and prepared to /root/.cache/huggingface/datasets/LangChainDatasets___json/LangChainDatasets--sql-qa-chinook-7528565d2d992b47/0.0.0/e347ab1c932092252e717ff3f949105a4dd28b27e842dd53157d2f72e276c2e4. Subsequent calls will reuse this data.\n"
          ]
        },
        {
          "output_type": "display_data",
          "data": {
            "text/plain": [
              "  0%|          | 0/1 [00:00<?, ?it/s]"
            ],
            "application/vnd.jupyter.widget-view+json": {
              "version_major": 2,
              "version_minor": 0,
              "model_id": "b587f6e5eb254e44bba2ccaf288798b8"
            }
          },
          "metadata": {}
        }
      ]
    },
    {
      "cell_type": "code",
      "source": [
        "dataset[0]"
      ],
      "metadata": {
        "colab": {
          "base_uri": "https://localhost:8080/"
        },
        "id": "eIV0auiOtz-8",
        "outputId": "591343db-4fad-400a-8efb-47c9d573f6d2"
      },
      "execution_count": null,
      "outputs": [
        {
          "output_type": "execute_result",
          "data": {
            "text/plain": [
              "{'answer': '8', 'question': 'How many employees are there?'}"
            ]
          },
          "metadata": {},
          "execution_count": 10
        }
      ]
    },
    {
      "cell_type": "markdown",
      "source": [
        "**Setting up a Chain**"
      ],
      "metadata": {
        "id": "WgnsKgpUudD2"
      }
    },
    {
      "cell_type": "code",
      "source": [
        "from langchain import OpenAI, SQLDatabase, SQLDatabaseChain"
      ],
      "metadata": {
        "id": "4wdI6CuBt76k"
      },
      "execution_count": null,
      "outputs": []
    },
    {
      "cell_type": "code",
      "source": [
        "sqlite_db_path = \"/content/Chinook.db\"\n",
        "db = SQLDatabase.from_uri(f\"sqlite:///{sqlite_db_path}\")\n",
        "llm = OpenAI(temperature=0)"
      ],
      "metadata": {
        "id": "j8bS5ytCuDYU"
      },
      "execution_count": null,
      "outputs": []
    },
    {
      "cell_type": "code",
      "source": [
        "# sql database chain\n",
        "chain = SQLDatabaseChain(llm=llm, database=db, input_key=\"question\")"
      ],
      "metadata": {
        "id": "YglGGKDiuFDb"
      },
      "execution_count": null,
      "outputs": []
    },
    {
      "cell_type": "markdown",
      "source": [
        "**Make a prediction**"
      ],
      "metadata": {
        "id": "hmXGD0cvuraT"
      }
    },
    {
      "cell_type": "code",
      "source": [
        "#import sqlite3\n",
        "# doing just one prediction to check\n",
        "chain(dataset[0])"
      ],
      "metadata": {
        "colab": {
          "base_uri": "https://localhost:8080/"
        },
        "id": "d2op99uouFWJ",
        "outputId": "68b0fe4d-90bf-4f7a-8415-cc6367921c0c"
      },
      "execution_count": null,
      "outputs": [
        {
          "output_type": "stream",
          "name": "stderr",
          "text": [
            "WARNING:langchain.llms.openai:Retrying langchain.llms.openai.completion_with_retry.<locals>._completion_with_retry in 4.0 seconds as it raised RateLimitError: The server had an error while processing your request. Sorry about that!.\n"
          ]
        },
        {
          "output_type": "execute_result",
          "data": {
            "text/plain": [
              "{'answer': '8',\n",
              " 'question': 'How many employees are there?',\n",
              " 'result': ' There are 8 employees.'}"
            ]
          },
          "metadata": {},
          "execution_count": 27
        }
      ]
    },
    {
      "cell_type": "code",
      "source": [
        "# bulk predictions\n",
        "predictions = []\n",
        "predicted_dataset = []\n",
        "error_dataset = []\n",
        "for data in dataset:\n",
        "    try:\n",
        "        predictions.append(chain(data))\n",
        "        predicted_dataset.append(data)\n",
        "    except:\n",
        "        error_dataset.append(data)"
      ],
      "metadata": {
        "colab": {
          "base_uri": "https://localhost:8080/"
        },
        "id": "qzXmH4vZuF4P",
        "outputId": "6a647a45-b07a-41b6-b257-8e8ad4fdd82a"
      },
      "execution_count": null,
      "outputs": [
        {
          "output_type": "stream",
          "name": "stderr",
          "text": [
            "WARNING:langchain.llms.openai:Retrying langchain.llms.openai.completion_with_retry.<locals>._completion_with_retry in 4.0 seconds as it raised RateLimitError: The server had an error while processing your request. Sorry about that!.\n",
            "WARNING:langchain.llms.openai:Retrying langchain.llms.openai.completion_with_retry.<locals>._completion_with_retry in 4.0 seconds as it raised RateLimitError: The server had an error while processing your request. Sorry about that!.\n"
          ]
        }
      ]
    },
    {
      "cell_type": "markdown",
      "source": [
        "**Evaluate the performance**"
      ],
      "metadata": {
        "id": "mYmUmrB9yY1g"
      }
    },
    {
      "cell_type": "code",
      "source": [
        "from langchain.evaluation.qa import QAEvalChain\n",
        "llm = OpenAI(temperature=0)\n",
        "eval_chain = QAEvalChain.from_llm(llm)\n",
        "graded_outputs = eval_chain.evaluate(predicted_dataset, predictions, question_key=\"question\", prediction_key=\"result\")"
      ],
      "metadata": {
        "id": "vdLNhpsIyVb8"
      },
      "execution_count": null,
      "outputs": []
    },
    {
      "cell_type": "code",
      "source": [
        "# adding graded output to preditions dict\n",
        "for i, prediction in enumerate(predictions):\n",
        "    prediction['grade'] = graded_outputs[i]['text']"
      ],
      "metadata": {
        "id": "tzKOSZ95yVPu"
      },
      "execution_count": null,
      "outputs": []
    },
    {
      "cell_type": "code",
      "source": [
        "# now getting a count of the grades\n",
        "from collections import Counter\n",
        "Counter([pred['grade'] for pred in predictions])"
      ],
      "metadata": {
        "colab": {
          "base_uri": "https://localhost:8080/"
        },
        "id": "--yqHVpSyVFa",
        "outputId": "8d3576d7-e331-4669-e9a2-5996a1bb9773"
      },
      "execution_count": null,
      "outputs": [
        {
          "output_type": "execute_result",
          "data": {
            "text/plain": [
              "Counter({' CORRECT': 3, ' INCORRECT': 3})"
            ]
          },
          "metadata": {},
          "execution_count": 31
        }
      ]
    },
    {
      "cell_type": "code",
      "source": [
        "# filter datapoints to the incorrect examples\n",
        "incorrect = [pred for pred in predictions if pred['grade'] == \" INCORRECT\"]\n",
        "incorrect[0]"
      ],
      "metadata": {
        "colab": {
          "base_uri": "https://localhost:8080/"
        },
        "id": "tbZkoxiYz3HC",
        "outputId": "40ce51b3-d3b0-410c-db9d-9748b1c0d68a"
      },
      "execution_count": null,
      "outputs": [
        {
          "output_type": "execute_result",
          "data": {
            "text/plain": [
              "{'answer': 'None',\n",
              " 'question': 'How many employees are also customers?',\n",
              " 'result': ' 59 employees are also customers.',\n",
              " 'grade': ' INCORRECT'}"
            ]
          },
          "metadata": {},
          "execution_count": 34
        }
      ]
    },
    {
      "cell_type": "markdown",
      "source": [
        "# 8. [ 🤔💻 Code Understanding](https://python.langchain.com/en/latest/use_cases/code.html)\n",
        "- LLMs are good at code understanding. I hope you are already using it to creat code based on your query. For example, in ChatGPT and similar chatbots. You might have heard about [copilot](https://github.com/features/copilot)\n",
        "- LangChain is a useful tool designed to parse the GitHub code repositories.\n",
        "- Let's use [pandas-ai](https://github.com/gventuri/pandas-ai)"
      ],
      "metadata": {
        "id": "XiQDl7aUQ_Pu"
      }
    },
    {
      "cell_type": "code",
      "source": [
        "!git clone https://github.com/gventuri/pandas-ai.git # replace any repository of your choice "
      ],
      "metadata": {
        "id": "hzgIxxNUF6dc"
      },
      "execution_count": null,
      "outputs": []
    },
    {
      "cell_type": "code",
      "source": [
        "import os\n",
        "from langchain.vectorstores import Chroma, FAISS\n",
        "from langchain.embeddings.openai import OpenAIEmbeddings\n",
        "from langchain.chat_models import ChatOpenAI\n",
        "from langchain.text_splitter import CharacterTextSplitter\n",
        "from langchain.document_loaders import TextLoader\n",
        "\n",
        "llm = ChatOpenAI()"
      ],
      "metadata": {
        "id": "xR6ku1Ge_ZFx"
      },
      "execution_count": null,
      "outputs": []
    },
    {
      "cell_type": "code",
      "source": [
        "embeddings = OpenAIEmbeddings(disallowed_special=())"
      ],
      "metadata": {
        "id": "EZC1qf8N_Zo6"
      },
      "execution_count": null,
      "outputs": []
    },
    {
      "cell_type": "code",
      "source": [
        "import os\n",
        "from langchain.document_loaders import TextLoader\n",
        "\n",
        "root_dir = '/content/pandas-ai'\n",
        "docs = []\n",
        "for dirpath, dirnames, filenames in os.walk(root_dir):\n",
        "    for file in filenames:\n",
        "        try: \n",
        "            loader = TextLoader(os.path.join(dirpath, file), encoding='utf-8')\n",
        "            docs.extend(loader.load_and_split())\n",
        "        except Exception as e: \n",
        "            pass"
      ],
      "metadata": {
        "id": "PkeuNXTP_Z_y"
      },
      "execution_count": null,
      "outputs": []
    },
    {
      "cell_type": "code",
      "source": [
        "print(f\"You have {len(docs)} documents\\n\")\n",
        "print(\"------ Start Document ------\")\n",
        "print(docs[0])"
      ],
      "metadata": {
        "colab": {
          "base_uri": "https://localhost:8080/"
        },
        "id": "JixB-MuWF071",
        "outputId": "eff7bf71-0879-47d7-9b84-6b4ec4b46147"
      },
      "execution_count": null,
      "outputs": [
        {
          "output_type": "stream",
          "name": "stdout",
          "text": [
            "You have 142 documents\n",
            "\n",
            "------ Start Document ------\n",
            "page_content='# PandasAI 🐼\\n\\n[![release](https://img.shields.io/pypi/v/pandasai?label=Release&style=flat-square)](https://pypi.org/project/pandasai/)\\n[![lint](https://github.com/gventuri/pandas-ai/actions/workflows/ci.yml/badge.svg)](https://github.com/gventuri/pandas-ai/actions/workflows/ci.yml/badge.svg)\\n[![](https://dcbadge.vercel.app/api/server/kF7FqH2FwS?style=flat&compact=true)](https://discord.gg/kF7FqH2FwS)\\n[![Downloads](https://static.pepy.tech/badge/pandasai/month)](https://pepy.tech/project/pandasai) [![License: MIT](https://img.shields.io/badge/License-MIT-yellow.svg)](https://opensource.org/licenses/MIT)\\n[![Open in Colab](https://camo.githubusercontent.com/84f0493939e0c4de4e6dbe113251b4bfb5353e57134ffd9fcab6b8714514d4d1/68747470733a2f2f636f6c61622e72657365617263682e676f6f676c652e636f6d2f6173736574732f636f6c61622d62616467652e737667)](https://colab.research.google.com/drive/1rKz7TudOeCeKGHekw7JFNL4sagN9hon-?usp=sharing)\\n\\nPandas AI is a Python library that adds generative artificial intelligence capabilities to Pandas, the popular data analysis and manipulation tool. It is designed to be used in conjunction with Pandas, and is not a replacement for it.\\n\\n<!-- Add images/pandas-ai.png -->\\n\\n![PandasAI](images/pandas-ai.png?raw=true)\\n\\n## Demo\\n\\nTry out PandasAI in your browser:\\n\\n[![Open in Colab](https://camo.githubusercontent.com/84f0493939e0c4de4e6dbe113251b4bfb5353e57134ffd9fcab6b8714514d4d1/68747470733a2f2f636f6c61622e72657365617263682e676f6f676c652e636f6d2f6173736574732f636f6c61622d62616467652e737667)](https://colab.research.google.com/drive/1rKz7TudOeCeKGHekw7JFNL4sagN9hon-?usp=sharing)\\n\\n## Installation\\n\\n```bash\\npip install pandasai\\n```\\n\\n## Usage\\n\\n> Disclaimer: GDP data was collected from [this source](https://ourworldindata.org/grapher/gross-domestic-product?tab=table), published by World Development Indicators - World Bank (2022.05.26) and collected at National accounts data - World Bank / OECD. It relates to the year of 2020. Happiness indexes were extracted from [the World Happiness Report](https://ftnnews.com/images/stories/documents/2020/WHR20.pdf). Another useful [link](https://data.world/makeovermonday/2020w19-world-happiness-report-2020).\\n\\nPandasAI is designed to be used in conjunction with Pandas. It makes Pandas conversational, allowing you to ask questions about your data and get answers back, in the form of Pandas DataFrames. For example, you can ask PandasAI to find all the rows in a DataFrame where the value of a column is greater than 5, and it will return a DataFrame containing only those rows:\\n\\n```python\\nimport pandas as pd\\nfrom pandasai import PandasAI\\n\\n# Sample DataFrame\\ndf = pd.DataFrame({\\n    \"country\": [\"United States\", \"United Kingdom\", \"France\", \"Germany\", \"Italy\", \"Spain\", \"Canada\", \"Australia\", \"Japan\", \"China\"],\\n    \"gdp\": [19294482071552, 2891615567872, 2411255037952, 3435817336832, 1745433788416, 1181205135360, 1607402389504, 1490967855104, 4380756541440, 14631844184064],\\n    \"happiness_index\": [6.94, 7.16, 6.66, 7.07, 6.38, 6.4, 7.23, 7.22, 5.87, 5.12]\\n})\\n\\n# Instantiate a LLM\\nfrom pandasai.llm.openai import OpenAI\\nllm = OpenAI()\\n\\npandas_ai = PandasAI(llm)\\npandas_ai.run(df, prompt=\\'Which are the 5 happiest countries?\\')\\n```\\n\\nThe above code will return the following:\\n\\n```\\n6            Canada\\n7         Australia\\n1    United Kingdom\\n3           Germany\\n0     United States\\nName: country, dtype: object\\n```\\n\\nOf course, you can also ask PandasAI to perform more complex queries. For example, you can ask PandasAI to find the sum of the GDPs of the 2 unhappiest countries:\\n\\n```python\\npandas_ai.run(df, prompt=\\'What is the sum of the GDPs of the 2 unhappiest countries?\\')\\n```\\n\\nThe above code will return the following:\\n\\n```\\n19012600725504\\n```\\n\\nYou can also ask PandasAI to draw a graph:\\n\\n```python\\npandas_ai.run(\\n    df,\\n    \"Plot the histogram of countries showing for each the gpd, using different colors for each bar\",\\n)\\n```\\n\\n![Chart](images/histogram-chart.png?raw=true)' metadata={'source': '/content/pandas-ai/README.md'}\n"
          ]
        }
      ]
    },
    {
      "cell_type": "code",
      "source": [
        "docs[2]"
      ],
      "metadata": {
        "colab": {
          "base_uri": "https://localhost:8080/"
        },
        "id": "X_2ZbZ8UKkyZ",
        "outputId": "38c3c1e9-3aec-4f2b-b8eb-bdc8ded07cd1"
      },
      "execution_count": null,
      "outputs": [
        {
          "output_type": "execute_result",
          "data": {
            "text/plain": [
              "Document(page_content='# .env\\n.env\\n\\n# __pycache__\\n__pycache__\\n\\n# macOS\\n.DS_Store\\n\\n# build\\nbuild\\ndist\\npandasai.egg-info\\n\\n#venv\\n/venv', metadata={'source': '/content/pandas-ai/.gitignore'})"
            ]
          },
          "metadata": {},
          "execution_count": 88
        }
      ]
    },
    {
      "cell_type": "markdown",
      "source": [
        "**Let's use Chroma for storing documents.**"
      ],
      "metadata": {
        "id": "jaP-cPZ4H6Ug"
      }
    },
    {
      "cell_type": "code",
      "source": [
        "%%capture\n",
        "!pip install -U chromadb tiktoken"
      ],
      "metadata": {
        "id": "jIZEU3bLIUKz"
      },
      "execution_count": null,
      "outputs": []
    },
    {
      "cell_type": "code",
      "source": [
        "docsearch = Chroma.from_documents(docs, embeddings)"
      ],
      "metadata": {
        "colab": {
          "base_uri": "https://localhost:8080/"
        },
        "id": "GdZxTaXgIEhl",
        "outputId": "fb472f88-7a4f-4350-8716-350e0978f3d4"
      },
      "execution_count": null,
      "outputs": [
        {
          "output_type": "stream",
          "name": "stderr",
          "text": [
            "WARNING:chromadb:Using embedded DuckDB without persistence: data will be transient\n"
          ]
        }
      ]
    },
    {
      "cell_type": "code",
      "source": [
        "from langchain.chains import RetrievalQA\n",
        "qa = RetrievalQA.from_chain_type(llm=llm, chain_type=\"stuff\", retriever=docsearch.as_retriever())"
      ],
      "metadata": {
        "id": "V7Xz5mWZ_ao7"
      },
      "execution_count": null,
      "outputs": []
    },
    {
      "cell_type": "code",
      "source": [
        "query = \"What class should I import from pandasai to instantiate OpenAI llm?\"\n",
        "output = qa.run(query)\n",
        "print(output)"
      ],
      "metadata": {
        "colab": {
          "base_uri": "https://localhost:8080/"
        },
        "id": "ovOO6FzyPG4W",
        "outputId": "52a2f18b-820a-4e4f-d390-9d74693c46ba"
      },
      "execution_count": null,
      "outputs": [
        {
          "output_type": "stream",
          "name": "stdout",
          "text": [
            "You don't need to import any class from pandasai to instantiate OpenAI llm. Instead, you should import the `OpenAI` class from `pandasai.llm.openai`. Example: `from pandasai.llm.openai import OpenAI`.\n"
          ]
        }
      ]
    },
    {
      "cell_type": "markdown",
      "source": [
        "Not bad, right ? For more detailed info visit the official [LangChain documentation](https://python.langchain.com/en/latest/use_cases/code.html)"
      ],
      "metadata": {
        "id": "jzAzghAsRahQ"
      }
    },
    {
      "cell_type": "markdown",
      "source": [
        "# 9. [ 🤖 Agents](https://python.langchain.com/en/latest/modules/agents.html)\n",
        "- Agents can be used in variety of tasks and the use case are evolving with the advancement in LLMs.\n",
        "- You could even create your own agent based on Langchain documentation.\n",
        "- Check out my [Auto-GPT with LangChain](https://youtu.be/imDfPmMKEjM) video.\n",
        "- Let's use `ArXiv API Tool`\n",
        "- What is arxiv --> https://arxiv.org/"
      ],
      "metadata": {
        "id": "XKB1UL04RLP5"
      }
    },
    {
      "cell_type": "code",
      "source": [
        "%%capture\n",
        "!pip install arxiv"
      ],
      "metadata": {
        "id": "kmGenO-9Y7Ys"
      },
      "execution_count": null,
      "outputs": []
    },
    {
      "cell_type": "code",
      "source": [
        "from langchain.chat_models import ChatOpenAI\n",
        "from langchain.agents import load_tools, initialize_agent, AgentType\n",
        "\n",
        "llm = ChatOpenAI(temperature=0.0)\n",
        "tools = load_tools(\n",
        "    [\"arxiv\"], \n",
        ")\n",
        "\n",
        "agent_chain = initialize_agent(\n",
        "    tools,\n",
        "    llm,\n",
        "    agent=AgentType.ZERO_SHOT_REACT_DESCRIPTION,\n",
        "    verbose=True,\n",
        ")"
      ],
      "metadata": {
        "id": "zDJKOy9UZfM1"
      },
      "execution_count": null,
      "outputs": []
    },
    {
      "cell_type": "code",
      "source": [
        "# https://arxiv.org/abs/1706.03762\n",
        "agent_chain.run(\n",
        "    \"What's the paper 1706.03762 about?\",\n",
        ")"
      ],
      "metadata": {
        "colab": {
          "base_uri": "https://localhost:8080/",
          "height": 892
        },
        "id": "4L2ukZh8Zh62",
        "outputId": "adf28058-1e5b-42f1-8bc2-0cadf17a603d"
      },
      "execution_count": null,
      "outputs": [
        {
          "output_type": "stream",
          "name": "stdout",
          "text": [
            "\n",
            "\n",
            "\u001b[1m> Entering new AgentExecutor chain...\u001b[0m\n",
            "\u001b[32;1m\u001b[1;3mI need to use a tool to search for the paper on arxiv.org\n",
            "Action: Arxiv\n",
            "Action Input: \"1706.03762\"\u001b[0m\n",
            "Observation: \u001b[36;1m\u001b[1;3mPublished: 2020-02-12\n",
            "Title: GLU Variants Improve Transformer\n",
            "Authors: Noam Shazeer\n",
            "Summary: Gated Linear Units (arXiv:1612.08083) consist of the component-wise product\n",
            "of two linear projections, one of which is first passed through a sigmoid\n",
            "function. Variations on GLU are possible, using different nonlinear (or even\n",
            "linear) functions in place of sigmoid. We test these variants in the\n",
            "feed-forward sublayers of the Transformer (arXiv:1706.03762)\n",
            "sequence-to-sequence model, and find that some of them yield quality\n",
            "improvements over the typically-used ReLU or GELU activations.\n",
            "\n",
            "Published: 2018-03-16\n",
            "Title: Tensor2Tensor for Neural Machine Translation\n",
            "Authors: Ashish Vaswani, Samy Bengio, Eugene Brevdo, Francois Chollet, Aidan N. Gomez, Stephan Gouws, Llion Jones, Łukasz Kaiser, Nal Kalchbrenner, Niki Parmar, Ryan Sepassi, Noam Shazeer, Jakob Uszkoreit\n",
            "Summary: Tensor2Tensor is a library for deep learning models that is well-suited for\n",
            "neural machine translation and includes the reference implementation of the\n",
            "state-of-the-art Transformer model.\n",
            "\n",
            "Published: 2022-03-24\n",
            "Title: Transformers Meet Visual Learning Understanding: A Comprehensive Review\n",
            "Authors: Yuting Yang, Licheng Jiao, Xu Liu, Fang Liu, Shuyuan Yang, Zhixi Feng, Xu Tang\n",
            "Summary: Dynamic attention mechanism and global modeling ability make Transformer show\n",
            "strong feature learning ability. In recent years, Transformer has become\n",
            "comparable to CNNs methods in computer vision. This review mainly investigates\n",
            "the current research progress of Transformer in image and video applications,\n",
            "which makes a comprehensive overview of Transformer in visual learning\n",
            "understanding. First, the attention mechanism is reviewed, which plays an\n",
            "essential part in Transformer. And then, the visual Transformer model and the\n",
            "principle of each module are introduced. Thirdly, the existing\n",
            "Transformer-based models are investigated, and their performance is compared in\n",
            "visual learning understanding applications. Three image tasks and two video\n",
            "tasks of computer vision are investigated. The former mainly includes image\n",
            "classification, object detection, and image segmentation. The latter contains\n",
            "object tracking and video classification. It is significant for comparing\n",
            "different models' performance in various tasks on several public benchmark data\n",
            "sets. Finally, ten general problems are summarized, and the developing\n",
            "prospects of the visual Transformer are given in this review.\u001b[0m\n",
            "Thought:\u001b[32;1m\u001b[1;3mThe paper 1706.03762 is about variations on GLU in the feed-forward sublayers of the Transformer sequence-to-sequence model.\n",
            "Final Answer: The paper 1706.03762 is about variations on GLU in the feed-forward sublayers of the Transformer sequence-to-sequence model.\u001b[0m\n",
            "\n",
            "\u001b[1m> Finished chain.\u001b[0m\n"
          ]
        },
        {
          "output_type": "execute_result",
          "data": {
            "text/plain": [
              "'The paper 1706.03762 is about variations on GLU in the feed-forward sublayers of the Transformer sequence-to-sequence model.'"
            ],
            "application/vnd.google.colaboratory.intrinsic+json": {
              "type": "string"
            }
          },
          "metadata": {},
          "execution_count": 11
        }
      ]
    },
    {
      "cell_type": "markdown",
      "source": [
        "We could even use a ArXiv API Wrapper."
      ],
      "metadata": {
        "id": "kGu5EbbpZ3DI"
      }
    },
    {
      "cell_type": "code",
      "source": [
        "from langchain.utilities import ArxivAPIWrapper"
      ],
      "metadata": {
        "id": "OBvVnOP3ZxF4"
      },
      "execution_count": null,
      "outputs": []
    },
    {
      "cell_type": "code",
      "source": [
        "arxiv = ArxivAPIWrapper()\n",
        "docs = arxiv.run(\"1706.03762\")\n",
        "docs"
      ],
      "metadata": {
        "colab": {
          "base_uri": "https://localhost:8080/",
          "height": 174
        },
        "id": "UVck_gwFZ8Hc",
        "outputId": "0b0b6976-5b61-48a5-b948-58f113485240"
      },
      "execution_count": null,
      "outputs": [
        {
          "output_type": "execute_result",
          "data": {
            "text/plain": [
              "\"Published: 2023-05-10\\nTitle: RECKONING: Reasoning through Dynamic Knowledge Encoding\\nAuthors: Zeming Chen, Gail Weiss, Eric Mitchell, Asli Celikyilmaz, Antoine Bosselut\\nSummary: Recent studies on transformer-based language models show that they can answer\\nquestions by reasoning over knowledge provided as part of the context (i.e.,\\nin-context reasoning). However, since the available knowledge is often not\\nfiltered for a particular question, in-context reasoning can be sensitive to\\ndistractor facts, additional content that is irrelevant to a question but that\\nmay be relevant for a different question (i.e., not necessarily random noise).\\nIn these situations, the model fails to distinguish the knowledge that is\\nnecessary to answer the question, leading to spurious reasoning and degraded\\nperformance. This reasoning failure contrasts with the model's apparent ability\\nto distinguish its contextual knowledge from all the knowledge it has memorized\\nduring pre-training. Following this observation, we propose teaching the model\\nto reason more robustly by folding the provided contextual knowledge into the\\nmodel's parameters before presenting it with a question. Our method, RECKONING,\\nis a bi-level learning algorithm that teaches language models to reason by\\nupdating their parametric knowledge through back-propagation, allowing them to\\nthen answer questions using the updated parameters. During training, the inner\\nloop rapidly adapts a copy of the model weights to encode contextual knowledge\\ninto its parameters. In the outer loop, the model learns to uses the updated\\nweights to reproduce and answer reasoning questions about the memorized\\nknowledge. Our experiments on two multi-hop reasoning datasets show that\\nRECKONING's performance improves over the in-context reasoning baseline (by up\\nto 4.5%). We also find that compared to in-context reasoning, RECKONING\\ngeneralizes better to longer reasoning chains unseen during training, is more\\nrobust to distractors in the context, and is more computationally efficient\\nwhen multiple questions are asked about the same knowledge.\""
            ],
            "application/vnd.google.colaboratory.intrinsic+json": {
              "type": "string"
            }
          },
          "metadata": {},
          "execution_count": 140
        }
      ]
    },
    {
      "cell_type": "markdown",
      "source": [
        "We could even get information about articles from author. Returns 3 articles."
      ],
      "metadata": {
        "id": "YFaDxPXzaIcf"
      }
    },
    {
      "cell_type": "code",
      "source": [
        "docs = arxiv.run(\"Ashish Vaswani\")\n",
        "docs"
      ],
      "metadata": {
        "colab": {
          "base_uri": "https://localhost:8080/",
          "height": 365
        },
        "id": "Br9mmo11aBl8",
        "outputId": "9e0fe678-aec1-47a7-985d-adfb53ce71f9"
      },
      "execution_count": null,
      "outputs": [
        {
          "output_type": "execute_result",
          "data": {
            "text/plain": [
              "'Published: 2016-09-28\\nTitle: Unsupervised Neural Hidden Markov Models\\nAuthors: Ke Tran, Yonatan Bisk, Ashish Vaswani, Daniel Marcu, Kevin Knight\\nSummary: In this work, we present the first results for neuralizing an Unsupervised\\nHidden Markov Model. We evaluate our approach on tag in- duction. Our approach\\noutperforms existing generative models and is competitive with the\\nstate-of-the-art though with a simpler model easily extended to include\\nadditional context.\\n\\nPublished: 2018-04-12\\nTitle: Self-Attention with Relative Position Representations\\nAuthors: Peter Shaw, Jakob Uszkoreit, Ashish Vaswani\\nSummary: Relying entirely on an attention mechanism, the Transformer introduced by\\nVaswani et al. (2017) achieves state-of-the-art results for machine\\ntranslation. In contrast to recurrent and convolutional neural networks, it\\ndoes not explicitly model relative or absolute position information in its\\nstructure. Instead, it requires adding representations of absolute positions to\\nits inputs. In this work we present an alternative approach, extending the\\nself-attention mechanism to efficiently consider representations of the\\nrelative positions, or distances between sequence elements. On the WMT 2014\\nEnglish-to-German and English-to-French translation tasks, this approach yields\\nimprovements of 1.3 BLEU and 0.3 BLEU over absolute position representations,\\nrespectively. Notably, we observe that combining relative and absolute position\\nrepresentations yields no further improvement in translation quality. We\\ndescribe an efficient implementation of our method and cast it as an instance\\nof relation-aware self-attention mechanisms that can generalize to arbitrary\\ngraph-labeled inputs.\\n\\nPublished: 2018-03-16\\nTitle: Tensor2Tensor for Neural Machine Translation\\nAuthors: Ashish Vaswani, Samy Bengio, Eugene Brevdo, Francois Chollet, Aidan N. Gomez, Stephan Gouws, Llion Jones, Łukasz Kaiser, Nal Kalchbrenner, Niki Parmar, Ryan Sepassi, Noam Shazeer, Jakob Uszkoreit\\nSummary: Tensor2Tensor is a library for deep learning models that is well-suited for\\nneural machine translation and includes the reference implementation of the\\nstate-of-the-art Transformer model.'"
            ],
            "application/vnd.google.colaboratory.intrinsic+json": {
              "type": "string"
            }
          },
          "metadata": {},
          "execution_count": 141
        }
      ]
    },
    {
      "cell_type": "code",
      "source": [
        "# random input off-course will throw error.\n",
        "docs = arxiv.run(\"1605.08386WWW\")\n",
        "docs"
      ],
      "metadata": {
        "colab": {
          "base_uri": "https://localhost:8080/",
          "height": 36
        },
        "id": "l6k20Ui8bSHf",
        "outputId": "f93c32b5-2d54-4779-b582-74a2f49ac891"
      },
      "execution_count": null,
      "outputs": [
        {
          "output_type": "execute_result",
          "data": {
            "text/plain": [
              "'No good Arxiv Result was found'"
            ],
            "application/vnd.google.colaboratory.intrinsic+json": {
              "type": "string"
            }
          },
          "metadata": {},
          "execution_count": 142
        }
      ]
    },
    {
      "cell_type": "markdown",
      "source": [
        "**Happy Learning 😎**"
      ],
      "metadata": {
        "id": "N6cbNFgLgm22"
      }
    }
  ]
}