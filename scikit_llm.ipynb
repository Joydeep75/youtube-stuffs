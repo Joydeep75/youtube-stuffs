{
  "nbformat": 4,
  "nbformat_minor": 0,
  "metadata": {
    "colab": {
      "provenance": [],
      "authorship_tag": "ABX9TyM5YCsI7YFlDE6qy/QjkOze",
      "include_colab_link": true
    },
    "kernelspec": {
      "name": "python3",
      "display_name": "Python 3"
    },
    "language_info": {
      "name": "python"
    }
  },
  "cells": [
    {
      "cell_type": "markdown",
      "metadata": {
        "id": "view-in-github",
        "colab_type": "text"
      },
      "source": [
        "<a href=\"https://colab.research.google.com/github/sudarshan-koirala/youtube-stuffs/blob/main/scikit_llm.ipynb\" target=\"_parent\"><img src=\"https://colab.research.google.com/assets/colab-badge.svg\" alt=\"Open In Colab\"/></a>"
      ]
    },
    {
      "cell_type": "markdown",
      "source": [
        "# SCIKIT-LLM\n",
        "Seamlessly integrate powerful language models like ChatGPT into scikit-learn for enhanced text analysis tasks."
      ],
      "metadata": {
        "id": "5YJdZ3XV9fdC"
      }
    },
    {
      "cell_type": "markdown",
      "source": [
        "# SETUP"
      ],
      "metadata": {
        "id": "-QwqxJQv9oHP"
      }
    },
    {
      "cell_type": "code",
      "execution_count": null,
      "metadata": {
        "id": "Kjy6Ak6G9d4w"
      },
      "outputs": [],
      "source": [
        "%%capture\n",
        "!pip install scikit-llm watermark\n"
      ]
    },
    {
      "cell_type": "code",
      "source": [
        "%load_ext watermark\n",
        "%watermark -a \"Sudarshan Koirala\" -vmp scikit-llm"
      ],
      "metadata": {
        "colab": {
          "base_uri": "https://localhost:8080/"
        },
        "id": "zdLQDCQo9tYi",
        "outputId": "4de99fd8-390f-4ee1-a9c6-13d34f881e9a"
      },
      "execution_count": null,
      "outputs": [
        {
          "output_type": "stream",
          "name": "stdout",
          "text": [
            "Author: Sudarshan Koirala\n",
            "\n",
            "Python implementation: CPython\n",
            "Python version       : 3.10.12\n",
            "IPython version      : 7.34.0\n",
            "\n",
            "scikit-llm: not installed\n",
            "\n",
            "Compiler    : GCC 9.4.0\n",
            "OS          : Linux\n",
            "Release     : 5.15.107+\n",
            "Machine     : x86_64\n",
            "Processor   : x86_64\n",
            "CPU cores   : 2\n",
            "Architecture: 64bit\n",
            "\n"
          ]
        }
      ]
    },
    {
      "cell_type": "code",
      "source": [
        "# importing SKLLMConfig to configure OpenAI API (key and Name)\n",
        "from skllm.config import SKLLMConfig\n",
        "\n",
        "# Set your OpenAI API key\n",
        "SKLLMConfig.set_openai_key(\"<YOUR_KEY>\")\n",
        "\n",
        "# Set your OpenAI organization (optional)\n",
        "SKLLMConfig.set_openai_org(\"<YOUR_ORGANIZATION>\")"
      ],
      "metadata": {
        "id": "TNCLfOSY97Rb"
      },
      "execution_count": null,
      "outputs": []
    },
    {
      "cell_type": "markdown",
      "source": [
        "# OPENAI"
      ],
      "metadata": {
        "id": "P07_-J5i-mpO"
      }
    },
    {
      "cell_type": "markdown",
      "source": [
        "## Zero-Shot Text Classification\n",
        "One of the powerful ChatGPT features is the ability to perform text classification without being re-trained. All it requires is just the descriptive labels.\n",
        "\n",
        "ZeroShotGPTClassifier allows to create such a model as a regular scikit-learn classifier."
      ],
      "metadata": {
        "id": "BHejodOG-vEY"
      }
    },
    {
      "cell_type": "markdown",
      "source": [
        "### Training as a regular classifier"
      ],
      "metadata": {
        "id": "VOHPymuC_KVO"
      }
    },
    {
      "cell_type": "code",
      "source": [
        "# importing zeroshotgptclassifier module and classification dataset\n",
        "from skllm import ZeroShotGPTClassifier\n",
        "from skllm.datasets import get_classification_dataset"
      ],
      "metadata": {
        "id": "TIgu_hJs_nZd"
      },
      "execution_count": null,
      "outputs": []
    },
    {
      "cell_type": "code",
      "source": [
        "# sentiment analysis dataset\n",
        "# labels: positive, negative, neutral\n",
        "X, y = get_classification_dataset()"
      ],
      "metadata": {
        "id": "Vx4jVpfo_9hi"
      },
      "execution_count": null,
      "outputs": []
    },
    {
      "cell_type": "code",
      "source": [
        "len(X)"
      ],
      "metadata": {
        "colab": {
          "base_uri": "https://localhost:8080/"
        },
        "id": "3MoOIYSgAtAk",
        "outputId": "ad72861c-96aa-40b0-9ca9-a8b755b4d047"
      },
      "execution_count": null,
      "outputs": [
        {
          "output_type": "execute_result",
          "data": {
            "text/plain": [
              "30"
            ]
          },
          "metadata": {},
          "execution_count": 20
        }
      ]
    },
    {
      "cell_type": "code",
      "source": [
        "X"
      ],
      "metadata": {
        "colab": {
          "base_uri": "https://localhost:8080/"
        },
        "id": "E3ApicG9BQ1h",
        "outputId": "789245ac-783f-4ee2-a033-4c364bce3984"
      },
      "execution_count": null,
      "outputs": [
        {
          "output_type": "execute_result",
          "data": {
            "text/plain": [
              "[\"I was absolutely blown away by the performances in 'Summer's End'. The acting was top-notch, and the plot had me gripped from start to finish. A truly captivating cinematic experience that I would highly recommend.\",\n",
              " \"The special effects in 'Star Battles: Nebula Conflict' were out of this world. I felt like I was actually in space. The storyline was incredibly engaging and left me wanting more. Excellent film.\",\n",
              " \"'The Lost Symphony' was a masterclass in character development and storytelling. The score was hauntingly beautiful and complimented the intense, emotional scenes perfectly. Kudos to the director and cast for creating such a masterpiece.\",\n",
              " \"I was pleasantly surprised by 'Love in the Time of Cholera'. The romantic storyline was heartwarming and the characters were incredibly realistic. The cinematography was also top-notch. A must-watch for all romance lovers.\",\n",
              " \"I went into 'Marble Street' with low expectations, but I was pleasantly surprised. The suspense was well-maintained throughout, and the twist at the end was something I did not see coming. Bravo!\",\n",
              " \"'The Great Plains' is a touching portrayal of life in rural America. The performances were heartfelt and the scenery was breathtaking. I was moved to tears by the end. It's a story that will stay with me for a long time.\",\n",
              " \"The screenwriting in 'Under the Willow Tree' was superb. The dialogue felt real and the characters were well-rounded. The performances were also fantastic. I haven't enjoyed a movie this much in a while.\",\n",
              " \"'Nightshade' is a brilliant take on the superhero genre. The protagonist was relatable and the villain was genuinely scary. The action sequences were thrilling and the storyline was engaging. I can't wait for the sequel.\",\n",
              " \"The cinematography in 'Awakening' was nothing short of spectacular. The visuals alone are worth the ticket price. The storyline was unique and the performances were solid. An overall fantastic film.\",\n",
              " \"'Eternal Embers' was a cinematic delight. The storytelling was original and the performances were exceptional. The director's vision was truly brought to life on the big screen. A must-see for all movie lovers.\",\n",
              " \"I was thoroughly disappointed with 'Silver Shadows'. The plot was confusing and the performances were lackluster. I wouldn't recommend wasting your time on this one.\",\n",
              " \"'The Darkened Path' was a disaster. The storyline was unoriginal, the acting was wooden and the special effects were laughably bad. Save your money and skip this one.\",\n",
              " \"I had high hopes for 'The Final Frontier', but it failed to deliver. The plot was full of holes and the characters were poorly developed. It was a disappointing experience.\",\n",
              " \"'The Fall of the Phoenix' was a letdown. The storyline was confusing and the characters were one-dimensional. I found myself checking my watch multiple times throughout the movie.\",\n",
              " \"I regret wasting my time on 'Emerald City'. The plot was nonsensical and the performances were uninspired. It was a major disappointment.\",\n",
              " \"I found 'Hollow Echoes' to be a complete mess. The plot was non-existent, the performances were overdone, and the pacing was all over the place. Definitely not worth the hype.\",\n",
              " \"'Underneath the Stars' was a huge disappointment. The storyline was predictable and the acting was mediocre at best. I was expecting so much more.\",\n",
              " \"I was left unimpressed by 'River's Edge'. The plot was convoluted, the characters were uninteresting, and the ending was unsatisfying. It's a pass for me.\",\n",
              " \"The acting in 'Desert Mirage' was subpar, and the plot was boring. I found myself yawning multiple times throughout the movie. Save your time and skip this one.\",\n",
              " \"'Crimson Dawn' was a major letdown. The plot was cliched and the characters were flat. The special effects were also poorly executed. I wouldn't recommend it.\",\n",
              " \"'Remember the Days' was utterly forgettable. The storyline was dull, the performances were bland, and the dialogue was cringeworthy. A big disappointment.\",\n",
              " \"'The Last Frontier' was simply okay. The plot was decent and the performances were acceptable. However, it lacked a certain spark to make it truly memorable.\",\n",
              " \"'Through the Storm' was not bad, but it wasn't great either. The storyline was somewhat predictable, and the characters were somewhat stereotypical. It was an average movie at best.\",\n",
              " \"I found 'After the Rain' to be pretty average. The plot was okay and the performances were decent, but it didn't leave a lasting impression on me.\",\n",
              " \"'Beyond the Horizon' was neither good nor bad. The plot was interesting enough, but the characters were not very well developed. It was an okay watch.\",\n",
              " \"'The Silent Echo' was a mediocre movie. The storyline was passable and the performances were fair, but it didn't stand out in any way.\",\n",
              " \"I thought 'The Scent of Roses' was pretty average. The plot was somewhat engaging, and the performances were okay, but it didn't live up to my expectations.\",\n",
              " \"'Under the Same Sky' was an okay movie. The plot was decent, and the performances were fine, but it lacked depth and originality. It's not a movie I would watch again.\",\n",
              " \"'Chasing Shadows' was fairly average. The plot was not bad, and the performances were passable, but it lacked a certain spark. It was just okay.\",\n",
              " \"'Beneath the Surface' was pretty run-of-the-mill. The plot was decent, the performances were okay, but it wasn't particularly memorable. It was an okay movie.\"]"
            ]
          },
          "metadata": {},
          "execution_count": 21
        }
      ]
    },
    {
      "cell_type": "code",
      "source": [
        "y"
      ],
      "metadata": {
        "colab": {
          "base_uri": "https://localhost:8080/"
        },
        "id": "lRedcCi1A2uf",
        "outputId": "a8226cfe-9cb1-4e77-afd8-e7008ca23439"
      },
      "execution_count": null,
      "outputs": [
        {
          "output_type": "execute_result",
          "data": {
            "text/plain": [
              "['positive',\n",
              " 'positive',\n",
              " 'positive',\n",
              " 'positive',\n",
              " 'positive',\n",
              " 'positive',\n",
              " 'positive',\n",
              " 'positive',\n",
              " 'positive',\n",
              " 'positive',\n",
              " 'negative',\n",
              " 'negative',\n",
              " 'negative',\n",
              " 'negative',\n",
              " 'negative',\n",
              " 'negative',\n",
              " 'negative',\n",
              " 'negative',\n",
              " 'negative',\n",
              " 'negative',\n",
              " 'neutral',\n",
              " 'neutral',\n",
              " 'neutral',\n",
              " 'neutral',\n",
              " 'neutral',\n",
              " 'neutral',\n",
              " 'neutral',\n",
              " 'neutral',\n",
              " 'neutral',\n",
              " 'neutral']"
            ]
          },
          "metadata": {},
          "execution_count": 22
        }
      ]
    },
    {
      "cell_type": "code",
      "source": [
        "def subset_of_data(data):\n",
        "    subset_1 = data[:2]  # First two elements from 1-10\n",
        "    subset_2 = data[10:12]  # First two elements from 11-20\n",
        "    subset_3 = data[20:22]  # First two elements from rest of the data\n",
        "\n",
        "    combined_data = subset_1 + subset_2 + subset_3\n",
        "    return combined_data"
      ],
      "metadata": {
        "id": "Q7xY-JKB__5F"
      },
      "execution_count": null,
      "outputs": []
    },
    {
      "cell_type": "code",
      "source": [
        "X_subset = subset_of_data(X)\n",
        "X_subset"
      ],
      "metadata": {
        "colab": {
          "base_uri": "https://localhost:8080/"
        },
        "id": "Z9kKjUNsAzPP",
        "outputId": "92405431-4954-4595-f70e-a819229b7438"
      },
      "execution_count": null,
      "outputs": [
        {
          "output_type": "execute_result",
          "data": {
            "text/plain": [
              "[\"I was absolutely blown away by the performances in 'Summer's End'. The acting was top-notch, and the plot had me gripped from start to finish. A truly captivating cinematic experience that I would highly recommend.\",\n",
              " \"The special effects in 'Star Battles: Nebula Conflict' were out of this world. I felt like I was actually in space. The storyline was incredibly engaging and left me wanting more. Excellent film.\",\n",
              " \"I was thoroughly disappointed with 'Silver Shadows'. The plot was confusing and the performances were lackluster. I wouldn't recommend wasting your time on this one.\",\n",
              " \"'The Darkened Path' was a disaster. The storyline was unoriginal, the acting was wooden and the special effects were laughably bad. Save your money and skip this one.\",\n",
              " \"'Remember the Days' was utterly forgettable. The storyline was dull, the performances were bland, and the dialogue was cringeworthy. A big disappointment.\",\n",
              " \"'The Last Frontier' was simply okay. The plot was decent and the performances were acceptable. However, it lacked a certain spark to make it truly memorable.\"]"
            ]
          },
          "metadata": {},
          "execution_count": 33
        }
      ]
    },
    {
      "cell_type": "code",
      "source": [
        "y_subset = subset_of_data(y)\n",
        "y_subset"
      ],
      "metadata": {
        "colab": {
          "base_uri": "https://localhost:8080/"
        },
        "id": "NTW3Bo5KAIhD",
        "outputId": "587e2334-495c-4f0c-e135-f3e1d51c55e5"
      },
      "execution_count": null,
      "outputs": [
        {
          "output_type": "execute_result",
          "data": {
            "text/plain": [
              "['positive', 'positive', 'negative', 'negative', 'neutral', 'neutral']"
            ]
          },
          "metadata": {},
          "execution_count": 34
        }
      ]
    },
    {
      "cell_type": "code",
      "source": [
        "# defining the openai model to use\n",
        "clf = ZeroShotGPTClassifier(openai_model=\"gpt-3.5-turbo\")\n",
        "\n",
        "# fitting the data\n",
        "clf.fit(X_subset, y_subset)"
      ],
      "metadata": {
        "colab": {
          "base_uri": "https://localhost:8080/",
          "height": 75
        },
        "id": "gGUNxOvc-J0w",
        "outputId": "7f23deec-a8e1-4652-c3a8-25fd8ff6f0ca"
      },
      "execution_count": null,
      "outputs": [
        {
          "output_type": "execute_result",
          "data": {
            "text/plain": [
              "ZeroShotGPTClassifier()"
            ],
            "text/html": [
              "<style>#sk-container-id-3 {color: black;background-color: white;}#sk-container-id-3 pre{padding: 0;}#sk-container-id-3 div.sk-toggleable {background-color: white;}#sk-container-id-3 label.sk-toggleable__label {cursor: pointer;display: block;width: 100%;margin-bottom: 0;padding: 0.3em;box-sizing: border-box;text-align: center;}#sk-container-id-3 label.sk-toggleable__label-arrow:before {content: \"▸\";float: left;margin-right: 0.25em;color: #696969;}#sk-container-id-3 label.sk-toggleable__label-arrow:hover:before {color: black;}#sk-container-id-3 div.sk-estimator:hover label.sk-toggleable__label-arrow:before {color: black;}#sk-container-id-3 div.sk-toggleable__content {max-height: 0;max-width: 0;overflow: hidden;text-align: left;background-color: #f0f8ff;}#sk-container-id-3 div.sk-toggleable__content pre {margin: 0.2em;color: black;border-radius: 0.25em;background-color: #f0f8ff;}#sk-container-id-3 input.sk-toggleable__control:checked~div.sk-toggleable__content {max-height: 200px;max-width: 100%;overflow: auto;}#sk-container-id-3 input.sk-toggleable__control:checked~label.sk-toggleable__label-arrow:before {content: \"▾\";}#sk-container-id-3 div.sk-estimator input.sk-toggleable__control:checked~label.sk-toggleable__label {background-color: #d4ebff;}#sk-container-id-3 div.sk-label input.sk-toggleable__control:checked~label.sk-toggleable__label {background-color: #d4ebff;}#sk-container-id-3 input.sk-hidden--visually {border: 0;clip: rect(1px 1px 1px 1px);clip: rect(1px, 1px, 1px, 1px);height: 1px;margin: -1px;overflow: hidden;padding: 0;position: absolute;width: 1px;}#sk-container-id-3 div.sk-estimator {font-family: monospace;background-color: #f0f8ff;border: 1px dotted black;border-radius: 0.25em;box-sizing: border-box;margin-bottom: 0.5em;}#sk-container-id-3 div.sk-estimator:hover {background-color: #d4ebff;}#sk-container-id-3 div.sk-parallel-item::after {content: \"\";width: 100%;border-bottom: 1px solid gray;flex-grow: 1;}#sk-container-id-3 div.sk-label:hover label.sk-toggleable__label {background-color: #d4ebff;}#sk-container-id-3 div.sk-serial::before {content: \"\";position: absolute;border-left: 1px solid gray;box-sizing: border-box;top: 0;bottom: 0;left: 50%;z-index: 0;}#sk-container-id-3 div.sk-serial {display: flex;flex-direction: column;align-items: center;background-color: white;padding-right: 0.2em;padding-left: 0.2em;position: relative;}#sk-container-id-3 div.sk-item {position: relative;z-index: 1;}#sk-container-id-3 div.sk-parallel {display: flex;align-items: stretch;justify-content: center;background-color: white;position: relative;}#sk-container-id-3 div.sk-item::before, #sk-container-id-3 div.sk-parallel-item::before {content: \"\";position: absolute;border-left: 1px solid gray;box-sizing: border-box;top: 0;bottom: 0;left: 50%;z-index: -1;}#sk-container-id-3 div.sk-parallel-item {display: flex;flex-direction: column;z-index: 1;position: relative;background-color: white;}#sk-container-id-3 div.sk-parallel-item:first-child::after {align-self: flex-end;width: 50%;}#sk-container-id-3 div.sk-parallel-item:last-child::after {align-self: flex-start;width: 50%;}#sk-container-id-3 div.sk-parallel-item:only-child::after {width: 0;}#sk-container-id-3 div.sk-dashed-wrapped {border: 1px dashed gray;margin: 0 0.4em 0.5em 0.4em;box-sizing: border-box;padding-bottom: 0.4em;background-color: white;}#sk-container-id-3 div.sk-label label {font-family: monospace;font-weight: bold;display: inline-block;line-height: 1.2em;}#sk-container-id-3 div.sk-label-container {text-align: center;}#sk-container-id-3 div.sk-container {/* jupyter's `normalize.less` sets `[hidden] { display: none; }` but bootstrap.min.css set `[hidden] { display: none !important; }` so we also need the `!important` here to be able to override the default hidden behavior on the sphinx rendered scikit-learn.org. See: https://github.com/scikit-learn/scikit-learn/issues/21755 */display: inline-block !important;position: relative;}#sk-container-id-3 div.sk-text-repr-fallback {display: none;}</style><div id=\"sk-container-id-3\" class=\"sk-top-container\"><div class=\"sk-text-repr-fallback\"><pre>ZeroShotGPTClassifier()</pre><b>In a Jupyter environment, please rerun this cell to show the HTML representation or trust the notebook. <br />On GitHub, the HTML representation is unable to render, please try loading this page with nbviewer.org.</b></div><div class=\"sk-container\" hidden><div class=\"sk-item\"><div class=\"sk-estimator sk-toggleable\"><input class=\"sk-toggleable__control sk-hidden--visually\" id=\"sk-estimator-id-3\" type=\"checkbox\" checked><label for=\"sk-estimator-id-3\" class=\"sk-toggleable__label sk-toggleable__label-arrow\">ZeroShotGPTClassifier</label><div class=\"sk-toggleable__content\"><pre>ZeroShotGPTClassifier()</pre></div></div></div></div></div>"
            ]
          },
          "metadata": {},
          "execution_count": 35
        }
      ]
    },
    {
      "cell_type": "code",
      "source": [
        "# predicting the data\n",
        "labels = clf.predict(X_subset)"
      ],
      "metadata": {
        "colab": {
          "base_uri": "https://localhost:8080/"
        },
        "id": "rnaeVckm_XLn",
        "outputId": "3a6409cc-4fc2-422c-943e-8bcc1aa02507"
      },
      "execution_count": null,
      "outputs": [
        {
          "output_type": "stream",
          "name": "stderr",
          "text": [
            "100%|██████████| 6/6 [00:06<00:00,  1.02s/it]\n"
          ]
        }
      ]
    },
    {
      "cell_type": "code",
      "source": [
        "labels"
      ],
      "metadata": {
        "colab": {
          "base_uri": "https://localhost:8080/"
        },
        "id": "G5hVeoeEEhDZ",
        "outputId": "264dc17d-4422-4a05-9ce2-e9be7f67f4e3"
      },
      "execution_count": null,
      "outputs": [
        {
          "output_type": "execute_result",
          "data": {
            "text/plain": [
              "['positive', 'positive', 'negative', 'negative', 'negative', 'neutral']"
            ]
          },
          "metadata": {},
          "execution_count": 37
        }
      ]
    },
    {
      "cell_type": "markdown",
      "source": [
        "- Scikit-LLM will automatically query the OpenAI API and transform the response into a regular list of labels.\n",
        "- Scikit-LLM will ensure that the obtained response contains a valid label. If this is not the case, a label will be selected randomly (label probabilities are proportional to label occurrences in the training set)."
      ],
      "metadata": {
        "id": "nDCVZhllFCzn"
      }
    },
    {
      "cell_type": "markdown",
      "source": [
        "## Training without label (What if you don't have labelled data ??)\n",
        "- you don’t even need labeled data to train the model."
      ],
      "metadata": {
        "id": "0XASZFNdEUpB"
      }
    },
    {
      "cell_type": "code",
      "source": [
        "# defining the model\n",
        "clf_no_label = ZeroShotGPTClassifier()\n",
        "\n",
        "# No training so passing the labels only for prediction\n",
        "clf_no_label.fit(None, ['positive', 'negative', 'neutral'])\n",
        "\n",
        "# predicting the labels\n",
        "labels = clf_no_label.predict(X_subset)\n",
        "labels"
      ],
      "metadata": {
        "colab": {
          "base_uri": "https://localhost:8080/"
        },
        "id": "Ubt5-oqg_aXg",
        "outputId": "eb9cbd09-a162-4532-e3b1-ef04ca3da614"
      },
      "execution_count": null,
      "outputs": [
        {
          "output_type": "stream",
          "name": "stderr",
          "text": [
            "100%|██████████| 6/6 [00:06<00:00,  1.01s/it]\n"
          ]
        },
        {
          "output_type": "execute_result",
          "data": {
            "text/plain": [
              "['positive', 'positive', 'negative', 'negative', 'negative', 'neutral']"
            ]
          },
          "metadata": {},
          "execution_count": 39
        }
      ]
    },
    {
      "cell_type": "markdown",
      "source": [
        "- You can train a classifier without explicitly labeled data, simply by specifying the potential labels.\n",
        "- Label has to be expressed in natural language, be descriptive and self-explanatory"
      ],
      "metadata": {
        "id": "ToORG6N0HGP5"
      }
    },
    {
      "cell_type": "code",
      "source": [],
      "metadata": {
        "id": "vhubB-nVGuqX"
      },
      "execution_count": null,
      "outputs": []
    },
    {
      "cell_type": "markdown",
      "source": [
        "### <font color=\"orange\">What if you have multi-labels case ?? There is Multi-Label Zero-shot Text Classification. In this case also you can go with and without providing labelled data.</font>"
      ],
      "metadata": {
        "id": "38UjJSY2H6HA"
      }
    },
    {
      "cell_type": "markdown",
      "source": [
        "# GPT4ALL\n",
        "- Same data with one of the model from gpt4all\n",
        "- When running the first time, the model will be downloaded automatically."
      ],
      "metadata": {
        "id": "4FY7eYJCIcH3"
      }
    },
    {
      "cell_type": "code",
      "source": [
        "%%capture\n",
        "!pip install \"scikit-llm[gpt4all]\""
      ],
      "metadata": {
        "id": "RGMmiF3vIUVq"
      },
      "execution_count": null,
      "outputs": []
    },
    {
      "cell_type": "markdown",
      "source": [
        "- In order to switch from OpenAI to GPT4ALL model, simply provide a string of the format `gpt4all::<model_name>` as an argument.\n",
        "- While the model runs completely locally, the estimator still treats it as an OpenAI endpoint and will try to check that the API key is present. - You can provide any string as a key."
      ],
      "metadata": {
        "id": "E262KBV6MB8R"
      }
    },
    {
      "cell_type": "code",
      "source": [
        "from skllm.config import SKLLMConfig\n",
        "\n",
        "SKLLMConfig.set_openai_key(\"any string\")\n",
        "SKLLMConfig.set_openai_org(\"any string\")\n",
        "\n",
        "from skllm import ZeroShotGPTClassifier\n",
        "clf_gpt4all = ZeroShotGPTClassifier(openai_model=\"gpt4all::ggml-gpt4all-j-v1.3-groovy\")"
      ],
      "metadata": {
        "id": "I-1TNzSaKbb_"
      },
      "execution_count": null,
      "outputs": []
    },
    {
      "cell_type": "code",
      "source": [
        "from skllm.datasets import get_classification_dataset\n",
        "X, y = get_classification_dataset()\n",
        "\n",
        "\n",
        "def subset_of_data(data):\n",
        "    subset_1 = data[:2]  # First two elements from 1-10\n",
        "    subset_2 = data[10:12]  # First two elements from 11-20\n",
        "    subset_3 = data[20:22]  # First two elements from rest of the data\n",
        "\n",
        "    combined_data = subset_1 + subset_2 + subset_3\n",
        "    return combined_data"
      ],
      "metadata": {
        "id": "DcmvkaWaNRFC"
      },
      "execution_count": null,
      "outputs": []
    },
    {
      "cell_type": "code",
      "source": [
        "X_subset = subset_of_data(X)\n",
        "X_subset"
      ],
      "metadata": {
        "colab": {
          "base_uri": "https://localhost:8080/"
        },
        "id": "g2kVp4w4K8NG",
        "outputId": "81e30ea4-6255-4331-857c-f0c01e261f75"
      },
      "execution_count": null,
      "outputs": [
        {
          "output_type": "execute_result",
          "data": {
            "text/plain": [
              "[\"I was absolutely blown away by the performances in 'Summer's End'. The acting was top-notch, and the plot had me gripped from start to finish. A truly captivating cinematic experience that I would highly recommend.\",\n",
              " \"The special effects in 'Star Battles: Nebula Conflict' were out of this world. I felt like I was actually in space. The storyline was incredibly engaging and left me wanting more. Excellent film.\",\n",
              " \"I was thoroughly disappointed with 'Silver Shadows'. The plot was confusing and the performances were lackluster. I wouldn't recommend wasting your time on this one.\",\n",
              " \"'The Darkened Path' was a disaster. The storyline was unoriginal, the acting was wooden and the special effects were laughably bad. Save your money and skip this one.\",\n",
              " \"'Remember the Days' was utterly forgettable. The storyline was dull, the performances were bland, and the dialogue was cringeworthy. A big disappointment.\",\n",
              " \"'The Last Frontier' was simply okay. The plot was decent and the performances were acceptable. However, it lacked a certain spark to make it truly memorable.\"]"
            ]
          },
          "metadata": {},
          "execution_count": 4
        }
      ]
    },
    {
      "cell_type": "code",
      "source": [
        "y_subset = subset_of_data(y)\n",
        "y_subset"
      ],
      "metadata": {
        "colab": {
          "base_uri": "https://localhost:8080/"
        },
        "id": "wgaVjTysLFm9",
        "outputId": "a9ff05f8-f90c-4301-836d-7473819656cb"
      },
      "execution_count": null,
      "outputs": [
        {
          "output_type": "execute_result",
          "data": {
            "text/plain": [
              "['positive', 'positive', 'negative', 'negative', 'neutral', 'neutral']"
            ]
          },
          "metadata": {},
          "execution_count": 5
        }
      ]
    },
    {
      "cell_type": "code",
      "source": [
        "# fitting the data\n",
        "clf_gpt4all.fit(X_subset, y_subset)"
      ],
      "metadata": {
        "colab": {
          "base_uri": "https://localhost:8080/",
          "height": 75
        },
        "id": "DFpRHIgSImvB",
        "outputId": "9788675c-87c2-4c91-a882-b3a16b59a7e5"
      },
      "execution_count": null,
      "outputs": [
        {
          "output_type": "execute_result",
          "data": {
            "text/plain": [
              "ZeroShotGPTClassifier(openai_model='gpt4all::ggml-gpt4all-j-v1.3-groovy')"
            ],
            "text/html": [
              "<style>#sk-container-id-1 {color: black;background-color: white;}#sk-container-id-1 pre{padding: 0;}#sk-container-id-1 div.sk-toggleable {background-color: white;}#sk-container-id-1 label.sk-toggleable__label {cursor: pointer;display: block;width: 100%;margin-bottom: 0;padding: 0.3em;box-sizing: border-box;text-align: center;}#sk-container-id-1 label.sk-toggleable__label-arrow:before {content: \"▸\";float: left;margin-right: 0.25em;color: #696969;}#sk-container-id-1 label.sk-toggleable__label-arrow:hover:before {color: black;}#sk-container-id-1 div.sk-estimator:hover label.sk-toggleable__label-arrow:before {color: black;}#sk-container-id-1 div.sk-toggleable__content {max-height: 0;max-width: 0;overflow: hidden;text-align: left;background-color: #f0f8ff;}#sk-container-id-1 div.sk-toggleable__content pre {margin: 0.2em;color: black;border-radius: 0.25em;background-color: #f0f8ff;}#sk-container-id-1 input.sk-toggleable__control:checked~div.sk-toggleable__content {max-height: 200px;max-width: 100%;overflow: auto;}#sk-container-id-1 input.sk-toggleable__control:checked~label.sk-toggleable__label-arrow:before {content: \"▾\";}#sk-container-id-1 div.sk-estimator input.sk-toggleable__control:checked~label.sk-toggleable__label {background-color: #d4ebff;}#sk-container-id-1 div.sk-label input.sk-toggleable__control:checked~label.sk-toggleable__label {background-color: #d4ebff;}#sk-container-id-1 input.sk-hidden--visually {border: 0;clip: rect(1px 1px 1px 1px);clip: rect(1px, 1px, 1px, 1px);height: 1px;margin: -1px;overflow: hidden;padding: 0;position: absolute;width: 1px;}#sk-container-id-1 div.sk-estimator {font-family: monospace;background-color: #f0f8ff;border: 1px dotted black;border-radius: 0.25em;box-sizing: border-box;margin-bottom: 0.5em;}#sk-container-id-1 div.sk-estimator:hover {background-color: #d4ebff;}#sk-container-id-1 div.sk-parallel-item::after {content: \"\";width: 100%;border-bottom: 1px solid gray;flex-grow: 1;}#sk-container-id-1 div.sk-label:hover label.sk-toggleable__label {background-color: #d4ebff;}#sk-container-id-1 div.sk-serial::before {content: \"\";position: absolute;border-left: 1px solid gray;box-sizing: border-box;top: 0;bottom: 0;left: 50%;z-index: 0;}#sk-container-id-1 div.sk-serial {display: flex;flex-direction: column;align-items: center;background-color: white;padding-right: 0.2em;padding-left: 0.2em;position: relative;}#sk-container-id-1 div.sk-item {position: relative;z-index: 1;}#sk-container-id-1 div.sk-parallel {display: flex;align-items: stretch;justify-content: center;background-color: white;position: relative;}#sk-container-id-1 div.sk-item::before, #sk-container-id-1 div.sk-parallel-item::before {content: \"\";position: absolute;border-left: 1px solid gray;box-sizing: border-box;top: 0;bottom: 0;left: 50%;z-index: -1;}#sk-container-id-1 div.sk-parallel-item {display: flex;flex-direction: column;z-index: 1;position: relative;background-color: white;}#sk-container-id-1 div.sk-parallel-item:first-child::after {align-self: flex-end;width: 50%;}#sk-container-id-1 div.sk-parallel-item:last-child::after {align-self: flex-start;width: 50%;}#sk-container-id-1 div.sk-parallel-item:only-child::after {width: 0;}#sk-container-id-1 div.sk-dashed-wrapped {border: 1px dashed gray;margin: 0 0.4em 0.5em 0.4em;box-sizing: border-box;padding-bottom: 0.4em;background-color: white;}#sk-container-id-1 div.sk-label label {font-family: monospace;font-weight: bold;display: inline-block;line-height: 1.2em;}#sk-container-id-1 div.sk-label-container {text-align: center;}#sk-container-id-1 div.sk-container {/* jupyter's `normalize.less` sets `[hidden] { display: none; }` but bootstrap.min.css set `[hidden] { display: none !important; }` so we also need the `!important` here to be able to override the default hidden behavior on the sphinx rendered scikit-learn.org. See: https://github.com/scikit-learn/scikit-learn/issues/21755 */display: inline-block !important;position: relative;}#sk-container-id-1 div.sk-text-repr-fallback {display: none;}</style><div id=\"sk-container-id-1\" class=\"sk-top-container\"><div class=\"sk-text-repr-fallback\"><pre>ZeroShotGPTClassifier(openai_model=&#x27;gpt4all::ggml-gpt4all-j-v1.3-groovy&#x27;)</pre><b>In a Jupyter environment, please rerun this cell to show the HTML representation or trust the notebook. <br />On GitHub, the HTML representation is unable to render, please try loading this page with nbviewer.org.</b></div><div class=\"sk-container\" hidden><div class=\"sk-item\"><div class=\"sk-estimator sk-toggleable\"><input class=\"sk-toggleable__control sk-hidden--visually\" id=\"sk-estimator-id-1\" type=\"checkbox\" checked><label for=\"sk-estimator-id-1\" class=\"sk-toggleable__label sk-toggleable__label-arrow\">ZeroShotGPTClassifier</label><div class=\"sk-toggleable__content\"><pre>ZeroShotGPTClassifier(openai_model=&#x27;gpt4all::ggml-gpt4all-j-v1.3-groovy&#x27;)</pre></div></div></div></div></div>"
            ]
          },
          "metadata": {},
          "execution_count": 6
        }
      ]
    },
    {
      "cell_type": "code",
      "source": [
        "# predicting the labels\n",
        "labels = clf_gpt4all.predict(X_subset)\n",
        "labels"
      ],
      "metadata": {
        "colab": {
          "base_uri": "https://localhost:8080/"
        },
        "id": "rEyTVV8ONCS9",
        "outputId": "52984272-b760-45f3-8a01-62c3efcb2624"
      },
      "execution_count": null,
      "outputs": [
        {
          "output_type": "stream",
          "name": "stderr",
          "text": [
            "  0%|          | 0/6 [00:00<?, ?it/s]\n",
            "  0%|          | 0.00/3.79G [00:00<?, ?iB/s]\u001b[A\n",
            "  0%|          | 7.34M/3.79G [00:00<00:52, 72.5MiB/s]\u001b[A\n",
            "  0%|          | 14.7M/3.79G [00:00<01:18, 48.1MiB/s]\u001b[A\n",
            "  1%|          | 21.0M/3.79G [00:00<01:13, 51.1MiB/s]\u001b[A\n",
            "  1%|          | 27.3M/3.79G [00:00<01:13, 51.0MiB/s]\u001b[A\n",
            "  1%|          | 34.6M/3.79G [00:00<01:07, 55.3MiB/s]\u001b[A\n",
            "  1%|          | 41.9M/3.79G [00:00<01:08, 55.0MiB/s]\u001b[A\n",
            "  1%|▏         | 48.2M/3.79G [00:00<01:06, 56.0MiB/s]\u001b[A\n",
            "  1%|▏         | 54.5M/3.79G [00:01<01:29, 41.7MiB/s]\u001b[A\n",
            "  2%|▏         | 60.8M/3.79G [00:01<01:20, 46.3MiB/s]\u001b[A\n",
            "  2%|▏         | 67.1M/3.79G [00:01<01:26, 42.8MiB/s]\u001b[A\n",
            "  2%|▏         | 73.4M/3.79G [00:01<01:20, 46.4MiB/s]\u001b[A\n",
            "  2%|▏         | 79.7M/3.79G [00:01<01:14, 49.7MiB/s]\u001b[A\n",
            "  2%|▏         | 86.0M/3.79G [00:01<01:44, 35.5MiB/s]\u001b[A\n",
            "  2%|▏         | 92.3M/3.79G [00:02<02:05, 29.3MiB/s]\u001b[A\n",
            "  3%|▎         | 97.5M/3.79G [00:02<02:17, 26.8MiB/s]\u001b[A\n",
            "  3%|▎         | 102M/3.79G [00:02<02:22, 25.8MiB/s] \u001b[A\n",
            "  3%|▎         | 107M/3.79G [00:02<02:03, 29.8MiB/s]\u001b[A\n",
            "  3%|▎         | 111M/3.79G [00:02<02:05, 29.3MiB/s]\u001b[A\n",
            "  3%|▎         | 115M/3.79G [00:03<01:57, 31.2MiB/s]\u001b[A\n",
            "  3%|▎         | 120M/3.79G [00:03<02:11, 27.9MiB/s]\u001b[A\n",
            "  3%|▎         | 127M/3.79G [00:03<01:38, 37.1MiB/s]\u001b[A\n",
            "  4%|▎         | 134M/3.79G [00:03<01:22, 44.5MiB/s]\u001b[A\n",
            "  4%|▎         | 139M/3.79G [00:03<01:19, 45.6MiB/s]\u001b[A\n",
            "  4%|▍         | 145M/3.79G [00:03<01:22, 43.9MiB/s]\u001b[A\n",
            "  4%|▍         | 151M/3.79G [00:03<01:15, 48.0MiB/s]\u001b[A\n",
            "  4%|▍         | 158M/3.79G [00:03<01:06, 54.3MiB/s]\u001b[A\n",
            "  4%|▍         | 165M/3.79G [00:03<01:05, 55.5MiB/s]\u001b[A\n",
            "  5%|▍         | 171M/3.79G [00:04<01:26, 42.0MiB/s]\u001b[A\n",
            "  5%|▍         | 176M/3.79G [00:04<01:36, 37.5MiB/s]\u001b[A\n",
            "  5%|▍         | 185M/3.79G [00:04<01:21, 44.1MiB/s]\u001b[A\n",
            "  5%|▌         | 190M/3.79G [00:04<01:19, 45.0MiB/s]\u001b[A\n",
            "  5%|▌         | 195M/3.79G [00:04<01:19, 45.1MiB/s]\u001b[A\n",
            "  5%|▌         | 201M/3.79G [00:04<01:13, 48.5MiB/s]\u001b[A\n",
            "  5%|▌         | 207M/3.79G [00:04<01:13, 48.8MiB/s]\u001b[A\n",
            "  6%|▌         | 212M/3.79G [00:05<01:29, 39.8MiB/s]\u001b[A\n",
            "  6%|▌         | 217M/3.79G [00:05<01:35, 37.2MiB/s]\u001b[A\n",
            "  6%|▌         | 221M/3.79G [00:05<01:44, 34.0MiB/s]\u001b[A\n",
            "  6%|▌         | 226M/3.79G [00:05<01:51, 31.9MiB/s]\u001b[A\n",
            "  6%|▌         | 234M/3.79G [00:05<01:28, 39.9MiB/s]\u001b[A\n",
            "  6%|▋         | 241M/3.79G [00:05<01:15, 47.2MiB/s]\u001b[A\n",
            "  7%|▋         | 246M/3.79G [00:06<01:31, 38.9MiB/s]\u001b[A\n",
            "  7%|▋         | 253M/3.79G [00:06<01:20, 44.0MiB/s]\u001b[A\n",
            "  7%|▋         | 260M/3.79G [00:06<01:12, 48.9MiB/s]\u001b[A\n",
            "  7%|▋         | 266M/3.79G [00:06<01:20, 43.9MiB/s]\u001b[A\n",
            "  7%|▋         | 272M/3.79G [00:06<01:24, 41.7MiB/s]\u001b[A\n",
            "  7%|▋         | 277M/3.79G [00:06<01:22, 42.5MiB/s]\u001b[A\n",
            "  7%|▋         | 282M/3.79G [00:06<01:18, 44.8MiB/s]\u001b[A\n",
            "  8%|▊         | 294M/3.79G [00:08<05:40, 10.3MiB/s]\u001b[A\n",
            "  8%|▊         | 300M/3.79G [00:09<04:25, 13.2MiB/s]\u001b[A\n",
            "  8%|▊         | 304M/3.79G [00:09<03:52, 15.0MiB/s]\u001b[A\n",
            "  8%|▊         | 310M/3.79G [00:09<03:16, 17.6MiB/s]\u001b[A\n",
            "  8%|▊         | 316M/3.79G [00:09<02:55, 19.8MiB/s]\u001b[A\n",
            "  9%|▊         | 327M/3.79G [00:09<01:54, 30.2MiB/s]\u001b[A\n",
            "  9%|▉         | 334M/3.79G [00:09<01:35, 36.0MiB/s]\u001b[A\n",
            "  9%|▉         | 341M/3.79G [00:09<01:32, 37.2MiB/s]\u001b[A\n",
            "  9%|▉         | 348M/3.79G [00:10<01:20, 42.7MiB/s]\u001b[A\n",
            "  9%|▉         | 354M/3.79G [00:10<01:13, 46.4MiB/s]\u001b[A\n",
            " 10%|▉         | 362M/3.79G [00:10<01:07, 51.0MiB/s]\u001b[A\n",
            " 10%|▉         | 369M/3.79G [00:10<01:01, 55.5MiB/s]\u001b[A\n",
            " 10%|▉         | 376M/3.79G [00:10<00:57, 59.5MiB/s]\u001b[A\n",
            " 10%|█         | 384M/3.79G [00:10<00:58, 58.4MiB/s]\u001b[A\n",
            " 10%|█         | 390M/3.79G [00:10<01:02, 54.3MiB/s]\u001b[A\n",
            " 10%|█         | 396M/3.79G [00:10<01:03, 53.3MiB/s]\u001b[A\n",
            " 11%|█         | 403M/3.79G [00:11<01:15, 44.8MiB/s]\u001b[A\n",
            " 11%|█         | 410M/3.79G [00:11<01:07, 49.8MiB/s]\u001b[A\n",
            " 11%|█         | 416M/3.79G [00:11<01:09, 48.4MiB/s]\u001b[A\n",
            " 11%|█         | 423M/3.79G [00:11<01:05, 51.6MiB/s]\u001b[A\n",
            " 11%|█▏        | 430M/3.79G [00:11<00:59, 56.1MiB/s]\u001b[A\n",
            " 12%|█▏        | 436M/3.79G [00:11<01:00, 55.2MiB/s]\u001b[A\n",
            " 12%|█▏        | 444M/3.79G [00:11<00:58, 57.2MiB/s]\u001b[A\n",
            " 12%|█▏        | 450M/3.79G [00:11<00:56, 58.6MiB/s]\u001b[A\n",
            " 12%|█▏        | 456M/3.79G [00:12<01:03, 52.8MiB/s]\u001b[A\n",
            " 12%|█▏        | 462M/3.79G [00:12<01:02, 53.0MiB/s]\u001b[A\n",
            " 12%|█▏        | 469M/3.79G [00:12<01:11, 46.3MiB/s]\u001b[A\n",
            " 13%|█▎        | 474M/3.79G [00:13<03:59, 13.8MiB/s]\u001b[A\n",
            " 13%|█▎        | 478M/3.79G [00:13<03:29, 15.8MiB/s]\u001b[A\n",
            " 13%|█▎        | 482M/3.79G [00:13<03:15, 16.9MiB/s]\u001b[A\n",
            " 13%|█▎        | 488M/3.79G [00:13<02:38, 20.9MiB/s]\u001b[A\n",
            " 13%|█▎        | 495M/3.79G [00:14<01:56, 28.4MiB/s]\u001b[A\n",
            " 13%|█▎        | 501M/3.79G [00:14<01:38, 33.4MiB/s]\u001b[A\n",
            " 13%|█▎        | 506M/3.79G [00:14<02:20, 23.4MiB/s]\u001b[A\n",
            " 14%|█▎        | 512M/3.79G [00:14<02:12, 24.6MiB/s]\u001b[A\n",
            " 14%|█▎        | 519M/3.79G [00:14<01:43, 31.5MiB/s]\u001b[A\n",
            " 14%|█▍        | 524M/3.79G [00:15<01:42, 31.8MiB/s]\u001b[A\n",
            " 14%|█▍        | 531M/3.79G [00:15<01:27, 37.3MiB/s]\u001b[A\n",
            " 14%|█▍        | 537M/3.79G [00:15<01:17, 42.1MiB/s]\u001b[A\n",
            " 14%|█▍        | 544M/3.79G [00:15<01:37, 33.1MiB/s]\u001b[A\n",
            " 15%|█▍        | 559M/3.79G [00:15<01:00, 53.1MiB/s]\u001b[A\n",
            " 15%|█▍        | 566M/3.79G [00:15<00:56, 57.0MiB/s]\u001b[A\n",
            " 15%|█▌        | 574M/3.79G [00:15<00:57, 55.5MiB/s]\u001b[A\n",
            " 15%|█▌        | 581M/3.79G [00:16<00:58, 54.4MiB/s]\u001b[A\n",
            " 16%|█▌        | 587M/3.79G [00:16<01:09, 45.7MiB/s]\u001b[A\n",
            " 16%|█▌        | 595M/3.79G [00:16<01:02, 51.4MiB/s]\u001b[A\n",
            " 16%|█▌        | 602M/3.79G [00:16<00:57, 55.1MiB/s]\u001b[A\n",
            " 16%|█▌        | 610M/3.79G [00:16<00:51, 61.7MiB/s]\u001b[A\n",
            " 16%|█▋        | 619M/3.79G [00:16<00:48, 65.0MiB/s]\u001b[A\n",
            " 17%|█▋        | 626M/3.79G [00:16<00:48, 65.4MiB/s]\u001b[A\n",
            " 17%|█▋        | 633M/3.79G [00:17<01:24, 37.3MiB/s]\u001b[A\n",
            " 17%|█▋        | 640M/3.79G [00:17<01:28, 35.6MiB/s]\u001b[A\n",
            " 17%|█▋        | 646M/3.79G [00:17<01:20, 39.0MiB/s]\u001b[A\n",
            " 17%|█▋        | 651M/3.79G [00:17<01:16, 40.9MiB/s]\u001b[A\n",
            " 17%|█▋        | 659M/3.79G [00:17<01:06, 47.3MiB/s]\u001b[A\n",
            " 18%|█▊        | 665M/3.79G [00:17<01:10, 44.4MiB/s]\u001b[A\n",
            " 18%|█▊        | 671M/3.79G [00:17<01:05, 47.5MiB/s]\u001b[A\n",
            " 18%|█▊        | 678M/3.79G [00:18<00:59, 51.9MiB/s]\u001b[A\n",
            " 18%|█▊        | 686M/3.79G [00:18<00:54, 56.9MiB/s]\u001b[A\n",
            " 18%|█▊        | 692M/3.79G [00:18<00:54, 57.2MiB/s]\u001b[A\n",
            " 18%|█▊        | 698M/3.79G [00:18<02:02, 25.2MiB/s]\u001b[A\n",
            " 19%|█▊        | 705M/3.79G [00:19<01:54, 26.8MiB/s]\u001b[A\n",
            " 19%|█▉        | 710M/3.79G [00:19<01:41, 30.4MiB/s]\u001b[A\n",
            " 19%|█▉        | 715M/3.79G [00:19<01:46, 28.7MiB/s]\u001b[A\n",
            " 19%|█▉        | 721M/3.79G [00:19<01:32, 33.2MiB/s]\u001b[A\n",
            " 19%|█▉        | 729M/3.79G [00:19<01:16, 39.9MiB/s]\u001b[A\n",
            " 19%|█▉        | 734M/3.79G [00:20<02:22, 21.5MiB/s]\u001b[A\n",
            " 20%|█▉        | 738M/3.79G [00:20<02:19, 21.9MiB/s]\u001b[A\n",
            " 20%|█▉        | 743M/3.79G [00:20<01:56, 26.1MiB/s]\u001b[A\n",
            " 20%|█▉        | 750M/3.79G [00:20<01:35, 31.8MiB/s]\u001b[A\n",
            " 20%|█▉        | 756M/3.79G [00:20<01:20, 37.6MiB/s]\u001b[A\n",
            " 20%|██        | 761M/3.79G [00:20<01:23, 36.1MiB/s]\u001b[A\n",
            " 20%|██        | 767M/3.79G [00:21<02:55, 17.2MiB/s]\u001b[A\n",
            " 20%|██        | 772M/3.79G [00:21<02:23, 21.0MiB/s]\u001b[A\n",
            " 20%|██        | 776M/3.79G [00:21<02:06, 23.8MiB/s]\u001b[A\n",
            " 21%|██        | 780M/3.79G [00:21<01:54, 26.4MiB/s]\u001b[A\n",
            " 21%|██        | 785M/3.79G [00:22<01:38, 30.3MiB/s]\u001b[A\n",
            " 21%|██        | 790M/3.79G [00:23<05:07, 9.75MiB/s]\u001b[A\n",
            " 21%|██        | 793M/3.79G [00:23<04:52, 10.2MiB/s]\u001b[A\n",
            " 21%|██        | 797M/3.79G [00:23<03:52, 12.8MiB/s]\u001b[A\n",
            " 21%|██        | 801M/3.79G [00:23<03:06, 16.0MiB/s]\u001b[A\n",
            " 21%|██▏       | 805M/3.79G [00:23<02:34, 19.3MiB/s]\u001b[A\n",
            " 21%|██▏       | 810M/3.79G [00:24<03:47, 13.1MiB/s]\u001b[A\n",
            " 21%|██▏       | 814M/3.79G [00:24<03:04, 16.1MiB/s]\u001b[A\n",
            " 22%|██▏       | 817M/3.79G [00:24<02:42, 18.2MiB/s]\u001b[A\n",
            " 22%|██▏       | 821M/3.79G [00:24<02:15, 21.9MiB/s]\u001b[A\n",
            " 22%|██▏       | 826M/3.79G [00:24<01:50, 26.8MiB/s]\u001b[A\n",
            " 22%|██▏       | 833M/3.79G [00:25<01:30, 32.6MiB/s]\u001b[A\n",
            " 22%|██▏       | 837M/3.79G [00:25<02:28, 19.8MiB/s]\u001b[A\n",
            " 22%|██▏       | 840M/3.79G [00:25<02:19, 21.1MiB/s]\u001b[A\n",
            " 22%|██▏       | 845M/3.79G [00:25<01:53, 26.0MiB/s]\u001b[A\n",
            " 22%|██▏       | 850M/3.79G [00:25<01:37, 30.2MiB/s]\u001b[A\n",
            " 23%|██▎       | 856M/3.79G [00:25<01:24, 34.7MiB/s]\u001b[A\n",
            " 23%|██▎       | 860M/3.79G [00:26<01:22, 35.7MiB/s]\u001b[A\n",
            " 23%|██▎       | 864M/3.79G [00:26<02:45, 17.6MiB/s]\u001b[A\n",
            " 23%|██▎       | 867M/3.79G [00:26<03:10, 15.4MiB/s]\u001b[A\n",
            " 23%|██▎       | 875M/3.79G [00:26<02:08, 22.7MiB/s]\u001b[A\n",
            " 23%|██▎       | 881M/3.79G [00:27<01:40, 28.9MiB/s]\u001b[A\n",
            " 23%|██▎       | 886M/3.79G [00:27<02:15, 21.4MiB/s]\u001b[A\n",
            " 24%|██▎       | 891M/3.79G [00:27<02:03, 23.5MiB/s]\u001b[A\n",
            " 24%|██▎       | 898M/3.79G [00:27<01:45, 27.5MiB/s]\u001b[A\n",
            " 24%|██▍       | 903M/3.79G [00:27<01:31, 31.6MiB/s]\u001b[A\n",
            " 24%|██▍       | 907M/3.79G [00:28<01:33, 30.9MiB/s]\u001b[A\n",
            " 24%|██▍       | 913M/3.79G [00:28<01:16, 37.3MiB/s]\u001b[A\n",
            " 24%|██▍       | 919M/3.79G [00:28<02:19, 20.5MiB/s]\u001b[A\n",
            " 24%|██▍       | 924M/3.79G [00:28<01:54, 25.0MiB/s]\u001b[A\n",
            " 25%|██▍       | 929M/3.79G [00:28<01:38, 29.1MiB/s]\u001b[A\n",
            " 25%|██▍       | 933M/3.79G [00:29<01:39, 28.7MiB/s]\u001b[A\n",
            " 25%|██▍       | 938M/3.79G [00:29<01:25, 33.1MiB/s]\u001b[A\n",
            " 25%|██▍       | 944M/3.79G [00:29<01:19, 35.8MiB/s]\u001b[A\n",
            " 25%|██▌       | 949M/3.79G [00:29<02:35, 18.2MiB/s]\u001b[A\n",
            " 25%|██▌       | 955M/3.79G [00:29<01:59, 23.8MiB/s]\u001b[A\n",
            " 25%|██▌       | 959M/3.79G [00:30<01:50, 25.6MiB/s]\u001b[A\n",
            " 26%|██▌       | 967M/3.79G [00:30<01:23, 33.7MiB/s]\u001b[A\n",
            " 26%|██▌       | 973M/3.79G [00:30<01:12, 38.9MiB/s]\u001b[A\n",
            " 26%|██▌       | 978M/3.79G [00:30<01:08, 40.7MiB/s]\u001b[A\n",
            " 26%|██▌       | 984M/3.79G [00:31<02:13, 21.0MiB/s]\u001b[A\n",
            " 26%|██▌       | 988M/3.79G [00:31<02:01, 23.0MiB/s]\u001b[A\n",
            " 26%|██▌       | 992M/3.79G [00:31<02:07, 21.9MiB/s]\u001b[A\n",
            " 26%|██▋       | 995M/3.79G [00:31<02:52, 16.1MiB/s]\u001b[A\n",
            " 26%|██▋       | 998M/3.79G [00:31<02:59, 15.5MiB/s]\u001b[A\n",
            " 26%|██▋       | 1.00G/3.79G [00:32<02:42, 17.1MiB/s]\u001b[A\n",
            " 27%|██▋       | 1.00G/3.79G [00:32<02:23, 19.4MiB/s]\u001b[A\n",
            " 27%|██▋       | 1.01G/3.79G [00:32<02:33, 18.1MiB/s]\u001b[A\n",
            " 27%|██▋       | 1.01G/3.79G [00:32<02:51, 16.2MiB/s]\u001b[A\n",
            " 27%|██▋       | 1.01G/3.79G [00:32<02:49, 16.4MiB/s]\u001b[A\n",
            " 27%|██▋       | 1.02G/3.79G [00:32<03:01, 15.3MiB/s]\u001b[A\n",
            " 27%|██▋       | 1.02G/3.79G [00:33<02:37, 17.6MiB/s]\u001b[A\n",
            " 27%|██▋       | 1.02G/3.79G [00:33<02:21, 19.6MiB/s]\u001b[A\n",
            " 27%|██▋       | 1.02G/3.79G [00:33<02:33, 18.0MiB/s]\u001b[A\n",
            " 27%|██▋       | 1.03G/3.79G [00:33<03:41, 12.5MiB/s]\u001b[A\n",
            " 27%|██▋       | 1.03G/3.79G [00:33<02:48, 16.3MiB/s]\u001b[A\n",
            " 27%|██▋       | 1.03G/3.79G [00:34<03:02, 15.1MiB/s]\u001b[A\n",
            " 27%|██▋       | 1.03G/3.79G [00:34<02:52, 15.9MiB/s]\u001b[A\n",
            " 27%|██▋       | 1.04G/3.79G [00:34<02:30, 18.2MiB/s]\u001b[A\n",
            " 27%|██▋       | 1.04G/3.79G [00:36<14:43, 3.11MiB/s]\u001b[A\n",
            " 28%|██▊       | 1.05G/3.79G [00:36<08:18, 5.49MiB/s]\u001b[A\n",
            " 28%|██▊       | 1.05G/3.79G [00:36<06:26, 7.08MiB/s]\u001b[A\n",
            " 28%|██▊       | 1.05G/3.79G [00:37<04:32, 10.0MiB/s]\u001b[A\n",
            " 28%|██▊       | 1.06G/3.79G [00:37<03:32, 12.9MiB/s]\u001b[A\n",
            " 28%|██▊       | 1.06G/3.79G [00:37<02:34, 17.6MiB/s]\u001b[A\n",
            " 28%|██▊       | 1.07G/3.79G [00:37<02:52, 15.7MiB/s]\u001b[A\n",
            " 28%|██▊       | 1.07G/3.79G [00:37<02:32, 17.8MiB/s]\u001b[A\n",
            " 28%|██▊       | 1.07G/3.79G [00:37<02:22, 19.0MiB/s]\u001b[A\n",
            " 29%|██▊       | 1.08G/3.79G [00:38<01:37, 27.7MiB/s]\u001b[A\n",
            " 29%|██▊       | 1.09G/3.79G [00:38<01:18, 34.3MiB/s]\u001b[A\n",
            " 29%|██▉       | 1.09G/3.79G [00:38<02:01, 22.1MiB/s]\u001b[A\n",
            " 29%|██▉       | 1.10G/3.79G [00:38<01:50, 24.3MiB/s]\u001b[A\n",
            " 29%|██▉       | 1.10G/3.79G [00:38<02:13, 20.1MiB/s]\u001b[A\n",
            " 29%|██▉       | 1.10G/3.79G [00:39<02:06, 21.3MiB/s]\u001b[A\n",
            " 29%|██▉       | 1.11G/3.79G [00:39<02:43, 16.4MiB/s]\u001b[A\n",
            " 29%|██▉       | 1.11G/3.79G [00:39<02:37, 17.0MiB/s]\u001b[A\n",
            " 29%|██▉       | 1.11G/3.79G [00:39<02:18, 19.3MiB/s]\u001b[A\n",
            " 30%|██▉       | 1.12G/3.79G [00:39<02:40, 16.6MiB/s]\u001b[A\n",
            " 30%|██▉       | 1.12G/3.79G [00:40<02:20, 19.0MiB/s]\u001b[A\n",
            " 30%|██▉       | 1.12G/3.79G [00:40<02:18, 19.3MiB/s]\u001b[A\n",
            " 30%|██▉       | 1.13G/3.79G [00:40<02:47, 15.9MiB/s]\u001b[A\n",
            " 30%|██▉       | 1.13G/3.79G [00:40<02:23, 18.5MiB/s]\u001b[A\n",
            " 30%|██▉       | 1.13G/3.79G [00:40<02:22, 18.6MiB/s]\u001b[A\n",
            " 30%|███       | 1.14G/3.79G [00:40<02:05, 21.2MiB/s]\u001b[A\n",
            " 30%|███       | 1.14G/3.79G [00:40<01:44, 25.2MiB/s]\u001b[A\n",
            " 30%|███       | 1.14G/3.79G [00:41<02:32, 17.3MiB/s]\u001b[A\n",
            " 30%|███       | 1.15G/3.79G [00:41<02:15, 19.5MiB/s]\u001b[A\n",
            " 30%|███       | 1.15G/3.79G [00:42<04:10, 10.5MiB/s]\u001b[A\n",
            " 30%|███       | 1.15G/3.79G [00:42<04:50, 9.05MiB/s]\u001b[A\n",
            " 31%|███       | 1.16G/3.79G [00:42<03:26, 12.7MiB/s]\u001b[A\n",
            " 31%|███       | 1.16G/3.79G [00:42<02:36, 16.8MiB/s]\u001b[A\n",
            " 31%|███       | 1.16G/3.79G [00:42<02:28, 17.7MiB/s]\u001b[A\n",
            " 31%|███       | 1.17G/3.79G [00:42<02:03, 21.1MiB/s]\u001b[A\n",
            " 31%|███       | 1.17G/3.79G [00:43<01:30, 28.8MiB/s]\u001b[A\n",
            " 31%|███       | 1.18G/3.79G [00:43<01:13, 35.6MiB/s]\u001b[A\n",
            " 31%|███▏      | 1.19G/3.79G [00:43<01:03, 41.2MiB/s]\u001b[A\n",
            " 32%|███▏      | 1.19G/3.79G [00:43<00:58, 44.7MiB/s]\u001b[A\n",
            " 32%|███▏      | 1.20G/3.79G [00:43<00:54, 47.9MiB/s]\u001b[A\n",
            " 32%|███▏      | 1.21G/3.79G [00:43<00:49, 52.1MiB/s]\u001b[A\n",
            " 32%|███▏      | 1.21G/3.79G [00:43<00:50, 50.5MiB/s]\u001b[A\n",
            " 32%|███▏      | 1.22G/3.79G [00:43<00:59, 43.2MiB/s]\u001b[A\n",
            " 32%|███▏      | 1.23G/3.79G [00:44<00:54, 47.3MiB/s]\u001b[A\n",
            " 33%|███▎      | 1.23G/3.79G [00:44<00:49, 51.7MiB/s]\u001b[A\n",
            " 33%|███▎      | 1.24G/3.79G [00:44<00:45, 56.2MiB/s]\u001b[A\n",
            " 33%|███▎      | 1.25G/3.79G [00:44<00:48, 51.9MiB/s]\u001b[A\n",
            " 33%|███▎      | 1.25G/3.79G [00:44<00:50, 50.6MiB/s]\u001b[A\n",
            " 33%|███▎      | 1.26G/3.79G [00:44<00:46, 54.7MiB/s]\u001b[A\n",
            " 33%|███▎      | 1.27G/3.79G [00:44<00:53, 47.1MiB/s]\u001b[A\n",
            " 34%|███▎      | 1.27G/3.79G [00:44<00:49, 50.5MiB/s]\u001b[A\n",
            " 34%|███▍      | 1.28G/3.79G [00:45<00:48, 51.5MiB/s]\u001b[A\n",
            " 34%|███▍      | 1.29G/3.79G [00:45<00:57, 43.8MiB/s]\u001b[A\n",
            " 34%|███▍      | 1.29G/3.79G [00:45<00:59, 42.2MiB/s]\u001b[A\n",
            " 34%|███▍      | 1.30G/3.79G [00:45<01:01, 40.3MiB/s]\u001b[A\n",
            " 35%|███▍      | 1.31G/3.79G [00:45<00:54, 45.1MiB/s]\u001b[A\n",
            " 35%|███▍      | 1.31G/3.79G [00:46<01:17, 31.9MiB/s]\u001b[A\n",
            " 35%|███▍      | 1.32G/3.79G [00:46<01:19, 30.9MiB/s]\u001b[A\n",
            " 35%|███▍      | 1.32G/3.79G [00:46<01:40, 24.6MiB/s]\u001b[A\n",
            " 35%|███▍      | 1.32G/3.79G [00:46<01:50, 22.3MiB/s]\u001b[A\n",
            " 35%|███▌      | 1.33G/3.79G [00:46<02:02, 20.1MiB/s]\u001b[A\n",
            " 35%|███▌      | 1.33G/3.79G [00:46<01:44, 23.4MiB/s]\u001b[A\n",
            " 35%|███▌      | 1.33G/3.79G [00:47<02:16, 17.9MiB/s]\u001b[A\n",
            " 35%|███▌      | 1.34G/3.79G [00:47<02:04, 19.6MiB/s]\u001b[A\n",
            " 35%|███▌      | 1.34G/3.79G [00:47<01:49, 22.3MiB/s]\u001b[A\n",
            " 36%|███▌      | 1.34G/3.79G [00:47<02:23, 17.0MiB/s]\u001b[A\n",
            " 36%|███▌      | 1.35G/3.79G [00:47<02:01, 20.0MiB/s]\u001b[A\n",
            " 36%|███▌      | 1.35G/3.79G [00:48<02:11, 18.5MiB/s]\u001b[A\n",
            " 36%|███▌      | 1.35G/3.79G [00:48<02:01, 20.1MiB/s]\u001b[A\n",
            " 36%|███▌      | 1.36G/3.79G [00:48<01:53, 21.4MiB/s]\u001b[A\n",
            " 36%|███▌      | 1.36G/3.79G [00:48<02:22, 17.0MiB/s]\u001b[A\n",
            " 36%|███▌      | 1.37G/3.79G [00:48<01:59, 20.3MiB/s]\u001b[A\n",
            " 36%|███▌      | 1.37G/3.79G [00:49<02:28, 16.2MiB/s]\u001b[A\n",
            " 36%|███▋      | 1.37G/3.79G [00:49<01:54, 21.0MiB/s]\u001b[A\n",
            " 36%|███▋      | 1.38G/3.79G [00:49<01:58, 20.3MiB/s]\u001b[A\n",
            " 37%|███▋      | 1.38G/3.79G [00:49<01:31, 26.3MiB/s]\u001b[A\n",
            " 37%|███▋      | 1.39G/3.79G [00:49<01:28, 27.1MiB/s]\u001b[A\n",
            " 37%|███▋      | 1.39G/3.79G [00:49<01:06, 36.0MiB/s]\u001b[A\n",
            " 37%|███▋      | 1.40G/3.79G [00:49<01:04, 37.1MiB/s]\u001b[A\n",
            " 37%|███▋      | 1.40G/3.79G [00:50<01:04, 37.1MiB/s]\u001b[A\n",
            " 37%|███▋      | 1.41G/3.79G [00:50<00:56, 42.1MiB/s]\u001b[A\n",
            " 37%|███▋      | 1.41G/3.79G [00:50<00:56, 41.8MiB/s]\u001b[A\n",
            " 37%|███▋      | 1.42G/3.79G [00:50<01:07, 35.2MiB/s]\u001b[A\n",
            " 38%|███▊      | 1.43G/3.79G [00:50<00:58, 40.5MiB/s]\u001b[A\n",
            " 38%|███▊      | 1.43G/3.79G [00:50<00:52, 44.6MiB/s]\u001b[A\n",
            " 38%|███▊      | 1.44G/3.79G [00:50<00:59, 39.4MiB/s]\u001b[A\n",
            " 38%|███▊      | 1.44G/3.79G [00:50<00:52, 44.7MiB/s]\u001b[A\n",
            " 38%|███▊      | 1.45G/3.79G [00:51<00:45, 50.9MiB/s]\u001b[A\n",
            " 38%|███▊      | 1.46G/3.79G [00:51<00:44, 52.4MiB/s]\u001b[A\n",
            " 39%|███▊      | 1.46G/3.79G [00:51<00:51, 44.8MiB/s]\u001b[A\n",
            " 39%|███▉      | 1.47G/3.79G [00:51<01:12, 31.8MiB/s]\u001b[A\n",
            " 39%|███▉      | 1.47G/3.79G [00:51<01:10, 32.8MiB/s]\u001b[A\n",
            " 39%|███▉      | 1.48G/3.79G [00:51<01:21, 28.3MiB/s]\u001b[A\n",
            " 39%|███▉      | 1.48G/3.79G [00:52<01:21, 28.4MiB/s]\u001b[A\n",
            " 39%|███▉      | 1.48G/3.79G [00:53<04:12, 9.12MiB/s]\u001b[A\n",
            " 39%|███▉      | 1.49G/3.79G [00:53<03:17, 11.6MiB/s]\u001b[A\n",
            " 39%|███▉      | 1.49G/3.79G [00:53<02:37, 14.6MiB/s]\u001b[A\n",
            " 40%|███▉      | 1.50G/3.79G [00:53<01:45, 21.6MiB/s]\u001b[A\n",
            " 40%|███▉      | 1.51G/3.79G [00:53<01:23, 27.1MiB/s]\u001b[A\n",
            " 40%|███▉      | 1.51G/3.79G [00:55<03:58, 9.53MiB/s]\u001b[A\n",
            " 40%|████      | 1.52G/3.79G [00:55<03:01, 12.5MiB/s]\u001b[A\n",
            " 40%|████      | 1.52G/3.79G [00:56<05:28, 6.89MiB/s]\u001b[A\n",
            " 40%|████      | 1.53G/3.79G [00:57<04:10, 9.01MiB/s]\u001b[A\n",
            " 40%|████      | 1.53G/3.79G [00:57<02:57, 12.7MiB/s]\u001b[A\n",
            " 41%|████      | 1.54G/3.79G [00:57<02:29, 15.1MiB/s]\u001b[A\n",
            " 41%|████      | 1.54G/3.79G [00:59<06:00, 6.22MiB/s]\u001b[A\n",
            " 41%|████      | 1.55G/3.79G [00:59<04:28, 8.33MiB/s]\u001b[A\n",
            " 41%|████      | 1.56G/3.79G [00:59<03:10, 11.7MiB/s]\u001b[A\n",
            " 41%|████      | 1.56G/3.79G [00:59<02:21, 15.8MiB/s]\u001b[A\n",
            " 41%|████▏     | 1.57G/3.79G [00:59<01:43, 21.5MiB/s]\u001b[A\n",
            " 42%|████▏     | 1.57G/3.79G [00:59<01:23, 26.4MiB/s]\u001b[A\n",
            " 42%|████▏     | 1.58G/3.79G [01:00<01:20, 27.3MiB/s]\u001b[A\n",
            " 42%|████▏     | 1.59G/3.79G [01:00<01:08, 32.0MiB/s]\u001b[A\n",
            " 42%|████▏     | 1.59G/3.79G [01:00<01:03, 34.3MiB/s]\u001b[A\n",
            " 42%|████▏     | 1.60G/3.79G [01:00<01:09, 31.6MiB/s]\u001b[A\n",
            " 42%|████▏     | 1.60G/3.79G [01:00<01:14, 29.2MiB/s]\u001b[A\n",
            " 42%|████▏     | 1.61G/3.79G [01:00<01:09, 31.2MiB/s]\u001b[A\n",
            " 43%|████▎     | 1.61G/3.79G [01:00<01:08, 31.8MiB/s]\u001b[A\n",
            " 43%|████▎     | 1.62G/3.79G [01:01<00:51, 41.8MiB/s]\u001b[A\n",
            " 43%|████▎     | 1.63G/3.79G [01:01<00:44, 49.0MiB/s]\u001b[A\n",
            " 43%|████▎     | 1.63G/3.79G [01:01<00:45, 47.0MiB/s]\u001b[A\n",
            " 43%|████▎     | 1.64G/3.79G [01:01<00:58, 36.4MiB/s]\u001b[A\n",
            " 43%|████▎     | 1.64G/3.79G [01:01<01:26, 24.9MiB/s]\u001b[A\n",
            " 44%|████▎     | 1.65G/3.79G [01:02<01:41, 21.0MiB/s]\u001b[A\n",
            " 44%|████▎     | 1.65G/3.79G [01:02<01:56, 18.3MiB/s]\u001b[A\n",
            " 44%|████▎     | 1.66G/3.79G [01:02<01:33, 22.9MiB/s]\u001b[A\n",
            " 44%|████▍     | 1.66G/3.79G [01:04<05:34, 6.35MiB/s]\u001b[A\n",
            " 44%|████▍     | 1.67G/3.79G [01:04<04:02, 8.74MiB/s]\u001b[A\n",
            " 44%|████▍     | 1.67G/3.79G [01:04<02:40, 13.1MiB/s]\u001b[A\n",
            " 44%|████▍     | 1.68G/3.79G [01:05<01:48, 19.3MiB/s]\u001b[A\n",
            " 45%|████▍     | 1.69G/3.79G [01:05<01:23, 25.2MiB/s]\u001b[A\n",
            " 45%|████▍     | 1.70G/3.79G [01:05<01:06, 31.5MiB/s]\u001b[A\n",
            " 45%|████▌     | 1.70G/3.79G [01:05<00:54, 38.0MiB/s]\u001b[A\n",
            " 45%|████▌     | 1.71G/3.79G [01:05<01:00, 34.4MiB/s]\u001b[A\n",
            " 45%|████▌     | 1.72G/3.79G [01:05<00:57, 36.0MiB/s]\u001b[A\n",
            " 46%|████▌     | 1.73G/3.79G [01:05<00:47, 43.0MiB/s]\u001b[A\n",
            " 46%|████▌     | 1.74G/3.79G [01:06<00:42, 48.0MiB/s]\u001b[A\n",
            " 46%|████▌     | 1.74G/3.79G [01:06<00:42, 48.2MiB/s]\u001b[A\n",
            " 46%|████▌     | 1.75G/3.79G [01:06<00:41, 49.7MiB/s]\u001b[A\n",
            " 46%|████▋     | 1.75G/3.79G [01:06<00:38, 52.4MiB/s]\u001b[A\n",
            " 47%|████▋     | 1.76G/3.79G [01:06<00:38, 52.4MiB/s]\u001b[A\n",
            " 47%|████▋     | 1.77G/3.79G [01:06<00:35, 57.0MiB/s]\u001b[A\n",
            " 47%|████▋     | 1.77G/3.79G [01:06<00:35, 57.4MiB/s]\u001b[A\n",
            " 47%|████▋     | 1.78G/3.79G [01:06<00:40, 49.3MiB/s]\u001b[A\n",
            " 47%|████▋     | 1.79G/3.79G [01:07<00:44, 44.4MiB/s]\u001b[A\n",
            " 47%|████▋     | 1.80G/3.79G [01:07<00:40, 49.5MiB/s]\u001b[A\n",
            " 48%|████▊     | 1.80G/3.79G [01:07<00:40, 48.8MiB/s]\u001b[A\n",
            " 48%|████▊     | 1.81G/3.79G [01:07<00:38, 51.7MiB/s]\u001b[A\n",
            " 48%|████▊     | 1.82G/3.79G [01:07<00:39, 49.3MiB/s]\u001b[A\n",
            " 48%|████▊     | 1.82G/3.79G [01:07<00:40, 47.9MiB/s]\u001b[A\n",
            " 48%|████▊     | 1.83G/3.79G [01:07<00:40, 48.6MiB/s]\u001b[A\n",
            " 49%|████▊     | 1.84G/3.79G [01:08<00:35, 55.1MiB/s]\u001b[A\n",
            " 49%|████▊     | 1.84G/3.79G [01:08<00:32, 59.5MiB/s]\u001b[A\n",
            " 49%|████▉     | 1.85G/3.79G [01:08<00:35, 54.0MiB/s]\u001b[A\n",
            " 49%|████▉     | 1.86G/3.79G [01:08<00:44, 43.4MiB/s]\u001b[A\n",
            " 49%|████▉     | 1.86G/3.79G [01:08<00:46, 41.4MiB/s]\u001b[A\n",
            " 49%|████▉     | 1.87G/3.79G [01:08<00:40, 46.9MiB/s]\u001b[A\n",
            " 50%|████▉     | 1.88G/3.79G [01:08<00:36, 52.4MiB/s]\u001b[A\n",
            " 50%|████▉     | 1.88G/3.79G [01:08<00:34, 54.9MiB/s]\u001b[A\n",
            " 50%|████▉     | 1.89G/3.79G [01:09<00:36, 52.3MiB/s]\u001b[A\n",
            " 50%|█████     | 1.90G/3.79G [01:09<00:36, 51.2MiB/s]\u001b[A\n",
            " 50%|█████     | 1.90G/3.79G [01:09<00:34, 53.8MiB/s]\u001b[A\n",
            " 50%|█████     | 1.91G/3.79G [01:09<00:33, 55.8MiB/s]\u001b[A\n",
            " 51%|█████     | 1.92G/3.79G [01:09<00:31, 59.2MiB/s]\u001b[A\n",
            " 51%|█████     | 1.92G/3.79G [01:09<00:29, 62.7MiB/s]\u001b[A\n",
            " 51%|█████     | 1.93G/3.79G [01:09<00:29, 62.4MiB/s]\u001b[A\n",
            " 51%|█████     | 1.94G/3.79G [01:10<00:37, 49.0MiB/s]\u001b[A\n",
            " 51%|█████▏    | 1.95G/3.79G [01:10<00:33, 54.5MiB/s]\u001b[A\n",
            " 52%|█████▏    | 1.95G/3.79G [01:10<00:37, 48.9MiB/s]\u001b[A\n",
            " 52%|█████▏    | 1.96G/3.79G [01:10<00:34, 53.5MiB/s]\u001b[A\n",
            " 52%|█████▏    | 1.97G/3.79G [01:10<00:32, 55.1MiB/s]\u001b[A\n",
            " 52%|█████▏    | 1.98G/3.79G [01:10<00:31, 56.9MiB/s]\u001b[A\n",
            " 52%|█████▏    | 1.98G/3.79G [01:10<00:33, 53.9MiB/s]\u001b[A\n",
            " 53%|█████▎    | 1.99G/3.79G [01:10<00:33, 53.6MiB/s]\u001b[A\n",
            " 53%|█████▎    | 2.00G/3.79G [01:11<00:50, 35.6MiB/s]\u001b[A\n",
            " 53%|█████▎    | 2.00G/3.79G [01:11<00:42, 42.4MiB/s]\u001b[A\n",
            " 53%|█████▎    | 2.01G/3.79G [01:11<00:46, 38.2MiB/s]\u001b[A\n",
            " 53%|█████▎    | 2.02G/3.79G [01:11<00:43, 40.6MiB/s]\u001b[A\n",
            " 53%|█████▎    | 2.02G/3.79G [01:11<00:46, 38.1MiB/s]\u001b[A\n",
            " 54%|█████▎    | 2.03G/3.79G [01:11<00:43, 40.3MiB/s]\u001b[A\n",
            " 54%|█████▎    | 2.03G/3.79G [01:12<00:49, 35.7MiB/s]\u001b[A\n",
            " 54%|█████▍    | 2.04G/3.79G [01:12<00:43, 40.1MiB/s]\u001b[A\n",
            " 54%|█████▍    | 2.05G/3.79G [01:12<00:37, 46.5MiB/s]\u001b[A\n",
            " 54%|█████▍    | 2.05G/3.79G [01:12<00:35, 48.7MiB/s]\u001b[A\n",
            " 54%|█████▍    | 2.06G/3.79G [01:14<03:24, 8.46MiB/s]\u001b[A\n",
            " 55%|█████▍    | 2.06G/3.79G [01:14<02:41, 10.6MiB/s]\u001b[A\n",
            " 55%|█████▍    | 2.07G/3.79G [01:14<01:53, 15.1MiB/s]\u001b[A\n",
            " 55%|█████▍    | 2.08G/3.79G [01:15<01:21, 21.0MiB/s]\u001b[A\n",
            " 55%|█████▌    | 2.09G/3.79G [01:15<01:04, 26.1MiB/s]\u001b[A\n",
            " 55%|█████▌    | 2.10G/3.79G [01:15<00:53, 31.7MiB/s]\u001b[A\n",
            " 56%|█████▌    | 2.10G/3.79G [01:15<00:46, 36.3MiB/s]\u001b[A\n",
            " 56%|█████▌    | 2.11G/3.79G [01:15<00:41, 40.6MiB/s]\u001b[A\n",
            " 56%|█████▌    | 2.12G/3.79G [01:15<00:36, 46.0MiB/s]\u001b[A\n",
            " 56%|█████▌    | 2.12G/3.79G [01:15<00:36, 45.3MiB/s]\u001b[A\n",
            " 56%|█████▌    | 2.13G/3.79G [01:16<00:40, 41.3MiB/s]\u001b[A\n",
            " 56%|█████▋    | 2.13G/3.79G [01:16<00:38, 43.5MiB/s]\u001b[A\n",
            " 57%|█████▋    | 2.14G/3.79G [01:16<00:34, 47.7MiB/s]\u001b[A\n",
            " 57%|█████▋    | 2.15G/3.79G [01:16<00:31, 52.3MiB/s]\u001b[A\n",
            " 57%|█████▋    | 2.15G/3.79G [01:16<00:38, 42.8MiB/s]\u001b[A\n",
            " 57%|█████▋    | 2.16G/3.79G [01:16<00:33, 48.8MiB/s]\u001b[A\n",
            " 57%|█████▋    | 2.17G/3.79G [01:16<00:31, 50.9MiB/s]\u001b[A\n",
            " 57%|█████▋    | 2.17G/3.79G [01:16<00:32, 49.6MiB/s]\u001b[A\n",
            " 58%|█████▊    | 2.18G/3.79G [01:17<00:36, 44.5MiB/s]\u001b[A\n",
            " 58%|█████▊    | 2.19G/3.79G [01:17<00:33, 47.7MiB/s]\u001b[A\n",
            " 58%|█████▊    | 2.19G/3.79G [01:17<00:41, 38.5MiB/s]\u001b[A\n",
            " 58%|█████▊    | 2.20G/3.79G [01:17<00:35, 44.2MiB/s]\u001b[A\n",
            " 58%|█████▊    | 2.21G/3.79G [01:17<00:31, 49.4MiB/s]\u001b[A\n",
            " 58%|█████▊    | 2.21G/3.79G [01:17<00:32, 48.6MiB/s]\u001b[A\n",
            " 59%|█████▊    | 2.22G/3.79G [01:17<00:30, 51.4MiB/s]\u001b[A\n",
            " 59%|█████▉    | 2.23G/3.79G [01:18<00:26, 58.3MiB/s]\u001b[A\n",
            " 59%|█████▉    | 2.24G/3.79G [01:18<00:26, 59.3MiB/s]\u001b[A\n",
            " 59%|█████▉    | 2.24G/3.79G [01:18<00:26, 59.1MiB/s]\u001b[A\n",
            " 59%|█████▉    | 2.25G/3.79G [01:18<00:29, 51.4MiB/s]\u001b[A\n",
            " 60%|█████▉    | 2.25G/3.79G [01:18<00:30, 50.5MiB/s]\u001b[A\n",
            " 60%|█████▉    | 2.26G/3.79G [01:18<00:28, 52.8MiB/s]\u001b[A\n",
            " 60%|█████▉    | 2.27G/3.79G [01:18<00:27, 54.8MiB/s]\u001b[A\n",
            " 60%|██████    | 2.27G/3.79G [01:18<00:30, 50.1MiB/s]\u001b[A\n",
            " 60%|██████    | 2.28G/3.79G [01:19<00:27, 55.1MiB/s]\u001b[A\n",
            " 60%|██████    | 2.29G/3.79G [01:19<00:34, 43.0MiB/s]\u001b[A\n",
            " 61%|██████    | 2.29G/3.79G [01:19<00:34, 43.4MiB/s]\u001b[A\n",
            " 61%|██████    | 2.30G/3.79G [01:19<00:35, 42.4MiB/s]\u001b[A\n",
            " 61%|██████    | 2.30G/3.79G [01:19<00:33, 44.7MiB/s]\u001b[A\n",
            " 61%|██████    | 2.31G/3.79G [01:19<00:28, 51.9MiB/s]\u001b[A\n",
            " 61%|██████    | 2.32G/3.79G [01:19<00:25, 57.2MiB/s]\u001b[A\n",
            " 61%|██████▏   | 2.32G/3.79G [01:19<00:24, 60.0MiB/s]\u001b[A\n",
            " 62%|██████▏   | 2.33G/3.79G [01:20<00:36, 40.2MiB/s]\u001b[A\n",
            " 62%|██████▏   | 2.35G/3.79G [01:20<00:21, 68.0MiB/s]\u001b[A\n",
            " 62%|██████▏   | 2.36G/3.79G [01:20<00:20, 68.6MiB/s]\u001b[A\n",
            " 63%|██████▎   | 2.37G/3.79G [01:20<00:20, 69.1MiB/s]\u001b[A\n",
            " 63%|██████▎   | 2.38G/3.79G [01:21<00:41, 34.0MiB/s]\u001b[A\n",
            " 63%|██████▎   | 2.38G/3.79G [01:21<00:43, 32.6MiB/s]\u001b[A\n",
            " 63%|██████▎   | 2.39G/3.79G [01:21<00:37, 37.6MiB/s]\u001b[A\n",
            " 63%|██████▎   | 2.40G/3.79G [01:21<00:33, 41.8MiB/s]\u001b[A\n",
            " 63%|██████▎   | 2.40G/3.79G [01:21<00:35, 38.9MiB/s]\u001b[A\n",
            " 64%|██████▎   | 2.41G/3.79G [01:21<00:36, 38.2MiB/s]\u001b[A\n",
            " 64%|██████▍   | 2.41G/3.79G [01:22<00:31, 42.9MiB/s]\u001b[A\n",
            " 64%|██████▍   | 2.42G/3.79G [01:22<00:38, 35.6MiB/s]\u001b[A\n",
            " 64%|██████▍   | 2.43G/3.79G [01:24<02:53, 7.85MiB/s]\u001b[A\n",
            " 64%|██████▍   | 2.43G/3.79G [01:24<02:12, 10.2MiB/s]\u001b[A\n",
            " 64%|██████▍   | 2.43G/3.79G [01:25<02:50, 7.94MiB/s]\u001b[A\n",
            " 64%|██████▍   | 2.44G/3.79G [01:25<03:00, 7.46MiB/s]\u001b[A\n",
            " 64%|██████▍   | 2.44G/3.79G [01:26<02:37, 8.54MiB/s]\u001b[A\n",
            " 65%|██████▍   | 2.44G/3.79G [01:26<02:21, 9.49MiB/s]\u001b[A\n",
            " 65%|██████▍   | 2.45G/3.79G [01:26<02:08, 10.4MiB/s]\u001b[A\n",
            " 65%|██████▍   | 2.45G/3.79G [01:26<01:43, 12.9MiB/s]\u001b[A\n",
            " 65%|██████▍   | 2.45G/3.79G [01:27<02:35, 8.56MiB/s]\u001b[A\n",
            " 65%|██████▍   | 2.45G/3.79G [01:27<02:02, 10.9MiB/s]\u001b[A\n",
            " 65%|██████▍   | 2.46G/3.79G [01:27<01:52, 11.8MiB/s]\u001b[A\n",
            " 65%|██████▌   | 2.46G/3.79G [01:27<01:32, 14.4MiB/s]\u001b[A\n",
            " 65%|██████▌   | 2.46G/3.79G [01:28<02:18, 9.54MiB/s]\u001b[A\n",
            " 65%|██████▌   | 2.47G/3.79G [01:28<02:16, 9.68MiB/s]\u001b[A\n",
            " 65%|██████▌   | 2.47G/3.79G [01:28<01:48, 12.1MiB/s]\u001b[A\n",
            " 65%|██████▌   | 2.47G/3.79G [01:28<01:20, 16.3MiB/s]\u001b[A\n",
            " 65%|██████▌   | 2.48G/3.79G [01:28<01:28, 14.8MiB/s]\u001b[A\n",
            " 66%|██████▌   | 2.48G/3.79G [01:29<02:15, 9.66MiB/s]\u001b[A\n",
            " 66%|██████▌   | 2.48G/3.79G [01:29<02:09, 10.0MiB/s]\u001b[A\n",
            " 66%|██████▌   | 2.49G/3.79G [01:29<01:55, 11.3MiB/s]\u001b[A\n",
            " 66%|██████▌   | 2.49G/3.79G [01:29<01:43, 12.5MiB/s]\u001b[A\n",
            " 66%|██████▌   | 2.49G/3.79G [01:30<01:31, 14.2MiB/s]\u001b[A\n",
            " 66%|██████▌   | 2.49G/3.79G [01:30<02:54, 7.40MiB/s]\u001b[A\n",
            " 66%|██████▌   | 2.50G/3.79G [01:30<01:59, 10.7MiB/s]\u001b[A\n",
            " 66%|██████▌   | 2.50G/3.79G [01:31<01:55, 11.2MiB/s]\u001b[A\n",
            " 66%|██████▌   | 2.50G/3.79G [01:31<02:37, 8.12MiB/s]\u001b[A\n",
            " 66%|██████▌   | 2.51G/3.79G [01:31<02:02, 10.4MiB/s]\u001b[A\n",
            " 66%|██████▋   | 2.51G/3.79G [01:32<02:06, 10.1MiB/s]\u001b[A\n",
            " 66%|██████▋   | 2.51G/3.79G [01:32<01:14, 17.0MiB/s]\u001b[A\n",
            " 67%|██████▋   | 2.52G/3.79G [01:32<01:05, 19.3MiB/s]\u001b[A\n",
            " 67%|██████▋   | 2.52G/3.79G [01:32<00:54, 23.1MiB/s]\u001b[A\n",
            " 67%|██████▋   | 2.53G/3.79G [01:32<01:13, 17.2MiB/s]\u001b[A\n",
            " 67%|██████▋   | 2.53G/3.79G [01:32<00:52, 23.7MiB/s]\u001b[A\n",
            " 67%|██████▋   | 2.54G/3.79G [01:32<00:46, 26.9MiB/s]\u001b[A\n",
            " 67%|██████▋   | 2.54G/3.79G [01:33<00:40, 30.7MiB/s]\u001b[A\n",
            " 67%|██████▋   | 2.55G/3.79G [01:33<00:34, 36.1MiB/s]\u001b[A\n",
            " 67%|██████▋   | 2.55G/3.79G [01:33<00:57, 21.6MiB/s]\u001b[A\n",
            " 68%|██████▊   | 2.56G/3.79G [01:33<00:51, 24.1MiB/s]\u001b[A\n",
            " 68%|██████▊   | 2.56G/3.79G [01:33<00:40, 30.5MiB/s]\u001b[A\n",
            " 68%|██████▊   | 2.57G/3.79G [01:34<00:33, 36.8MiB/s]\u001b[A\n",
            " 68%|██████▊   | 2.58G/3.79G [01:34<00:30, 39.7MiB/s]\u001b[A\n",
            " 68%|██████▊   | 2.58G/3.79G [01:34<00:52, 23.2MiB/s]\u001b[A\n",
            " 68%|██████▊   | 2.58G/3.79G [01:34<00:48, 24.8MiB/s]\u001b[A\n",
            " 68%|██████▊   | 2.59G/3.79G [01:34<00:41, 28.7MiB/s]\u001b[A\n",
            " 69%|██████▊   | 2.59G/3.79G [01:34<00:41, 28.8MiB/s]\u001b[A\n",
            " 69%|██████▊   | 2.60G/3.79G [01:35<00:36, 32.8MiB/s]\u001b[A\n",
            " 69%|██████▉   | 2.60G/3.79G [01:35<00:32, 35.8MiB/s]\u001b[A\n",
            " 69%|██████▉   | 2.61G/3.79G [01:35<00:51, 23.0MiB/s]\u001b[A\n",
            " 69%|██████▉   | 2.61G/3.79G [01:35<00:46, 25.0MiB/s]\u001b[A\n",
            " 69%|██████▉   | 2.62G/3.79G [01:35<00:46, 25.0MiB/s]\u001b[A\n",
            " 69%|██████▉   | 2.62G/3.79G [01:35<00:38, 30.2MiB/s]\u001b[A\n",
            " 69%|██████▉   | 2.63G/3.79G [01:36<00:44, 25.9MiB/s]\u001b[A\n",
            " 70%|██████▉   | 2.63G/3.79G [01:36<00:37, 30.8MiB/s]\u001b[A\n",
            " 70%|██████▉   | 2.64G/3.79G [01:36<00:37, 30.6MiB/s]\u001b[A\n",
            " 70%|██████▉   | 2.64G/3.79G [01:36<00:34, 32.7MiB/s]\u001b[A\n",
            " 70%|██████▉   | 2.65G/3.79G [01:36<00:31, 36.4MiB/s]\u001b[A\n",
            " 70%|███████   | 2.65G/3.79G [01:36<00:31, 36.4MiB/s]\u001b[A\n",
            " 70%|███████   | 2.66G/3.79G [01:37<00:51, 22.0MiB/s]\u001b[A\n",
            " 70%|███████   | 2.66G/3.79G [01:37<01:01, 18.4MiB/s]\u001b[A\n",
            " 70%|███████   | 2.66G/3.79G [01:37<00:47, 23.4MiB/s]\u001b[A\n",
            " 71%|███████   | 2.67G/3.79G [01:37<00:37, 29.6MiB/s]\u001b[A\n",
            " 71%|███████   | 2.68G/3.79G [01:37<00:31, 35.3MiB/s]\u001b[A\n",
            " 71%|███████   | 2.68G/3.79G [01:38<00:45, 24.5MiB/s]\u001b[A\n",
            " 71%|███████   | 2.69G/3.79G [01:38<00:56, 19.5MiB/s]\u001b[A\n",
            " 71%|███████   | 2.69G/3.79G [01:38<00:43, 25.2MiB/s]\u001b[A\n",
            " 71%|███████▏  | 2.70G/3.79G [01:38<00:37, 29.3MiB/s]\u001b[A\n",
            " 71%|███████▏  | 2.70G/3.79G [01:38<00:36, 29.8MiB/s]\u001b[A\n",
            " 72%|███████▏  | 2.71G/3.79G [01:39<00:31, 34.5MiB/s]\u001b[A\n",
            " 72%|███████▏  | 2.71G/3.79G [01:39<00:37, 28.5MiB/s]\u001b[A\n",
            " 72%|███████▏  | 2.72G/3.79G [01:39<00:35, 30.2MiB/s]\u001b[A\n",
            " 72%|███████▏  | 2.72G/3.79G [01:39<00:31, 34.0MiB/s]\u001b[A\n",
            " 72%|███████▏  | 2.73G/3.79G [01:39<00:29, 35.6MiB/s]\u001b[A\n",
            " 72%|███████▏  | 2.73G/3.79G [01:39<00:25, 42.0MiB/s]\u001b[A\n",
            " 72%|███████▏  | 2.74G/3.79G [01:39<00:26, 40.2MiB/s]\u001b[A\n",
            " 73%|███████▎  | 2.75G/3.79G [01:40<00:24, 42.5MiB/s]\u001b[A\n",
            " 73%|███████▎  | 2.75G/3.79G [01:40<00:35, 29.2MiB/s]\u001b[A\n",
            " 73%|███████▎  | 2.75G/3.79G [01:40<00:33, 31.2MiB/s]\u001b[A\n",
            " 73%|███████▎  | 2.76G/3.79G [01:40<00:27, 37.3MiB/s]\u001b[A\n",
            " 73%|███████▎  | 2.77G/3.79G [01:40<00:26, 39.2MiB/s]\u001b[A\n",
            " 73%|███████▎  | 2.77G/3.79G [01:40<00:24, 41.1MiB/s]\u001b[A\n",
            " 73%|███████▎  | 2.78G/3.79G [01:40<00:22, 45.3MiB/s]\u001b[A\n",
            " 74%|███████▎  | 2.78G/3.79G [01:41<00:22, 45.5MiB/s]\u001b[A\n",
            " 74%|███████▎  | 2.79G/3.79G [01:41<00:51, 19.4MiB/s]\u001b[A\n",
            " 74%|███████▍  | 2.79G/3.79G [01:41<00:44, 22.3MiB/s]\u001b[A\n",
            " 74%|███████▍  | 2.80G/3.79G [01:41<00:39, 25.3MiB/s]\u001b[A\n",
            " 74%|███████▍  | 2.80G/3.79G [01:41<00:30, 31.9MiB/s]\u001b[A\n",
            " 74%|███████▍  | 2.81G/3.79G [01:42<00:27, 35.7MiB/s]\u001b[A\n",
            " 74%|███████▍  | 2.81G/3.79G [01:42<00:23, 41.2MiB/s]\u001b[A\n",
            " 74%|███████▍  | 2.82G/3.79G [01:42<00:37, 25.7MiB/s]\u001b[A\n",
            " 75%|███████▍  | 2.82G/3.79G [01:42<00:32, 29.8MiB/s]\u001b[A\n",
            " 75%|███████▍  | 2.83G/3.79G [01:42<00:30, 31.5MiB/s]\u001b[A\n",
            " 75%|███████▍  | 2.84G/3.79G [01:43<00:31, 30.3MiB/s]\u001b[A\n",
            " 75%|███████▌  | 2.84G/3.79G [01:43<00:29, 32.4MiB/s]\u001b[A\n",
            " 75%|███████▌  | 2.84G/3.79G [01:43<00:47, 19.8MiB/s]\u001b[A\n",
            " 75%|███████▌  | 2.85G/3.79G [01:43<00:37, 24.7MiB/s]\u001b[A\n",
            " 75%|███████▌  | 2.86G/3.79G [01:43<00:31, 29.9MiB/s]\u001b[A\n",
            " 76%|███████▌  | 2.86G/3.79G [01:43<00:27, 33.2MiB/s]\u001b[A\n",
            " 76%|███████▌  | 2.86G/3.79G [01:44<00:26, 34.4MiB/s]\u001b[A\n",
            " 76%|███████▌  | 2.87G/3.79G [01:44<00:26, 34.1MiB/s]\u001b[A\n",
            " 76%|███████▌  | 2.88G/3.79G [01:44<00:21, 43.0MiB/s]\u001b[A\n",
            " 76%|███████▌  | 2.88G/3.79G [01:44<00:32, 27.5MiB/s]\u001b[A\n",
            " 76%|███████▌  | 2.89G/3.79G [01:46<02:17, 6.55MiB/s]\u001b[A\n",
            " 76%|███████▋  | 2.89G/3.79G [01:46<01:46, 8.39MiB/s]\u001b[A\n",
            " 76%|███████▋  | 2.89G/3.79G [01:47<01:31, 9.77MiB/s]\u001b[A\n",
            " 77%|███████▋  | 2.90G/3.79G [01:47<00:56, 15.7MiB/s]\u001b[A\n",
            " 77%|███████▋  | 2.91G/3.79G [01:47<00:43, 20.3MiB/s]\u001b[A\n",
            " 77%|███████▋  | 2.92G/3.79G [01:47<00:32, 26.5MiB/s]\u001b[A\n",
            " 77%|███████▋  | 2.92G/3.79G [01:47<00:24, 35.1MiB/s]\u001b[A\n",
            " 77%|███████▋  | 2.93G/3.79G [01:47<00:19, 43.3MiB/s]\u001b[A\n",
            " 78%|███████▊  | 2.94G/3.79G [01:47<00:23, 36.4MiB/s]\u001b[A\n",
            " 78%|███████▊  | 2.95G/3.79G [01:48<00:23, 36.3MiB/s]\u001b[A\n",
            " 78%|███████▊  | 2.95G/3.79G [01:48<00:20, 40.8MiB/s]\u001b[A\n",
            " 78%|███████▊  | 2.96G/3.79G [01:48<00:17, 47.3MiB/s]\u001b[A\n",
            " 78%|███████▊  | 2.97G/3.79G [01:48<00:16, 48.7MiB/s]\u001b[A\n",
            " 79%|███████▊  | 2.97G/3.79G [01:48<00:16, 50.5MiB/s]\u001b[A\n",
            " 79%|███████▊  | 2.98G/3.79G [01:48<00:15, 52.2MiB/s]\u001b[A\n",
            " 79%|███████▉  | 2.99G/3.79G [01:48<00:15, 52.2MiB/s]\u001b[A\n",
            " 79%|███████▉  | 2.99G/3.79G [01:48<00:17, 46.2MiB/s]\u001b[A\n",
            " 79%|███████▉  | 3.00G/3.79G [01:49<00:19, 39.8MiB/s]\u001b[A\n",
            " 79%|███████▉  | 3.00G/3.79G [01:49<00:18, 43.4MiB/s]\u001b[A\n",
            " 79%|███████▉  | 3.01G/3.79G [01:49<00:17, 45.2MiB/s]\u001b[A\n",
            " 80%|███████▉  | 3.01G/3.79G [01:49<00:16, 47.0MiB/s]\u001b[A\n",
            " 80%|███████▉  | 3.02G/3.79G [01:49<00:15, 49.0MiB/s]\u001b[A\n",
            " 80%|███████▉  | 3.03G/3.79G [01:49<00:14, 53.2MiB/s]\u001b[A\n",
            " 80%|████████  | 3.03G/3.79G [01:49<00:14, 50.3MiB/s]\u001b[A\n",
            " 80%|████████  | 3.04G/3.79G [01:49<00:13, 54.4MiB/s]\u001b[A\n",
            " 81%|████████  | 3.05G/3.79G [01:50<00:16, 44.7MiB/s]\u001b[A\n",
            " 81%|████████  | 3.05G/3.79G [01:50<00:18, 40.0MiB/s]\u001b[A\n",
            " 81%|████████  | 3.06G/3.79G [01:50<00:14, 48.4MiB/s]\u001b[A\n",
            " 81%|████████  | 3.07G/3.79G [01:50<00:13, 53.6MiB/s]\u001b[A\n",
            " 81%|████████▏ | 3.08G/3.79G [01:50<00:12, 57.0MiB/s]\u001b[A\n",
            " 81%|████████▏ | 3.08G/3.79G [01:50<00:12, 57.6MiB/s]\u001b[A\n",
            " 82%|████████▏ | 3.09G/3.79G [01:50<00:11, 60.8MiB/s]\u001b[A\n",
            " 82%|████████▏ | 3.10G/3.79G [01:51<00:11, 57.4MiB/s]\u001b[A\n",
            " 82%|████████▏ | 3.10G/3.79G [01:51<00:12, 54.9MiB/s]\u001b[A\n",
            " 82%|████████▏ | 3.11G/3.79G [01:51<00:12, 55.6MiB/s]\u001b[A\n",
            " 82%|████████▏ | 3.12G/3.79G [01:51<00:13, 49.9MiB/s]\u001b[A\n",
            " 83%|████████▎ | 3.12G/3.79G [01:51<00:22, 30.0MiB/s]\u001b[A\n",
            " 83%|████████▎ | 3.13G/3.79G [01:52<00:22, 29.6MiB/s]\u001b[A\n",
            " 83%|████████▎ | 3.14G/3.79G [01:52<00:17, 36.4MiB/s]\u001b[A\n",
            " 83%|████████▎ | 3.14G/3.79G [01:52<00:18, 35.0MiB/s]\u001b[A\n",
            " 83%|████████▎ | 3.15G/3.79G [01:52<00:17, 35.7MiB/s]\u001b[A\n",
            " 83%|████████▎ | 3.15G/3.79G [01:52<00:18, 34.1MiB/s]\u001b[A\n",
            " 83%|████████▎ | 3.16G/3.79G [01:52<00:17, 36.9MiB/s]\u001b[A\n",
            " 84%|████████▎ | 3.16G/3.79G [01:54<01:21, 7.66MiB/s]\u001b[A\n",
            " 84%|████████▎ | 3.17G/3.79G [01:54<01:01, 10.1MiB/s]\u001b[A\n",
            " 84%|████████▍ | 3.17G/3.79G [01:55<00:47, 12.9MiB/s]\u001b[A\n",
            " 84%|████████▍ | 3.18G/3.79G [01:55<00:33, 18.3MiB/s]\u001b[A\n",
            " 84%|████████▍ | 3.19G/3.79G [01:55<00:25, 23.0MiB/s]\u001b[A\n",
            " 84%|████████▍ | 3.20G/3.79G [01:55<00:19, 30.8MiB/s]\u001b[A\n",
            " 85%|████████▍ | 3.20G/3.79G [01:55<00:17, 34.1MiB/s]\u001b[A\n",
            " 85%|████████▍ | 3.21G/3.79G [01:55<00:12, 46.2MiB/s]\u001b[A\n",
            " 85%|████████▌ | 3.22G/3.79G [01:55<00:11, 50.1MiB/s]\u001b[A\n",
            " 85%|████████▌ | 3.23G/3.79G [01:55<00:10, 53.9MiB/s]\u001b[A\n",
            " 85%|████████▌ | 3.24G/3.79G [01:56<00:10, 51.3MiB/s]\u001b[A\n",
            " 86%|████████▌ | 3.24G/3.79G [01:56<00:13, 41.1MiB/s]\u001b[A\n",
            " 86%|████████▌ | 3.25G/3.79G [01:56<00:12, 44.0MiB/s]\u001b[A\n",
            " 86%|████████▌ | 3.25G/3.79G [01:56<00:11, 45.0MiB/s]\u001b[A\n",
            " 86%|████████▌ | 3.26G/3.79G [01:56<00:10, 50.9MiB/s]\u001b[A\n",
            " 86%|████████▋ | 3.27G/3.79G [01:59<01:03, 8.14MiB/s]\u001b[A\n",
            " 86%|████████▋ | 3.27G/3.79G [01:59<00:55, 9.19MiB/s]\u001b[A\n",
            " 87%|████████▋ | 3.28G/3.79G [01:59<00:46, 10.9MiB/s]\u001b[A\n",
            " 87%|████████▋ | 3.28G/3.79G [01:59<00:44, 11.3MiB/s]\u001b[A\n",
            " 87%|████████▋ | 3.29G/3.79G [01:59<00:34, 14.6MiB/s]\u001b[A\n",
            " 87%|████████▋ | 3.29G/3.79G [02:00<00:32, 15.3MiB/s]\u001b[A\n",
            " 87%|████████▋ | 3.29G/3.79G [02:00<00:26, 18.4MiB/s]\u001b[A\n",
            " 87%|████████▋ | 3.30G/3.79G [02:00<00:32, 15.2MiB/s]\u001b[A\n",
            " 87%|████████▋ | 3.30G/3.79G [02:00<00:20, 23.1MiB/s]\u001b[A\n",
            " 87%|████████▋ | 3.31G/3.79G [02:00<00:16, 29.5MiB/s]\u001b[A\n",
            " 88%|████████▊ | 3.32G/3.79G [02:00<00:13, 35.8MiB/s]\u001b[A\n",
            " 88%|████████▊ | 3.32G/3.79G [02:01<00:14, 32.4MiB/s]\u001b[A\n",
            " 88%|████████▊ | 3.33G/3.79G [02:01<00:11, 39.6MiB/s]\u001b[A\n",
            " 88%|████████▊ | 3.34G/3.79G [02:01<00:10, 43.5MiB/s]\u001b[A\n",
            " 88%|████████▊ | 3.34G/3.79G [02:01<00:10, 43.2MiB/s]\u001b[A\n",
            " 88%|████████▊ | 3.35G/3.79G [02:01<00:11, 38.3MiB/s]\u001b[A\n",
            " 89%|████████▊ | 3.35G/3.79G [02:01<00:11, 39.1MiB/s]\u001b[A\n",
            " 89%|████████▊ | 3.36G/3.79G [02:02<00:19, 21.5MiB/s]\u001b[A\n",
            " 89%|████████▉ | 3.36G/3.79G [02:02<00:21, 19.9MiB/s]\u001b[A\n",
            " 89%|████████▉ | 3.36G/3.79G [02:02<00:19, 21.6MiB/s]\u001b[A\n",
            " 89%|████████▉ | 3.37G/3.79G [02:02<00:13, 29.7MiB/s]\u001b[A\n",
            " 89%|████████▉ | 3.38G/3.79G [02:02<00:17, 24.0MiB/s]\u001b[A\n",
            " 89%|████████▉ | 3.38G/3.79G [02:03<00:13, 29.8MiB/s]\u001b[A\n",
            " 90%|████████▉ | 3.39G/3.79G [02:03<00:10, 36.7MiB/s]\u001b[A\n",
            " 90%|████████▉ | 3.40G/3.79G [02:03<00:09, 43.0MiB/s]\u001b[A\n",
            " 90%|████████▉ | 3.40G/3.79G [02:05<00:47, 8.01MiB/s]\u001b[A\n",
            " 90%|████████▉ | 3.41G/3.79G [02:05<00:39, 9.57MiB/s]\u001b[A\n",
            " 90%|█████████ | 3.41G/3.79G [02:05<00:29, 12.5MiB/s]\u001b[A\n",
            " 90%|█████████ | 3.42G/3.79G [02:05<00:25, 14.7MiB/s]\u001b[A\n",
            " 90%|█████████ | 3.42G/3.79G [02:06<00:18, 19.4MiB/s]\u001b[A\n",
            " 91%|█████████ | 3.43G/3.79G [02:06<00:14, 24.6MiB/s]\u001b[A\n",
            " 91%|█████████ | 3.44G/3.79G [02:06<00:11, 31.5MiB/s]\u001b[A\n",
            " 91%|█████████ | 3.44G/3.79G [02:06<00:09, 35.7MiB/s]\u001b[A\n",
            " 91%|█████████ | 3.45G/3.79G [02:07<00:25, 13.4MiB/s]\u001b[A\n",
            " 91%|█████████ | 3.45G/3.79G [02:07<00:18, 17.4MiB/s]\u001b[A\n",
            " 91%|█████████▏| 3.46G/3.79G [02:07<00:17, 19.1MiB/s]\u001b[A\n",
            " 92%|█████████▏| 3.47G/3.79G [02:07<00:12, 25.2MiB/s]\u001b[A\n",
            " 92%|█████████▏| 3.47G/3.79G [02:08<00:10, 29.6MiB/s]\u001b[A\n",
            " 92%|█████████▏| 3.48G/3.79G [02:08<00:10, 28.9MiB/s]\u001b[A\n",
            " 92%|█████████▏| 3.49G/3.79G [02:08<00:07, 41.6MiB/s]\u001b[A\n",
            " 92%|█████████▏| 3.49G/3.79G [02:08<00:06, 41.7MiB/s]\u001b[A\n",
            " 93%|█████████▎| 3.50G/3.79G [02:08<00:05, 47.3MiB/s]\u001b[A\n",
            " 93%|█████████▎| 3.51G/3.79G [02:08<00:05, 50.6MiB/s]\u001b[A\n",
            " 93%|█████████▎| 3.51G/3.79G [02:10<00:29, 9.17MiB/s]\u001b[A\n",
            " 93%|█████████▎| 3.52G/3.79G [02:10<00:23, 11.5MiB/s]\u001b[A\n",
            " 93%|█████████▎| 3.53G/3.79G [02:11<00:18, 14.4MiB/s]\u001b[A\n",
            " 93%|█████████▎| 3.53G/3.79G [02:11<00:12, 19.6MiB/s]\u001b[A\n",
            " 93%|█████████▎| 3.54G/3.79G [02:11<00:11, 21.1MiB/s]\u001b[A\n",
            " 94%|█████████▎| 3.54G/3.79G [02:11<00:09, 25.1MiB/s]\u001b[A\n",
            " 94%|█████████▍| 3.55G/3.79G [02:11<00:08, 28.7MiB/s]\u001b[A\n",
            " 94%|█████████▍| 3.55G/3.79G [02:11<00:07, 30.6MiB/s]\u001b[A\n",
            " 94%|█████████▍| 3.56G/3.79G [02:11<00:06, 34.9MiB/s]\u001b[A\n",
            " 94%|█████████▍| 3.57G/3.79G [02:12<00:06, 36.3MiB/s]\u001b[A\n",
            " 94%|█████████▍| 3.57G/3.79G [02:12<00:05, 41.1MiB/s]\u001b[A\n",
            " 95%|█████████▍| 3.58G/3.79G [02:12<00:04, 47.0MiB/s]\u001b[A\n",
            " 95%|█████████▍| 3.59G/3.79G [02:12<00:03, 52.3MiB/s]\u001b[A\n",
            " 95%|█████████▍| 3.60G/3.79G [02:12<00:03, 54.6MiB/s]\u001b[A\n",
            " 95%|█████████▌| 3.60G/3.79G [02:12<00:03, 55.2MiB/s]\u001b[A\n",
            " 95%|█████████▌| 3.61G/3.79G [02:12<00:03, 52.4MiB/s]\u001b[A\n",
            " 95%|█████████▌| 3.61G/3.79G [02:12<00:03, 50.0MiB/s]\u001b[A\n",
            " 96%|█████████▌| 3.62G/3.79G [02:13<00:04, 38.8MiB/s]\u001b[A\n",
            " 96%|█████████▌| 3.62G/3.79G [02:13<00:03, 40.7MiB/s]\u001b[A\n",
            " 96%|█████████▌| 3.63G/3.79G [02:13<00:03, 41.2MiB/s]\u001b[A\n",
            " 96%|█████████▌| 3.64G/3.79G [02:13<00:03, 38.1MiB/s]\u001b[A\n",
            " 96%|█████████▌| 3.64G/3.79G [02:13<00:03, 41.0MiB/s]\u001b[A\n",
            " 96%|█████████▋| 3.65G/3.79G [02:13<00:02, 52.6MiB/s]\u001b[A\n",
            " 97%|█████████▋| 3.66G/3.79G [02:13<00:02, 59.8MiB/s]\u001b[A\n",
            " 97%|█████████▋| 3.67G/3.79G [02:13<00:01, 63.9MiB/s]\u001b[A\n",
            " 97%|█████████▋| 3.68G/3.79G [02:14<00:01, 57.7MiB/s]\u001b[A\n",
            " 97%|█████████▋| 3.68G/3.79G [02:14<00:01, 60.3MiB/s]\u001b[A\n",
            " 98%|█████████▊| 3.69G/3.79G [02:14<00:01, 48.4MiB/s]\u001b[A\n",
            " 98%|█████████▊| 3.70G/3.79G [02:14<00:01, 53.6MiB/s]\u001b[A\n",
            " 98%|█████████▊| 3.71G/3.79G [02:14<00:01, 51.3MiB/s]\u001b[A\n",
            " 98%|█████████▊| 3.72G/3.79G [02:14<00:01, 56.5MiB/s]\u001b[A\n",
            " 98%|█████████▊| 3.72G/3.79G [02:15<00:00, 62.1MiB/s]\u001b[A\n",
            " 99%|█████████▊| 3.73G/3.79G [02:15<00:00, 61.7MiB/s]\u001b[A\n",
            " 99%|█████████▉| 3.74G/3.79G [02:15<00:00, 59.0MiB/s]\u001b[A\n",
            " 99%|█████████▉| 3.75G/3.79G [02:15<00:00, 56.8MiB/s]\u001b[A\n",
            " 99%|█████████▉| 3.75G/3.79G [02:15<00:00, 54.6MiB/s]\u001b[A\n",
            " 99%|█████████▉| 3.76G/3.79G [02:15<00:00, 59.2MiB/s]\u001b[A\n",
            " 99%|█████████▉| 3.77G/3.79G [02:15<00:00, 59.8MiB/s]\u001b[A\n",
            "100%|█████████▉| 3.77G/3.79G [02:15<00:00, 49.0MiB/s]\u001b[A\n",
            "100%|█████████▉| 3.78G/3.79G [02:16<00:00, 50.2MiB/s]\u001b[A\n",
            "100%|██████████| 3.79G/3.79G [02:16<00:00, 27.8MiB/s]\n"
          ]
        },
        {
          "output_type": "stream",
          "name": "stdout",
          "text": [
            "Model downloaded at:  /root/.cache/gpt4all/ggml-gpt4all-j-v1.3-groovy.bin\n"
          ]
        },
        {
          "output_type": "stream",
          "name": "stderr",
          "text": [
            "\r 17%|█▋        | 1/6 [06:41<33:26, 401.35s/it]"
          ]
        },
        {
          "output_type": "stream",
          "name": "stdout",
          "text": [
            "\n"
          ]
        },
        {
          "output_type": "stream",
          "name": "stderr",
          "text": [
            "\r 33%|███▎      | 2/6 [10:53<20:55, 313.80s/it]"
          ]
        },
        {
          "output_type": "stream",
          "name": "stdout",
          "text": [
            "\n"
          ]
        },
        {
          "output_type": "stream",
          "name": "stderr",
          "text": [
            "\r 50%|█████     | 3/6 [15:25<14:43, 294.55s/it]"
          ]
        },
        {
          "output_type": "stream",
          "name": "stdout",
          "text": [
            "\n"
          ]
        },
        {
          "output_type": "stream",
          "name": "stderr",
          "text": [
            "\r 67%|██████▋   | 4/6 [21:21<10:37, 318.96s/it]"
          ]
        },
        {
          "output_type": "stream",
          "name": "stdout",
          "text": [
            "\n"
          ]
        },
        {
          "output_type": "stream",
          "name": "stderr",
          "text": [
            "\r 83%|████████▎ | 5/6 [27:57<05:46, 346.55s/it]"
          ]
        },
        {
          "output_type": "stream",
          "name": "stdout",
          "text": [
            "\n"
          ]
        },
        {
          "output_type": "stream",
          "name": "stderr",
          "text": [
            "100%|██████████| 6/6 [35:21<00:00, 353.60s/it]"
          ]
        },
        {
          "output_type": "stream",
          "name": "stdout",
          "text": [
            "\n"
          ]
        },
        {
          "output_type": "stream",
          "name": "stderr",
          "text": [
            "\n"
          ]
        },
        {
          "output_type": "execute_result",
          "data": {
            "text/plain": [
              "['positive', 'positive', 'negative', 'negative', 'negative', 'negative']"
            ]
          },
          "metadata": {},
          "execution_count": 7
        }
      ]
    },
    {
      "cell_type": "markdown",
      "source": [
        "Now, assuming we don't have labels for the data."
      ],
      "metadata": {
        "id": "FWflixQ5Mo5n"
      }
    },
    {
      "cell_type": "code",
      "source": [
        "# defining the model\n",
        "clf_gpt4all_no_label = ZeroShotGPTClassifier(openai_model=\"gpt4all::ggml-gpt4all-j-v1.3-groovy\")\n",
        "\n",
        "# No training so passing the labels only for prediction\n",
        "clf_gpt4all_no_label.fit(None, ['positive', 'negative', 'neutral'])"
      ],
      "metadata": {
        "id": "D5umxTnNJJLc",
        "outputId": "3bf923b9-07ab-4239-e1d2-b73165fa606e",
        "colab": {
          "base_uri": "https://localhost:8080/",
          "height": 75
        }
      },
      "execution_count": null,
      "outputs": [
        {
          "output_type": "execute_result",
          "data": {
            "text/plain": [
              "ZeroShotGPTClassifier(openai_model='gpt4all::ggml-gpt4all-j-v1.3-groovy')"
            ],
            "text/html": [
              "<style>#sk-container-id-4 {color: black;background-color: white;}#sk-container-id-4 pre{padding: 0;}#sk-container-id-4 div.sk-toggleable {background-color: white;}#sk-container-id-4 label.sk-toggleable__label {cursor: pointer;display: block;width: 100%;margin-bottom: 0;padding: 0.3em;box-sizing: border-box;text-align: center;}#sk-container-id-4 label.sk-toggleable__label-arrow:before {content: \"▸\";float: left;margin-right: 0.25em;color: #696969;}#sk-container-id-4 label.sk-toggleable__label-arrow:hover:before {color: black;}#sk-container-id-4 div.sk-estimator:hover label.sk-toggleable__label-arrow:before {color: black;}#sk-container-id-4 div.sk-toggleable__content {max-height: 0;max-width: 0;overflow: hidden;text-align: left;background-color: #f0f8ff;}#sk-container-id-4 div.sk-toggleable__content pre {margin: 0.2em;color: black;border-radius: 0.25em;background-color: #f0f8ff;}#sk-container-id-4 input.sk-toggleable__control:checked~div.sk-toggleable__content {max-height: 200px;max-width: 100%;overflow: auto;}#sk-container-id-4 input.sk-toggleable__control:checked~label.sk-toggleable__label-arrow:before {content: \"▾\";}#sk-container-id-4 div.sk-estimator input.sk-toggleable__control:checked~label.sk-toggleable__label {background-color: #d4ebff;}#sk-container-id-4 div.sk-label input.sk-toggleable__control:checked~label.sk-toggleable__label {background-color: #d4ebff;}#sk-container-id-4 input.sk-hidden--visually {border: 0;clip: rect(1px 1px 1px 1px);clip: rect(1px, 1px, 1px, 1px);height: 1px;margin: -1px;overflow: hidden;padding: 0;position: absolute;width: 1px;}#sk-container-id-4 div.sk-estimator {font-family: monospace;background-color: #f0f8ff;border: 1px dotted black;border-radius: 0.25em;box-sizing: border-box;margin-bottom: 0.5em;}#sk-container-id-4 div.sk-estimator:hover {background-color: #d4ebff;}#sk-container-id-4 div.sk-parallel-item::after {content: \"\";width: 100%;border-bottom: 1px solid gray;flex-grow: 1;}#sk-container-id-4 div.sk-label:hover label.sk-toggleable__label {background-color: #d4ebff;}#sk-container-id-4 div.sk-serial::before {content: \"\";position: absolute;border-left: 1px solid gray;box-sizing: border-box;top: 0;bottom: 0;left: 50%;z-index: 0;}#sk-container-id-4 div.sk-serial {display: flex;flex-direction: column;align-items: center;background-color: white;padding-right: 0.2em;padding-left: 0.2em;position: relative;}#sk-container-id-4 div.sk-item {position: relative;z-index: 1;}#sk-container-id-4 div.sk-parallel {display: flex;align-items: stretch;justify-content: center;background-color: white;position: relative;}#sk-container-id-4 div.sk-item::before, #sk-container-id-4 div.sk-parallel-item::before {content: \"\";position: absolute;border-left: 1px solid gray;box-sizing: border-box;top: 0;bottom: 0;left: 50%;z-index: -1;}#sk-container-id-4 div.sk-parallel-item {display: flex;flex-direction: column;z-index: 1;position: relative;background-color: white;}#sk-container-id-4 div.sk-parallel-item:first-child::after {align-self: flex-end;width: 50%;}#sk-container-id-4 div.sk-parallel-item:last-child::after {align-self: flex-start;width: 50%;}#sk-container-id-4 div.sk-parallel-item:only-child::after {width: 0;}#sk-container-id-4 div.sk-dashed-wrapped {border: 1px dashed gray;margin: 0 0.4em 0.5em 0.4em;box-sizing: border-box;padding-bottom: 0.4em;background-color: white;}#sk-container-id-4 div.sk-label label {font-family: monospace;font-weight: bold;display: inline-block;line-height: 1.2em;}#sk-container-id-4 div.sk-label-container {text-align: center;}#sk-container-id-4 div.sk-container {/* jupyter's `normalize.less` sets `[hidden] { display: none; }` but bootstrap.min.css set `[hidden] { display: none !important; }` so we also need the `!important` here to be able to override the default hidden behavior on the sphinx rendered scikit-learn.org. See: https://github.com/scikit-learn/scikit-learn/issues/21755 */display: inline-block !important;position: relative;}#sk-container-id-4 div.sk-text-repr-fallback {display: none;}</style><div id=\"sk-container-id-4\" class=\"sk-top-container\"><div class=\"sk-text-repr-fallback\"><pre>ZeroShotGPTClassifier(openai_model=&#x27;gpt4all::ggml-gpt4all-j-v1.3-groovy&#x27;)</pre><b>In a Jupyter environment, please rerun this cell to show the HTML representation or trust the notebook. <br />On GitHub, the HTML representation is unable to render, please try loading this page with nbviewer.org.</b></div><div class=\"sk-container\" hidden><div class=\"sk-item\"><div class=\"sk-estimator sk-toggleable\"><input class=\"sk-toggleable__control sk-hidden--visually\" id=\"sk-estimator-id-4\" type=\"checkbox\" checked><label for=\"sk-estimator-id-4\" class=\"sk-toggleable__label sk-toggleable__label-arrow\">ZeroShotGPTClassifier</label><div class=\"sk-toggleable__content\"><pre>ZeroShotGPTClassifier(openai_model=&#x27;gpt4all::ggml-gpt4all-j-v1.3-groovy&#x27;)</pre></div></div></div></div></div>"
            ]
          },
          "metadata": {},
          "execution_count": 12
        }
      ]
    },
    {
      "cell_type": "code",
      "source": [
        "%%time\n",
        "# predicting the labels\n",
        "labels = clf_gpt4all_no_label.predict(X_subset)\n",
        "labels"
      ],
      "metadata": {
        "id": "7U5hYzcUSHjC",
        "outputId": "4ea3a75d-5a08-4226-d4f4-224c8834cb3f",
        "colab": {
          "base_uri": "https://localhost:8080/"
        }
      },
      "execution_count": null,
      "outputs": [
        {
          "output_type": "stream",
          "name": "stderr",
          "text": [
            " 17%|█▋        | 1/6 [19:43<1:38:39, 1183.83s/it]"
          ]
        },
        {
          "output_type": "stream",
          "name": "stdout",
          "text": [
            "\n"
          ]
        },
        {
          "output_type": "stream",
          "name": "stderr",
          "text": [
            "\r 33%|███▎      | 2/6 [26:44<49:00, 735.00s/it]   "
          ]
        },
        {
          "output_type": "stream",
          "name": "stdout",
          "text": [
            "\n"
          ]
        },
        {
          "output_type": "stream",
          "name": "stderr",
          "text": [
            "\r 50%|█████     | 3/6 [34:31<30:38, 612.77s/it]"
          ]
        },
        {
          "output_type": "stream",
          "name": "stdout",
          "text": [
            "\n"
          ]
        },
        {
          "output_type": "stream",
          "name": "stderr",
          "text": [
            "\r 67%|██████▋   | 4/6 [54:11<27:53, 836.68s/it]"
          ]
        },
        {
          "output_type": "stream",
          "name": "stdout",
          "text": [
            "\n"
          ]
        },
        {
          "output_type": "stream",
          "name": "stderr",
          "text": [
            "\r 83%|████████▎ | 5/6 [1:00:58<11:21, 681.72s/it]"
          ]
        },
        {
          "output_type": "stream",
          "name": "stdout",
          "text": [
            "\n"
          ]
        },
        {
          "output_type": "stream",
          "name": "stderr",
          "text": [
            "100%|██████████| 6/6 [1:08:38<00:00, 686.39s/it]"
          ]
        },
        {
          "output_type": "stream",
          "name": "stdout",
          "text": [
            "\n",
            "CPU times: user 1h 59min 59s, sys: 5.3 s, total: 2h 4s\n",
            "Wall time: 1h 8min 38s\n"
          ]
        },
        {
          "output_type": "stream",
          "name": "stderr",
          "text": [
            "\n"
          ]
        },
        {
          "output_type": "execute_result",
          "data": {
            "text/plain": [
              "['positive', 'positive', 'negative', 'negative', 'negative', 'negative']"
            ]
          },
          "metadata": {},
          "execution_count": 13
        }
      ]
    },
    {
      "cell_type": "code",
      "source": [],
      "metadata": {
        "id": "PPVI0FkZSNHm"
      },
      "execution_count": null,
      "outputs": []
    }
  ]
}